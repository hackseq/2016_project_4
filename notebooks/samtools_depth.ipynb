{
 "cells": [
  {
   "cell_type": "markdown",
   "metadata": {
    "nbpresent": {
     "id": "b5c7b9b6-7102-46ef-9154-f0268e8187e1"
    }
   },
   "source": [
    "SAMTOOLS DEPTH ON MULTIPLE BAMS\n",
    "==============================="
   ]
  },
  {
   "cell_type": "code",
   "execution_count": 1,
   "metadata": {
    "collapsed": false,
    "nbpresent": {
     "id": "70a88d74-05e7-47c1-85d3-7ccbdbc883d5"
    }
   },
   "outputs": [
    {
     "name": "stdout",
     "output_type": "stream",
     "text": [
      "samtools 1.3.1\r\n",
      "Using htslib 1.3.1\r\n",
      "Copyright (C) 2016 Genome Research Ltd.\r\n"
     ]
    }
   ],
   "source": [
    "! samtools --version"
   ]
  },
  {
   "cell_type": "markdown",
   "metadata": {
    "nbpresent": {
     "id": "4f260654-c479-414d-be80-8d01dc6519f3"
    }
   },
   "source": [
    "``samtools depth`` requires:\n",
    "- indexed bam files \n",
    "\n",
    "I'm using default filters in the next section.\n",
    "See ``depth`` [manual](http://www.htslib.org/doc/samtools.html) for more info.\n",
    "\n",
    "Create a list of input file paths\n",
    "----------------------------------\n",
    "Example:"
   ]
  },
  {
   "cell_type": "code",
   "execution_count": 20,
   "metadata": {
    "collapsed": false,
    "nbpresent": {
     "id": "54ce66e0-e7f3-48ef-845a-6de5aca72923"
    }
   },
   "outputs": [
    {
     "name": "stdout",
     "output_type": "stream",
     "text": [
      "/hackathon/Hackathon_Project_4/FINAL_BAM//ENCFF000CWZ_chr22_RNA-seq_rg_recalibrated_fix_header_no_mmap.bam\n",
      "/hackathon/Hackathon_Project_4/FINAL_BAM//ENCFF000CXF_chr22_RNA-seq_rg_recalibrated_fix_header_no_mmap.bam\n",
      "/hackathon/Hackathon_Project_4/FINAL_BAM//ENCFF000CXQ_chr22_RNA-seq_rg_recalibrated_fix_header_no_mmap.bam\n",
      "/hackathon/Hackathon_Project_4/FINAL_BAM//ENCFF000CZN_chr22_RNA-seq_rg_recalibrated_fix_header_no_mmap.bam\n",
      "/hackathon/Hackathon_Project_4/FINAL_BAM//ENCFF000CZY_chr22_RNA-seq_rg_recalibrated_fix_header_no_mmap.bam\n",
      "148 /hackathon/Hackathon_Project_4/DEPTH/input_all_rg_final.txt\n"
     ]
    }
   ],
   "source": [
    "%%bash\n",
    "INPUT_DIRECTORY=\"/hackathon/Hackathon_Project_4/FINAL_BAM/\"\n",
    "OUTPUT_DIRECTORY=\"/hackathon/Hackathon_Project_4/DEPTH\"\n",
    "OUTPUT_FILE=\"input_all_rg_final.txt\"\n",
    "\n",
    "ls ${INPUT_DIRECTORY}/*bam > ${OUTPUT_DIRECTORY}/${OUTPUT_FILE}\n",
    "head -n 5 ${OUTPUT_DIRECTORY}/${OUTPUT_FILE}\n",
    "wc -l ${OUTPUT_DIRECTORY}/${OUTPUT_FILE}\n"
   ]
  },
  {
   "cell_type": "markdown",
   "metadata": {},
   "source": [
    "Remove problematic samples (skip this):"
   ]
  },
  {
   "cell_type": "code",
   "execution_count": 21,
   "metadata": {
    "collapsed": true
   },
   "outputs": [],
   "source": [
    "%%bash\n",
    "#grep -vf <(awk -F \":\" '{print $3}' /hackathon/Hackathon_Project_4/problematic_samples.txt) /hackathon/Hackathon_Project_4/DEPTH/input_all_rg.txt > /hackathon/Hackathon_Project_4/DEPTH/input_all_rg_problematic_excluded.txt"
   ]
  },
  {
   "cell_type": "markdown",
   "metadata": {
    "nbpresent": {
     "id": "7f48122b-1c53-4d56-9e83-f298ef574ccb"
    }
   },
   "source": [
    "Generating depths with a list of input bams\n",
    "--------------------------------------------\n",
    "\n",
    "This step takes a while if the number of input files is large. The ``-@`` option works for ``sort`` and ``view``. It does not seem to work for ``depth`` in v1.3.1 - posted a comment [here](https://github.com/samtools/samtools/issues/348). An alternative is to run this in parallel. However the challenge would be to aggregate positions in individual samples.\n",
    "\n",
    "Mapping quality and base quality filters used for ``depth`` are configured to match [GATK haplotype caller](https://software.broadinstitute.org/gatk/gatkdocs/org_broadinstitute_gatk_tools_walkers_haplotypecaller_HaplotypeCaller.php) defaults. We also increased the theshold for maximum depth. Note that ``depth`` does not include flag filters, so there may be discrepancies between GATK coverage and the output of ``samtools depth`` in regions with unmapped reads, duplicate reads."
   ]
  },
  {
   "cell_type": "code",
   "execution_count": 17,
   "metadata": {
    "collapsed": false,
    "nbpresent": {
     "id": "9f8a4bad-bb58-4bab-8c16-d162481daa75"
    }
   },
   "outputs": [
    {
     "name": "stdout",
     "output_type": "stream",
     "text": [
      "148 /hackathon/Hackathon_Project_4/DEPTH/input_all_rg_final.txt\n",
      "time samtools depth -d 1000000 -q20  -Q10 -f /hackathon/Hackathon_Project_4/DEPTH/input_all_rg_final.txt -r chr22 > /hackathon/Hackathon_Project_4/DEPTH/depths_all_rg_final.txt\n",
      "Depths obtained /hackathon/Hackathon_Project_4/DEPTH/depths_all_rg_final.txt\n"
     ]
    }
   ],
   "source": [
    "%%bash\n",
    "INPUT_DIRECTORY=\"/hackathon/Hackathon_Project_4/DEPTH\"\n",
    "INPUT_FILE=\"input_all_rg_final.txt\"\n",
    "OUTPUT_FILE=\"depths_all_rg_final.txt\"\n",
    "REGION=\"chr22\"\n",
    "wc -l ${INPUT_DIRECTORY}/${INPUT_FILE}\n",
    "# using -d 1000000 to override default coverage cap\n",
    "echo \"time samtools depth -d 1000000 -q20  -Q10 -f ${INPUT_DIRECTORY}/${INPUT_FILE} -r $REGION > ${INPUT_DIRECTORY}/${OUTPUT_FILE}\"\n",
    "if [ $? -ne 0 ]; \n",
    "then\n",
    "    touch \"${INPUT_DIRECTORY}/depth.failure\"\n",
    "else\n",
    "    touch \"${INPUT_DIRECTORY}/depth.success\"\n",
    "fi\n",
    "\n",
    "echo \"Depths obtained ${INPUT_DIRECTORY}/${OUTPUT_FILE}\""
   ]
  },
  {
   "cell_type": "markdown",
   "metadata": {
    "collapsed": true
   },
   "source": [
    "The output is a position by sample matrix. The columns are ``chromsome``, ``position``, followed by coverage for each sample in the order of the input file. The following is a small data set with 50 samples generated with ``input50.txt``. "
   ]
  },
  {
   "cell_type": "code",
   "execution_count": null,
   "metadata": {
    "collapsed": false
   },
   "outputs": [],
   "source": [
    "%%bash\n",
    "\n",
    "printf \"Number of columns: $(awk -F'\\t' '{print NF; exit}' /hackathon/Hackathon_Project_4/DEPTH/depths50chr22.txt)\\n\"\n",
    "head /hackathon/Hackathon_Project_4/DEPTH/test/depths50chr22.txt\n"
   ]
  },
  {
   "cell_type": "markdown",
   "metadata": {},
   "source": [
    "Running depth on individual bams with parallel\n",
    "----------------------------------------------\n",
    "\n"
   ]
  },
  {
   "cell_type": "code",
   "execution_count": 18,
   "metadata": {
    "collapsed": false
   },
   "outputs": [
    {
     "name": "stdout",
     "output_type": "stream",
     "text": [
      "148 /hackathon/Hackathon_Project_4/DEPTH/filtered/depth_commands\n",
      "samtools depth -aa -d 1000000 -q20 -Q10 /hackathon/Hackathon_Project_4/FINAL_BAM/ENCFF000CWZ_chr22_RNA-seq_rg_recalibrated_fix_header_no_mmap.bam -r chr22 > /hackathon/Hackathon_Project_4/DEPTH/filtered/ENCFF000CWZ_chr22_RNA-seq_rg_recalibrated_fix_header_no_mmap.DEPTH 2> /hackathon/Hackathon_Project_4/DEPTH/filtered/ENCFF000CWZ_chr22_RNA-seq_rg_recalibrated_fix_header_no_mmap.log\n",
      "samtools depth -aa -d 1000000 -q20 -Q10 /hackathon/Hackathon_Project_4/FINAL_BAM/ENCFF000CXF_chr22_RNA-seq_rg_recalibrated_fix_header_no_mmap.bam -r chr22 > /hackathon/Hackathon_Project_4/DEPTH/filtered/ENCFF000CXF_chr22_RNA-seq_rg_recalibrated_fix_header_no_mmap.DEPTH 2> /hackathon/Hackathon_Project_4/DEPTH/filtered/ENCFF000CXF_chr22_RNA-seq_rg_recalibrated_fix_header_no_mmap.log\n",
      "samtools depth -aa -d 1000000 -q20 -Q10 /hackathon/Hackathon_Project_4/FINAL_BAM/ENCFF000CXQ_chr22_RNA-seq_rg_recalibrated_fix_header_no_mmap.bam -r chr22 > /hackathon/Hackathon_Project_4/DEPTH/filtered/ENCFF000CXQ_chr22_RNA-seq_rg_recalibrated_fix_header_no_mmap.DEPTH 2> /hackathon/Hackathon_Project_4/DEPTH/filtered/ENCFF000CXQ_chr22_RNA-seq_rg_recalibrated_fix_header_no_mmap.log\n",
      "samtools depth -aa -d 1000000 -q20 -Q10 /hackathon/Hackathon_Project_4/FINAL_BAM/ENCFF000CZN_chr22_RNA-seq_rg_recalibrated_fix_header_no_mmap.bam -r chr22 > /hackathon/Hackathon_Project_4/DEPTH/filtered/ENCFF000CZN_chr22_RNA-seq_rg_recalibrated_fix_header_no_mmap.DEPTH 2> /hackathon/Hackathon_Project_4/DEPTH/filtered/ENCFF000CZN_chr22_RNA-seq_rg_recalibrated_fix_header_no_mmap.log\n",
      "samtools depth -aa -d 1000000 -q20 -Q10 /hackathon/Hackathon_Project_4/FINAL_BAM/ENCFF000CZY_chr22_RNA-seq_rg_recalibrated_fix_header_no_mmap.bam -r chr22 > /hackathon/Hackathon_Project_4/DEPTH/filtered/ENCFF000CZY_chr22_RNA-seq_rg_recalibrated_fix_header_no_mmap.DEPTH 2> /hackathon/Hackathon_Project_4/DEPTH/filtered/ENCFF000CZY_chr22_RNA-seq_rg_recalibrated_fix_header_no_mmap.log\n"
     ]
    }
   ],
   "source": [
    "%%bash\n",
    "OUTPUT_DIRECTORY=\"/hackathon/Hackathon_Project_4/DEPTH/filtered\"\n",
    "INDEXED_BAMPATHS=\"/hackathon/Hackathon_Project_4/FINAL_BAM/*bam\"\n",
    "DEPTH_COMMANDS_FILE=${OUTPUT_DIRECTORY}/\"depth_commands\"\n",
    "CHROMOSOME=\"chr22\"\n",
    "for bam in $(ls $INDEXED_BAMPATHS);\n",
    "do\n",
    "    # change the regex extension replacement \n",
    "    DEPTH_COMMAND=\"samtools depth -aa -d 1000000 -q20  -Q10 $bam -r $CHROMOSOME > ${OUTPUT_DIRECTORY}/$(basename $bam|sed 's/.bam/.DEPTH/g') 2> ${OUTPUT_DIRECTORY}/$(basename $bam|sed 's/.bam/.log/g')\"\n",
    "    echo $DEPTH_COMMAND\n",
    "done > $DEPTH_COMMANDS_FILE\n",
    "\n",
    "wc -l ${DEPTH_COMMANDS_FILE}\n",
    "head -n 5 ${DEPTH_COMMANDS_FILE}"
   ]
  },
  {
   "cell_type": "markdown",
   "metadata": {},
   "source": [
    "Now we have a commands file we can use with parallel. Because this is already generated, I'm commenting out the line that executes this. Uncomment to re-run."
   ]
  },
  {
   "cell_type": "code",
   "execution_count": 19,
   "metadata": {
    "collapsed": false
   },
   "outputs": [
    {
     "name": "stdout",
     "output_type": "stream",
     "text": [
      "64\n",
      "/hackathon/Hackathon_Project_4/DEPTH/filtered/depth_commands\n"
     ]
    },
    {
     "name": "stderr",
     "output_type": "stream",
     "text": [
      "\n",
      "real\t11m16.991s\n",
      "user\t90m41.689s\n",
      "sys\t2m0.921s\n"
     ]
    }
   ],
   "source": [
    "%%bash\n",
    "nproc \n",
    "CORENUM=32 # change number of cores here\n",
    "OUTPUT_DIRECTORY=\"/hackathon/Hackathon_Project_4/DEPTH/filtered\"\n",
    "DEPTH_COMMANDS_FILE=${OUTPUT_DIRECTORY}/\"depth_commands\"\n",
    "echo ${DEPTH_COMMANDS_FILE}\n",
    "time cat ${DEPTH_COMMANDS_FILE} |parallel --gnu -j $CORENUM"
   ]
  },
  {
   "cell_type": "markdown",
   "metadata": {},
   "source": [
    "Sanity checking\n",
    "----------------\n",
    "\n",
    "Here are a couple of files generated with individual bams:\n",
    "\n",
    "``/hackathon/Hackathon_Project_4/DEPTH/single/ENCFF000ARG.chr22.depth``\n",
    "``/hackathon/Hackathon_Project_4/DEPTH/single/ENCFF000JAG.chr22.depth``\n",
    "\n",
    "These are samples 1 and 10 in the input file."
   ]
  },
  {
   "cell_type": "code",
   "execution_count": 5,
   "metadata": {
    "collapsed": false
   },
   "outputs": [
    {
     "name": "stdout",
     "output_type": "stream",
     "text": [
      "1:/hackathon/Hackathon_Project_4/ENCODE_DATA_GM12878/COMPLETED/ENCFF000ARG.bam\n",
      "10:/hackathon/Hackathon_Project_4/ENCODE_DATA_GM12878/COMPLETED/ENCFF000JAG.bam\n",
      "ENCFF000ARG\n",
      "Single sample\n",
      "chr22\t16850789\t12\n",
      "chr22\t16850790\t12\n",
      "chr22\t16850791\t12\n",
      "chr22\t16850792\t12\n",
      "chr22\t16850793\t13\n",
      "chr22\t16850794\t13\n",
      "chr22\t16850795\t13\n",
      "chr22\t16850796\t14\n",
      "chr22\t16850797\t16\n",
      "chr22\t16850798\t17\n",
      "Multi-sample\n",
      "chr22\t16850789\t12\n",
      "chr22\t16850790\t12\n",
      "chr22\t16850791\t12\n",
      "chr22\t16850792\t12\n",
      "chr22\t16850793\t13\n",
      "chr22\t16850794\t13\n",
      "chr22\t16850795\t13\n",
      "chr22\t16850796\t14\n",
      "chr22\t16850797\t16\n",
      "chr22\t16850798\t17\n",
      "\n",
      "ENCFF000JAG\n",
      "Single sample\n",
      "chr22\t16117756\t14\n",
      "chr22\t16117757\t14\n",
      "chr22\t16117758\t14\n",
      "chr22\t16117759\t14\n",
      "chr22\t16117760\t14\n",
      "chr22\t16117761\t14\n",
      "chr22\t16117762\t14\n",
      "chr22\t16117763\t14\n",
      "chr22\t16117764\t14\n",
      "chr22\t16117765\t14\n",
      "Multi-sample\n",
      "chr22\t16117756\t14\n",
      "chr22\t16117757\t14\n",
      "chr22\t16117758\t14\n",
      "chr22\t16117759\t14\n",
      "chr22\t16117760\t14\n",
      "chr22\t16117761\t14\n",
      "chr22\t16117762\t14\n",
      "chr22\t16117763\t14\n",
      "chr22\t16117764\t14\n",
      "chr22\t16117765\t14\n"
     ]
    },
    {
     "name": "stderr",
     "output_type": "stream",
     "text": [
      "awk: cmd. line:1: (FILENAME=/hackathon/Hackathon_Project_4/DEPTH/single/ENCFF000ARG.chr22.depth FNR=153973) fatal: print to \"standard output\" failed (Broken pipe)\n",
      "awk: cmd. line:1: (FILENAME=/hackathon/Hackathon_Project_4/DEPTH/single/ENCFF000ARG.chr22.depth FNR=153973) fatal: print to \"standard output\" failed (Broken pipe)\n",
      "awk: cmd. line:1: (FILENAME=/hackathon/Hackathon_Project_4/DEPTH/single/ENCFF000JAG.chr22.depth FNR=33467) fatal: print to \"standard output\" failed (Broken pipe)\n",
      "awk: cmd. line:1: (FILENAME=/hackathon/Hackathon_Project_4/DEPTH/single/ENCFF000JAG.chr22.depth FNR=33467) fatal: print to \"standard output\" failed (Broken pipe)\n"
     ]
    }
   ],
   "source": [
    "%%bash\n",
    "grep -n ENCFF000ARG /hackathon/Hackathon_Project_4/DEPTH/input50.txt\n",
    "grep -n ENCFF000JAG /hackathon/Hackathon_Project_4/DEPTH/input50.txt\n",
    "\n",
    "echo \"ENCFF000ARG\"\n",
    "\n",
    "# get coverage for sample in single sample depth file\n",
    "echo \"Single sample\"\n",
    "awk -F \"\\t\" '$3>10' /hackathon/Hackathon_Project_4/DEPTH/single/ENCFF000ARG.chr22.depth  | head\n",
    "awk -F \"\\t\" '$3>10' /hackathon/Hackathon_Project_4/DEPTH/single/ENCFF000ARG.chr22.depth  | head | cut -f 2 > /hackathon/Hackathon_Project_4/DEPTH/single/ENCFF000ARG.chr22.test.position\n",
    "\n",
    "# get coverage for selected sample in multi-sample depth file\n",
    "echo \"Multi-sample\"\n",
    "grep -w -f /hackathon/Hackathon_Project_4/DEPTH/single/ENCFF000ARG.chr22.test.position /hackathon/Hackathon_Project_4/DEPTH/depths50chr22.txt | cut -f 1,2,3\n",
    "echo \n",
    "\n",
    "echo \"ENCFF000JAG\"\n",
    "\n",
    "# get coverage for sample in single sample depth file\n",
    "echo \"Single sample\"\n",
    "awk -F \"\\t\" '$3>10' /hackathon/Hackathon_Project_4/DEPTH/single/ENCFF000JAG.chr22.depth  | head\n",
    "awk -F \"\\t\" '$3>10' /hackathon/Hackathon_Project_4/DEPTH/single/ENCFF000JAG.chr22.depth  | head | cut -f 2 > /hackathon/Hackathon_Project_4/DEPTH/single/ENCFF000JAG.chr22.test.position\n",
    "\n",
    "# get coverage for selected sample in multi-sample depth file\n",
    "echo \"Multi-sample\"\n",
    "grep -w -f /hackathon/Hackathon_Project_4/DEPTH/single/ENCFF000JAG.chr22.test.position /hackathon/Hackathon_Project_4/DEPTH/depths50chr22.txt | cut -f 1,2,12"
   ]
  },
  {
   "cell_type": "markdown",
   "metadata": {},
   "source": [
    "The coverage with single samples should match the data with multiple samples with the selected columns.\n",
    "\n",
    "You might see the following message:\n",
    "\n",
    "``\n",
    "awk: cmd. line:1: (FILENAME=/hackathon/Hackathon_Project_4/DEPTH/single/ENCFF000ARG.chr22.depth FNR=153973) fatal: print to \"standard output\" failed (Broken pipe)\n",
    "...\n",
    "``"
   ]
  },
  {
   "cell_type": "code",
   "execution_count": null,
   "metadata": {
    "collapsed": false
   },
   "outputs": [],
   "source": [
    "%%bash\n",
    "\n",
    "#samtools depth -f /hackathon/Hackathon_Project_4/DEPTH/input_all_rg_problematic_excluded.txt -q20 -Q10 -d 1000000 -r \"chr22\" |head "
   ]
  },
  {
   "cell_type": "markdown",
   "metadata": {},
   "source": [
    "generate a file with CHROM, POS, POS+1, sum of coverage\n",
    "--------------------------------------------------------"
   ]
  },
  {
   "cell_type": "code",
   "execution_count": null,
   "metadata": {
    "collapsed": true
   },
   "outputs": [],
   "source": [
    "# script to generate a file with CHROM, POS, POS+1, sum of coverage\n",
    "input_file=\"/hackathon/Hackathon_Project_4/DEPTH/HUGE.txt\"\n",
    "output_file=\"/hackathon/Hackathon_Project_4/DEPTH/HUGE_cov.txt\"\n",
    "\n",
    "import csv\n",
    "\n",
    "with open(input_file, 'r') as ifile, open(output_file, 'w') as ofile:\n",
    "    csvreader = csv.reader(ifile, delimiter=\"\\t\")\n",
    "    csvwriter = csv.writer(ofile, delimiter=\"\\t\")\n",
    "    counter = 0\n",
    "    for line in csvreader:\n",
    "        cov_sum = sum(map(lambda x: int(x) if x else 0,line[3:]))\n",
    "        csvwriter.writerow([ str(x) for x in [line[0], int(line[1]), int(line[2]), cov_sum]])\n",
    "        counter += 1\n",
    "        if counter%100000==0:\n",
    "            print(\"Parsed {} lines...\".format(counter))\n",
    "            \n",
    "print(\"Done\")"
   ]
  }
 ],
 "metadata": {
  "anaconda-cloud": {},
  "kernelspec": {
   "display_name": "Python [conda root]",
   "language": "python",
   "name": "conda-root-py"
  },
  "language_info": {
   "codemirror_mode": {
    "name": "ipython",
    "version": 2
   },
   "file_extension": ".py",
   "mimetype": "text/x-python",
   "name": "python",
   "nbconvert_exporter": "python",
   "pygments_lexer": "ipython2",
   "version": "2.7.12"
  },
  "nbpresent": {
   "slides": {},
   "themes": {}
  }
 },
 "nbformat": 4,
 "nbformat_minor": 1
}
