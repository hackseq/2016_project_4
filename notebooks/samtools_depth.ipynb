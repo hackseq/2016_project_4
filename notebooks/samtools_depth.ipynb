{
 "cells": [
  {
   "cell_type": "markdown",
   "metadata": {
    "nbpresent": {
     "id": "b5c7b9b6-7102-46ef-9154-f0268e8187e1"
    }
   },
   "source": [
    "SAMTOOLS DEPTH ON MULTIPLE BAMS\n",
    "==============================="
   ]
  },
  {
   "cell_type": "code",
   "execution_count": 1,
   "metadata": {
    "collapsed": false,
    "nbpresent": {
     "id": "70a88d74-05e7-47c1-85d3-7ccbdbc883d5"
    }
   },
   "outputs": [
    {
     "name": "stdout",
     "output_type": "stream",
     "text": [
      "samtools 1.3.1\r\n",
      "Using htslib 1.3.1\r\n",
      "Copyright (C) 2016 Genome Research Ltd.\r\n"
     ]
    }
   ],
   "source": [
    "! samtools --version"
   ]
  },
  {
   "cell_type": "markdown",
   "metadata": {
    "nbpresent": {
     "id": "4f260654-c479-414d-be80-8d01dc6519f3"
    }
   },
   "source": [
    "``samtools depth`` requires:\n",
    "- indexed bam files \n",
    "\n",
    "I'm using default filters in the next section.\n",
    "See ``depth`` [manual](http://www.htslib.org/doc/samtools.html) for more info.\n",
    "\n",
    "Create a list of input file paths\n",
    "----------------------------------\n",
    "Example:"
   ]
  },
  {
   "cell_type": "code",
   "execution_count": 13,
   "metadata": {
    "collapsed": false,
    "nbpresent": {
     "id": "54ce66e0-e7f3-48ef-845a-6de5aca72923"
    }
   },
   "outputs": [
    {
     "name": "stdout",
     "output_type": "stream",
     "text": [
      "/hackathon/Hackathon_Project_4/ENCODE_DATA_GM12878/COMPLETED/rg_bams/ENCFF000ARG_chr22_ChIP-seq_rg.bam\n",
      "/hackathon/Hackathon_Project_4/ENCODE_DATA_GM12878/COMPLETED/rg_bams/ENCFF000ARI_chr22_ChIP-seq_rg.bam\n",
      "/hackathon/Hackathon_Project_4/ENCODE_DATA_GM12878/COMPLETED/rg_bams/ENCFF000ARL_chr22_ChIP-seq_rg.bam\n",
      "/hackathon/Hackathon_Project_4/ENCODE_DATA_GM12878/COMPLETED/rg_bams/ENCFF000ARN_chr22_ChIP-seq_rg.bam\n",
      "/hackathon/Hackathon_Project_4/ENCODE_DATA_GM12878/COMPLETED/rg_bams/ENCFF000IYN_chr22_RNA-seq_rg.bam\n",
      "/hackathon/Hackathon_Project_4/ENCODE_DATA_GM12878/COMPLETED/rg_bams/ENCFF000IYW_chr22_RNA-seq_rg.bam\n",
      "/hackathon/Hackathon_Project_4/ENCODE_DATA_GM12878/COMPLETED/rg_bams/ENCFF000IZE_chr22_RNA-seq_rg.bam\n",
      "/hackathon/Hackathon_Project_4/ENCODE_DATA_GM12878/COMPLETED/rg_bams/ENCFF000IZF_chr22_RNA-seq_rg.bam\n",
      "/hackathon/Hackathon_Project_4/ENCODE_DATA_GM12878/COMPLETED/rg_bams/ENCFF000JAD_chr22_RNA-seq_rg.bam\n",
      "/hackathon/Hackathon_Project_4/ENCODE_DATA_GM12878/COMPLETED/rg_bams/ENCFF000JAG_chr22_RNA-seq_rg.bam\n"
     ]
    }
   ],
   "source": [
    "%%bash\n",
    "INPUT_DIRECTORY=\"/hackathon/Hackathon_Project_4/ENCODE_DATA_GM12878/COMPLETED/rg_bams\"\n",
    "OUTPUT_DIRECTORY=\"/hackathon/Hackathon_Project_4/DEPTH\"\n",
    "OUTPUT_FILE=\"input_all_rg.txt\"\n",
    "\n",
    "ls ${INPUT_DIRECTORY}/*bam > ${OUTPUT_DIRECTORY}/${OUTPUT_FILE}\n",
    "head ${OUTPUT_DIRECTORY}/${OUTPUT_FILE}"
   ]
  },
  {
   "cell_type": "markdown",
   "metadata": {
    "nbpresent": {
     "id": "7f48122b-1c53-4d56-9e83-f298ef574ccb"
    }
   },
   "source": [
    "Generating depths\n",
    "-----------------\n",
    "\n",
    "This step takes a while if the number of input files is large. The ``-@`` option works for ``sort`` and ``view``. It does not seem to work for ``depth`` in v1.3.1 - posted a comment [here](https://github.com/samtools/samtools/issues/348). An alternative is to run this in parallel. However the challenge would be to aggregate positions in individual samples."
   ]
  },
  {
   "cell_type": "code",
   "execution_count": 15,
   "metadata": {
    "collapsed": false,
    "nbpresent": {
     "id": "9f8a4bad-bb58-4bab-8c16-d162481daa75"
    }
   },
   "outputs": [
    {
     "name": "stdout",
     "output_type": "stream",
     "text": [
      "224 /hackathon/Hackathon_Project_4/DEPTH/input_all_rg.txt\n",
      "Depths obtained /hackathon/Hackathon_Project_4/DEPTH/depths_all_rg.txt\n"
     ]
    },
    {
     "name": "stderr",
     "output_type": "stream",
     "text": [
      "[W::bam_hdr_read] EOF marker is absent. The input is probably truncated.\n",
      "samtools depth: can't load index for \"/hackathon/Hackathon_Project_4/ENCODE_DATA_GM12878/COMPLETED/rg_bams/ENCFF000VVL_chr22_ChIP-seq_rg.bam\"\n"
     ]
    }
   ],
   "source": [
    "%%bash\n",
    "INPUT_DIRECTORY=\"/hackathon/Hackathon_Project_4/DEPTH\"\n",
    "INPUT_FILE=\"input_all_rg.txt\"\n",
    "OUTPUT_FILE=\"depths_all_rg.txt\"\n",
    "REGION=\"chr22\"\n",
    "wc -l ${INPUT_DIRECTORY}/${INPUT_FILE}\n",
    "# using -d 1000000 to override default coverage cap\n",
    "samtools depth -d 1000000 -f ${INPUT_DIRECTORY}/${INPUT_FILE} -r $REGION > ${INPUT_DIRECTORY}/${OUTPUT_FILE}\n",
    "echo \"Depths obtained ${INPUT_DIRECTORY}/${OUTPUT_FILE}\""
   ]
  },
  {
   "cell_type": "markdown",
   "metadata": {
    "collapsed": true
   },
   "source": [
    "The output is a position by sample matrix. The columns are ``chromsome``, ``position``, followed by coverage for each sample in the order of the input file. The following is a small data set with 50 samples generated with ``input50.txt``. "
   ]
  },
  {
   "cell_type": "code",
   "execution_count": 4,
   "metadata": {
    "collapsed": false
   },
   "outputs": [
    {
     "name": "stdout",
     "output_type": "stream",
     "text": [
      "Number of columns: 52\n",
      "chr22\t16050002\t0\t0\t0\t0\t0\t0\t0\t0\t0\t0\t0\t0\t0\t0\t0\t0\t0\t0\t0\t0\t0\t0\t0\t0\t0\t0\t0\t0\t0\t0\t0\t0\t0\t0\t0\t0\t0\t0\t0\t0\t0\t0\t0\t0\t0\t0\t1\t0\t0\t0\n",
      "chr22\t16050003\t0\t0\t0\t0\t0\t0\t0\t0\t0\t0\t0\t0\t0\t0\t0\t0\t0\t0\t0\t0\t0\t0\t0\t0\t0\t0\t0\t0\t0\t0\t0\t0\t0\t0\t0\t0\t0\t0\t0\t0\t0\t0\t0\t0\t0\t0\t1\t0\t0\t0\n",
      "chr22\t16050004\t0\t0\t0\t0\t0\t0\t0\t0\t0\t0\t0\t0\t0\t0\t0\t0\t0\t0\t0\t0\t0\t0\t0\t0\t0\t0\t0\t0\t0\t0\t0\t0\t0\t0\t0\t0\t0\t0\t0\t0\t0\t0\t0\t0\t0\t0\t1\t0\t0\t0\n",
      "chr22\t16050005\t0\t0\t0\t0\t0\t0\t0\t0\t0\t0\t0\t0\t0\t0\t0\t0\t0\t0\t0\t0\t0\t0\t0\t0\t0\t0\t0\t0\t0\t0\t0\t0\t0\t0\t0\t0\t0\t0\t0\t0\t0\t0\t0\t0\t0\t0\t1\t0\t0\t0\n",
      "chr22\t16050006\t0\t0\t0\t0\t0\t0\t0\t0\t0\t0\t0\t0\t0\t0\t0\t0\t0\t0\t0\t0\t0\t0\t0\t0\t0\t0\t0\t0\t0\t0\t0\t0\t0\t0\t0\t0\t0\t0\t0\t0\t0\t0\t0\t0\t0\t0\t1\t0\t0\t0\n",
      "chr22\t16050007\t0\t0\t0\t0\t0\t0\t0\t0\t0\t0\t0\t0\t0\t0\t0\t0\t0\t0\t0\t0\t0\t0\t0\t0\t0\t0\t0\t0\t0\t0\t0\t0\t0\t0\t0\t0\t0\t0\t0\t0\t0\t0\t1\t0\t0\t0\t1\t0\t0\t0\n",
      "chr22\t16050008\t0\t0\t0\t0\t0\t0\t0\t0\t0\t0\t0\t0\t0\t0\t0\t0\t0\t0\t0\t0\t0\t0\t0\t0\t0\t0\t0\t0\t0\t0\t0\t0\t0\t0\t0\t0\t0\t0\t0\t0\t0\t0\t1\t0\t0\t0\t1\t0\t0\t0\n",
      "chr22\t16050009\t0\t0\t0\t0\t0\t0\t0\t0\t0\t0\t0\t0\t0\t0\t0\t0\t0\t0\t0\t0\t0\t0\t0\t0\t0\t0\t0\t0\t0\t0\t0\t0\t0\t0\t0\t0\t0\t0\t0\t0\t0\t0\t1\t0\t0\t0\t1\t0\t0\t0\n",
      "chr22\t16050010\t0\t0\t0\t0\t0\t0\t0\t0\t0\t0\t0\t0\t0\t0\t0\t0\t0\t0\t0\t0\t0\t0\t0\t0\t0\t0\t0\t0\t0\t0\t0\t0\t0\t0\t0\t0\t0\t0\t0\t0\t0\t0\t1\t0\t0\t0\t1\t0\t0\t0\n",
      "chr22\t16050011\t0\t0\t0\t0\t0\t0\t0\t0\t0\t0\t0\t0\t0\t0\t0\t0\t0\t0\t0\t0\t0\t0\t0\t0\t0\t0\t0\t0\t0\t0\t0\t0\t0\t0\t0\t0\t0\t0\t0\t0\t0\t0\t1\t0\t0\t0\t1\t0\t0\t0\n"
     ]
    }
   ],
   "source": [
    "%%bash\n",
    "\n",
    "printf \"Number of columns: $(awk -F'\\t' '{print NF; exit}' /hackathon/Hackathon_Project_4/DEPTH/depths50chr22.txt)\\n\"\n",
    "head /hackathon/Hackathon_Project_4/DEPTH/depths50chr22.txt\n"
   ]
  },
  {
   "cell_type": "markdown",
   "metadata": {},
   "source": [
    "Sanity checking\n",
    "----------------\n",
    "\n",
    "Here are a couple of files generated with individual bams:\n",
    "\n",
    "``/hackathon/Hackathon_Project_4/DEPTH/single/ENCFF000ARG.chr22.depth``\n",
    "``/hackathon/Hackathon_Project_4/DEPTH/single/ENCFF000JAG.chr22.depth``"
   ]
  },
  {
   "cell_type": "code",
   "execution_count": 5,
   "metadata": {
    "collapsed": false
   },
   "outputs": [
    {
     "name": "stdout",
     "output_type": "stream",
     "text": [
      "1:/hackathon/Hackathon_Project_4/ENCODE_DATA_GM12878/COMPLETED/ENCFF000ARG.bam\n",
      "10:/hackathon/Hackathon_Project_4/ENCODE_DATA_GM12878/COMPLETED/ENCFF000JAG.bam\n",
      "ENCFF000ARG\n",
      "Single sample\n",
      "chr22\t16850789\t12\n",
      "chr22\t16850790\t12\n",
      "chr22\t16850791\t12\n",
      "chr22\t16850792\t12\n",
      "chr22\t16850793\t13\n",
      "chr22\t16850794\t13\n",
      "chr22\t16850795\t13\n",
      "chr22\t16850796\t14\n",
      "chr22\t16850797\t16\n",
      "chr22\t16850798\t17\n",
      "Multi-sample\n",
      "chr22\t16850789\t12\n",
      "chr22\t16850790\t12\n",
      "chr22\t16850791\t12\n",
      "chr22\t16850792\t12\n",
      "chr22\t16850793\t13\n",
      "chr22\t16850794\t13\n",
      "chr22\t16850795\t13\n",
      "chr22\t16850796\t14\n",
      "chr22\t16850797\t16\n",
      "chr22\t16850798\t17\n",
      "\n",
      "ENCFF000JAG\n",
      "Single sample\n",
      "chr22\t16117756\t14\n",
      "chr22\t16117757\t14\n",
      "chr22\t16117758\t14\n",
      "chr22\t16117759\t14\n",
      "chr22\t16117760\t14\n",
      "chr22\t16117761\t14\n",
      "chr22\t16117762\t14\n",
      "chr22\t16117763\t14\n",
      "chr22\t16117764\t14\n",
      "chr22\t16117765\t14\n",
      "Multi-sample\n",
      "chr22\t16117756\t14\n",
      "chr22\t16117757\t14\n",
      "chr22\t16117758\t14\n",
      "chr22\t16117759\t14\n",
      "chr22\t16117760\t14\n",
      "chr22\t16117761\t14\n",
      "chr22\t16117762\t14\n",
      "chr22\t16117763\t14\n",
      "chr22\t16117764\t14\n",
      "chr22\t16117765\t14\n"
     ]
    },
    {
     "name": "stderr",
     "output_type": "stream",
     "text": [
      "awk: cmd. line:1: (FILENAME=/hackathon/Hackathon_Project_4/DEPTH/single/ENCFF000ARG.chr22.depth FNR=153973) fatal: print to \"standard output\" failed (Broken pipe)\n",
      "awk: cmd. line:1: (FILENAME=/hackathon/Hackathon_Project_4/DEPTH/single/ENCFF000ARG.chr22.depth FNR=153973) fatal: print to \"standard output\" failed (Broken pipe)\n",
      "awk: cmd. line:1: (FILENAME=/hackathon/Hackathon_Project_4/DEPTH/single/ENCFF000JAG.chr22.depth FNR=33467) fatal: print to \"standard output\" failed (Broken pipe)\n",
      "awk: cmd. line:1: (FILENAME=/hackathon/Hackathon_Project_4/DEPTH/single/ENCFF000JAG.chr22.depth FNR=33467) fatal: print to \"standard output\" failed (Broken pipe)\n"
     ]
    }
   ],
   "source": [
    "%%bash\n",
    "grep -n ENCFF000ARG /hackathon/Hackathon_Project_4/DEPTH/input50.txt\n",
    "grep -n ENCFF000JAG /hackathon/Hackathon_Project_4/DEPTH/input50.txt\n",
    "\n",
    "echo \"ENCFF000ARG\"\n",
    "\n",
    "# get coverage for sample in single sample depth file\n",
    "echo \"Single sample\"\n",
    "awk -F \"\\t\" '$3>10' /hackathon/Hackathon_Project_4/DEPTH/single/ENCFF000ARG.chr22.depth  | head\n",
    "awk -F \"\\t\" '$3>10' /hackathon/Hackathon_Project_4/DEPTH/single/ENCFF000ARG.chr22.depth  | head | cut -f 2 > /hackathon/Hackathon_Project_4/DEPTH/single/ENCFF000ARG.chr22.test.position\n",
    "\n",
    "# get coverage for selected sample in multi-sample depth file\n",
    "echo \"Multi-sample\"\n",
    "grep -w -f /hackathon/Hackathon_Project_4/DEPTH/single/ENCFF000ARG.chr22.test.position /hackathon/Hackathon_Project_4/DEPTH/depths50chr22.txt | cut -f 1,2,3\n",
    "echo \n",
    "\n",
    "echo \"ENCFF000JAG\"\n",
    "\n",
    "# get coverage for sample in single sample depth file\n",
    "echo \"Single sample\"\n",
    "awk -F \"\\t\" '$3>10' /hackathon/Hackathon_Project_4/DEPTH/single/ENCFF000JAG.chr22.depth  | head\n",
    "awk -F \"\\t\" '$3>10' /hackathon/Hackathon_Project_4/DEPTH/single/ENCFF000JAG.chr22.depth  | head | cut -f 2 > /hackathon/Hackathon_Project_4/DEPTH/single/ENCFF000JAG.chr22.test.position\n",
    "\n",
    "# get coverage for selected sample in multi-sample depth file\n",
    "echo \"Multi-sample\"\n",
    "grep -w -f /hackathon/Hackathon_Project_4/DEPTH/single/ENCFF000JAG.chr22.test.position /hackathon/Hackathon_Project_4/DEPTH/depths50chr22.txt | cut -f 1,2,12"
   ]
  },
  {
   "cell_type": "markdown",
   "metadata": {},
   "source": [
    "The coverage with single samples should match the data with multiple samples with the selected columns.\n",
    "\n",
    "You might see the following message:\n",
    "\n",
    "``\n",
    "awk: cmd. line:1: (FILENAME=/hackathon/Hackathon_Project_4/DEPTH/single/ENCFF000ARG.chr22.depth FNR=153973) fatal: print to \"standard output\" failed (Broken pipe)\n",
    "...\n",
    "``"
   ]
  }
 ],
 "metadata": {
  "anaconda-cloud": {},
  "kernelspec": {
   "display_name": "Python [conda root]",
   "language": "python",
   "name": "conda-root-py"
  },
  "language_info": {
   "codemirror_mode": {
    "name": "ipython",
    "version": 2
   },
   "file_extension": ".py",
   "mimetype": "text/x-python",
   "name": "python",
   "nbconvert_exporter": "python",
   "pygments_lexer": "ipython2",
   "version": "2.7.12"
  },
  "nbpresent": {
   "slides": {},
   "themes": {}
  }
 },
 "nbformat": 4,
 "nbformat_minor": 1
}
