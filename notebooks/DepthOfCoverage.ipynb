{
 "cells": [
  {
   "cell_type": "code",
   "execution_count": 1,
   "metadata": {
    "collapsed": false
   },
   "outputs": [
    {
     "data": {
      "text/plain": [
       "u'/hackathon/Hackathon_Project_4/2016_project_4/notebooks'"
      ]
     },
     "execution_count": 1,
     "metadata": {},
     "output_type": "execute_result"
    }
   ],
   "source": [
    "%pwd"
   ]
  },
  {
   "cell_type": "code",
   "execution_count": 2,
   "metadata": {
    "collapsed": false
   },
   "outputs": [
    {
     "name": "stdout",
     "output_type": "stream",
     "text": [
      "/hackathon/Hackathon_Project_4/2016_project_4\n",
      "\u001b[0m\u001b[01;34mnotebooks\u001b[0m/  README.md  \u001b[01;34mwebapp\u001b[0m/\r\n"
     ]
    }
   ],
   "source": [
    "%cd ..\n",
    "%ls"
   ]
  },
  {
   "cell_type": "code",
   "execution_count": 10,
   "metadata": {
    "collapsed": false
   },
   "outputs": [
    {
     "name": "stderr",
     "output_type": "stream",
     "text": [
      "INFO  00:22:26,142 HelpFormatter - -------------------------------------------------------------------------------- \n",
      "INFO  00:22:26,144 HelpFormatter - The Genome Analysis Toolkit (GATK) v3.6-0-g89b7209, Compiled 2016/06/01 22:27:29 \n",
      "INFO  00:22:26,144 HelpFormatter - Copyright (c) 2010-2016 The Broad Institute \n",
      "INFO  00:22:26,144 HelpFormatter - For support and documentation go to https://www.broadinstitute.org/gatk \n",
      "INFO  00:22:26,144 HelpFormatter - [Sun Oct 16 00:22:26 UTC 2016] Executing on Linux 3.13.0-91-generic amd64 \n",
      "INFO  00:22:26,144 HelpFormatter - OpenJDK 64-Bit Server VM 1.8.0_92-b15 JdkDeflater \n",
      "INFO  00:22:26,147 HelpFormatter - Program Args: -T DepthOfCoverage -R /hackathon/Hackathon_Project_4/REFERENCE_GENOME/hg19_ENCODE.fa -I /hackathon/Hackathon_Project_4/ENCODE_DATA_GM12878/COMPLETED/ENCFF000ARG.bam -l INFO --omitDepthOutputAtEachBase --omitLocusTable --minBaseQuality 20 --minMappingQuality 20 --start 1 --stop 5000 --nBins 200 --includeRefNSites --countType COUNT_FRAGMENTS -o /hackathon/Hackathon_Project_4/ENCODE_DATA_GM12878/COMPLETEDENCFF000ARG.dep \n",
      "INFO  00:22:26,161 HelpFormatter -  \n",
      "INFO  00:22:26,161 HelpFormatter - Date/Time: 2016/10/16 00:22:26 \n",
      "INFO  00:22:26,161 HelpFormatter - -------------------------------------------------------------------------------- \n",
      "INFO  00:22:26,161 HelpFormatter - -------------------------------------------------------------------------------- \n",
      "INFO  00:22:26,168 GenomeAnalysisEngine - Strictness is SILENT \n",
      "INFO  00:22:26,248 GenomeAnalysisEngine - Downsampling Settings: No downsampling \n",
      "INFO  00:22:26,254 SAMDataSource$SAMReaders - Initializing SAMRecords in serial \n",
      "INFO  00:22:26,273 SAMDataSource$SAMReaders - Done initializing BAM readers: total time 0.02 \n",
      "##### ERROR ------------------------------------------------------------------------------------------\n",
      "##### ERROR A USER ERROR has occurred (version 3.6-0-g89b7209): \n",
      "##### ERROR\n",
      "##### ERROR This means that one or more arguments or inputs in your command are incorrect.\n",
      "##### ERROR The error message below tells you what is the problem.\n",
      "##### ERROR\n",
      "##### ERROR If the problem is an invalid argument, please check the online documentation guide\n",
      "##### ERROR (or rerun your command with --help) to view allowable command-line arguments for this tool.\n",
      "##### ERROR\n",
      "##### ERROR Visit our website and forum for extensive documentation and answers to \n",
      "##### ERROR commonly asked questions https://www.broadinstitute.org/gatk\n",
      "##### ERROR\n",
      "##### ERROR Please do NOT post this error to the GATK forum unless you have really tried to fix it yourself.\n",
      "##### ERROR\n",
      "##### ERROR MESSAGE: Lexicographically sorted human genome sequence detected in reference. Please see https://www.broadinstitute.org/gatk/guide/article?id=1328for more information. Error details: reference contigs = [chr1, chr10, chr11, chr12, chr13, chr14, chr15, chr16, chr17, chr18, chr19, chr2, chr20, chr21, chr22, chr3, chr4, chr5, chr6, chr7, chr8, chr9, chrM, chrX]\n",
      "##### ERROR ------------------------------------------------------------------------------------------\n"
     ]
    }
   ],
   "source": [
    "%%bash\n",
    "\n",
    "REF=\"/hackathon/Hackathon_Project_4/REFERENCE_GENOME/hg19_ENCODE.fa\"\n",
    "Data=\"/hackathon/Hackathon_Project_4/ENCODE_DATA_GM12878/COMPLETED/ENCFF000ARG.bam\"\n",
    "AnalysisPath=\"/hackathon/Hackathon_Project_4/ENCODE_DATA_GM12878/COMPLETED\"\n",
    "ID=\"ENCFF000ARG\"\n",
    "\n",
    "gatk \\\n",
    "-T DepthOfCoverage \\\n",
    "-R $REF \\\n",
    "-I $Data \\\n",
    "-l INFO --omitDepthOutputAtEachBase --omitLocusTable \\\n",
    "--minBaseQuality 20 \\\n",
    "--minMappingQuality 20 \\\n",
    "--start 1 \\\n",
    "--stop 5000 \\\n",
    "--nBins 200 \\\n",
    "--includeRefNSites \\\n",
    "--countType COUNT_FRAGMENTS \\\n",
    "-o $AnalysisPath$ID.dep"
   ]
  },
  {
   "cell_type": "code",
   "execution_count": null,
   "metadata": {
    "collapsed": true
   },
   "outputs": [],
   "source": []
  }
 ],
 "metadata": {
  "anaconda-cloud": {},
  "kernelspec": {
   "display_name": "Python [conda root]",
   "language": "python",
   "name": "conda-root-py"
  },
  "language_info": {
   "codemirror_mode": {
    "name": "ipython",
    "version": 2
   },
   "file_extension": ".py",
   "mimetype": "text/x-python",
   "name": "python",
   "nbconvert_exporter": "python",
   "pygments_lexer": "ipython2",
   "version": "2.7.12"
  }
 },
 "nbformat": 4,
 "nbformat_minor": 1
}
