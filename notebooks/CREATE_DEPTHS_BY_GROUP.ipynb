{
 "cells": [
  {
   "cell_type": "code",
   "execution_count": 39,
   "metadata": {
    "collapsed": false
   },
   "outputs": [],
   "source": [
    "import os \n",
    "import glob\n",
    "import pandas as pd\n",
    "import numpy as np\n",
    "\n",
    "BASE_PATH='/hackathon/Hackathon_Project_4'\n",
    "jp=lambda x: os.path.join(BASE_PATH,x)\n",
    "\n",
    "DEPTH_FOLDER=jp('DEPTH')\n",
    "BAM_FOLDER=jp('FINAL')\n",
    "depth_filename=os.path.join(DEPTH_FOLDER,'HUGE.txt')\n",
    "name_assay=open(os.path.join(DEPTH_FOLDER,'rgIds.txt')).read().split('\\n')\n"
   ]
  },
  {
   "cell_type": "code",
   "execution_count": 20,
   "metadata": {
    "collapsed": false
   },
   "outputs": [
    {
     "name": "stdout",
     "output_type": "stream",
     "text": [
      "chr22\t1\t2\r\n",
      "chr22\t2\t3\r\n",
      "chr22\t3\t4\r\n",
      "chr22\t4\t5\r\n",
      "chr22\t5\t6\r\n",
      "chr22\t6\t7\r\n",
      "chr22\t7\t8\r\n",
      "chr22\t8\t9\r\n",
      "chr22\t9\t10\r\n",
      "chr22\t10\t11\r\n"
     ]
    }
   ],
   "source": [
    "#merge all the files\n",
    "!head {DEPTH_FOLDER}/chr22_coords.bed\n"
   ]
  },
  {
   "cell_type": "code",
   "execution_count": null,
   "metadata": {
    "collapsed": true
   },
   "outputs": [],
   "source": []
  },
  {
   "cell_type": "code",
   "execution_count": 21,
   "metadata": {
    "collapsed": true
   },
   "outputs": [],
   "source": [
    "#create coverage with all"
   ]
  },
  {
   "cell_type": "code",
   "execution_count": 22,
   "metadata": {
    "collapsed": false
   },
   "outputs": [
    {
     "name": "stdout",
     "output_type": "stream",
     "text": [
      "head: cannot open ‘/hackathon/Hackathon_Project_4/DEPTH/depths_chr22_rg.txt’ for reading: No such file or directory\r\n"
     ]
    }
   ],
   "source": [
    "!head {depth_filename}"
   ]
  },
  {
   "cell_type": "code",
   "execution_count": 23,
   "metadata": {
    "collapsed": false
   },
   "outputs": [
    {
     "data": {
      "text/plain": [
       "array(['RNA-seq', 'MNase-seq', 'ChIP-seq', 'RAMPAGE'], dtype=object)"
      ]
     },
     "execution_count": 23,
     "metadata": {},
     "output_type": "execute_result"
    }
   ],
   "source": [
    "df_assay=pd.read_csv(os.path.join(DEPTH_FOLDER,'rgIds.txt'),sep=':',header=None,names=['ID','ASSAY'])\n",
    "df_assay.ASSAY.unique()"
   ]
  },
  {
   "cell_type": "code",
   "execution_count": 24,
   "metadata": {
    "collapsed": false
   },
   "outputs": [
    {
     "data": {
      "text/html": [
       "<div>\n",
       "<table border=\"1\" class=\"dataframe\">\n",
       "  <thead>\n",
       "    <tr style=\"text-align: right;\">\n",
       "      <th></th>\n",
       "      <th>ID</th>\n",
       "      <th>ASSAY</th>\n",
       "    </tr>\n",
       "  </thead>\n",
       "  <tbody>\n",
       "    <tr>\n",
       "      <th>0</th>\n",
       "      <td>ENCFF000CWZ</td>\n",
       "      <td>RNA-seq</td>\n",
       "    </tr>\n",
       "    <tr>\n",
       "      <th>1</th>\n",
       "      <td>ENCFF000CXF</td>\n",
       "      <td>RNA-seq</td>\n",
       "    </tr>\n",
       "    <tr>\n",
       "      <th>2</th>\n",
       "      <td>ENCFF000CXQ</td>\n",
       "      <td>RNA-seq</td>\n",
       "    </tr>\n",
       "    <tr>\n",
       "      <th>3</th>\n",
       "      <td>ENCFF000CZN</td>\n",
       "      <td>RNA-seq</td>\n",
       "    </tr>\n",
       "    <tr>\n",
       "      <th>4</th>\n",
       "      <td>ENCFF000CZY</td>\n",
       "      <td>RNA-seq</td>\n",
       "    </tr>\n",
       "  </tbody>\n",
       "</table>\n",
       "</div>"
      ],
      "text/plain": [
       "            ID    ASSAY\n",
       "0  ENCFF000CWZ  RNA-seq\n",
       "1  ENCFF000CXF  RNA-seq\n",
       "2  ENCFF000CXQ  RNA-seq\n",
       "3  ENCFF000CZN  RNA-seq\n",
       "4  ENCFF000CZY  RNA-seq"
      ]
     },
     "execution_count": 24,
     "metadata": {},
     "output_type": "execute_result"
    }
   ],
   "source": [
    "df_assay.head()"
   ]
  },
  {
   "cell_type": "code",
   "execution_count": 32,
   "metadata": {
    "collapsed": false
   },
   "outputs": [],
   "source": [
    "files_to_merge=['/hackathon/Hackathon_Project_4/DEPTH/chr22_coords.bed']\n",
    "\n",
    "for ENCODE_ID in df_assay.ID:\n",
    "    for depth_file in glob.glob('/hackathon/Hackathon_Project_4/DEPTH/filtered/%s*.DEPTH_processed.txt' % ENCODE_ID):\n",
    "        files_to_merge.append(depth_file)\n",
    "        \n",
    "    "
   ]
  },
  {
   "cell_type": "code",
   "execution_count": 34,
   "metadata": {
    "collapsed": false
   },
   "outputs": [],
   "source": [
    "cmd='paste '+' '.join(files_to_merge)+' > /hackathon/Hackathon_Project_4/DEPTH/HUGE.txt'"
   ]
  },
  {
   "cell_type": "code",
   "execution_count": 38,
   "metadata": {
    "collapsed": false
   },
   "outputs": [],
   "source": [
    "#create huge matrix\n",
    "#!{cmd}"
   ]
  },
  {
   "cell_type": "code",
   "execution_count": null,
   "metadata": {
    "collapsed": true
   },
   "outputs": [],
   "source": []
  },
  {
   "cell_type": "code",
   "execution_count": 8,
   "metadata": {
    "collapsed": false
   },
   "outputs": [
    {
     "data": {
      "text/html": [
       "<div>\n",
       "<table border=\"1\" class=\"dataframe\">\n",
       "  <thead>\n",
       "    <tr style=\"text-align: right;\">\n",
       "      <th></th>\n",
       "      <th>ID</th>\n",
       "      <th>ASSAY</th>\n",
       "    </tr>\n",
       "  </thead>\n",
       "  <tbody>\n",
       "    <tr>\n",
       "      <th>0</th>\n",
       "      <td>ENCFF000ATH</td>\n",
       "      <td>ChIP-seq</td>\n",
       "    </tr>\n",
       "    <tr>\n",
       "      <th>1</th>\n",
       "      <td>ENCFF000ATQ</td>\n",
       "      <td>ChIP-seq</td>\n",
       "    </tr>\n",
       "    <tr>\n",
       "      <th>2</th>\n",
       "      <td>ENCFF000ATS</td>\n",
       "      <td>ChIP-seq</td>\n",
       "    </tr>\n",
       "    <tr>\n",
       "      <th>3</th>\n",
       "      <td>ENCFF000ATT</td>\n",
       "      <td>ChIP-seq</td>\n",
       "    </tr>\n",
       "    <tr>\n",
       "      <th>4</th>\n",
       "      <td>ENCFF000ATV</td>\n",
       "      <td>ChIP-seq</td>\n",
       "    </tr>\n",
       "    <tr>\n",
       "      <th>5</th>\n",
       "      <td>ENCFF000ATY</td>\n",
       "      <td>ChIP-seq</td>\n",
       "    </tr>\n",
       "    <tr>\n",
       "      <th>6</th>\n",
       "      <td>ENCFF000AUA</td>\n",
       "      <td>ChIP-seq</td>\n",
       "    </tr>\n",
       "    <tr>\n",
       "      <th>7</th>\n",
       "      <td>ENCFF000AUG</td>\n",
       "      <td>ChIP-seq</td>\n",
       "    </tr>\n",
       "    <tr>\n",
       "      <th>8</th>\n",
       "      <td>ENCFF000AUH</td>\n",
       "      <td>ChIP-seq</td>\n",
       "    </tr>\n",
       "    <tr>\n",
       "      <th>9</th>\n",
       "      <td>ENCFF000AUJ</td>\n",
       "      <td>ChIP-seq</td>\n",
       "    </tr>\n",
       "    <tr>\n",
       "      <th>10</th>\n",
       "      <td>ENCFF000AUR</td>\n",
       "      <td>ChIP-seq</td>\n",
       "    </tr>\n",
       "    <tr>\n",
       "      <th>11</th>\n",
       "      <td>ENCFF000AUT</td>\n",
       "      <td>ChIP-seq</td>\n",
       "    </tr>\n",
       "    <tr>\n",
       "      <th>12</th>\n",
       "      <td>ENCFF000CWY</td>\n",
       "      <td>RNA-seq</td>\n",
       "    </tr>\n",
       "    <tr>\n",
       "      <th>13</th>\n",
       "      <td>ENCFF000CWZ</td>\n",
       "      <td>RNA-seq</td>\n",
       "    </tr>\n",
       "    <tr>\n",
       "      <th>14</th>\n",
       "      <td>ENCFF000CXE</td>\n",
       "      <td>RNA-seq</td>\n",
       "    </tr>\n",
       "    <tr>\n",
       "      <th>15</th>\n",
       "      <td>ENCFF000CXF</td>\n",
       "      <td>RNA-seq</td>\n",
       "    </tr>\n",
       "    <tr>\n",
       "      <th>16</th>\n",
       "      <td>ENCFF000CXQ</td>\n",
       "      <td>RNA-seq</td>\n",
       "    </tr>\n",
       "    <tr>\n",
       "      <th>17</th>\n",
       "      <td>ENCFF000CZN</td>\n",
       "      <td>RNA-seq</td>\n",
       "    </tr>\n",
       "    <tr>\n",
       "      <th>18</th>\n",
       "      <td>ENCFF000CZY</td>\n",
       "      <td>RNA-seq</td>\n",
       "    </tr>\n",
       "    <tr>\n",
       "      <th>19</th>\n",
       "      <td>ENCFF000DAV</td>\n",
       "      <td>RNA-seq</td>\n",
       "    </tr>\n",
       "    <tr>\n",
       "      <th>20</th>\n",
       "      <td>ENCFF000DBD</td>\n",
       "      <td>RNA-seq</td>\n",
       "    </tr>\n",
       "    <tr>\n",
       "      <th>21</th>\n",
       "      <td>ENCFF000DBH</td>\n",
       "      <td>RNA-seq</td>\n",
       "    </tr>\n",
       "    <tr>\n",
       "      <th>22</th>\n",
       "      <td>ENCFF000EUK</td>\n",
       "      <td>RNA-seq</td>\n",
       "    </tr>\n",
       "    <tr>\n",
       "      <th>23</th>\n",
       "      <td>ENCFF000EUL</td>\n",
       "      <td>RNA-seq</td>\n",
       "    </tr>\n",
       "    <tr>\n",
       "      <th>24</th>\n",
       "      <td>ENCFF000EVY</td>\n",
       "      <td>RNA-seq</td>\n",
       "    </tr>\n",
       "    <tr>\n",
       "      <th>25</th>\n",
       "      <td>ENCFF000EVZ</td>\n",
       "      <td>RNA-seq</td>\n",
       "    </tr>\n",
       "    <tr>\n",
       "      <th>26</th>\n",
       "      <td>ENCFF000EXF</td>\n",
       "      <td>RNA-seq</td>\n",
       "    </tr>\n",
       "    <tr>\n",
       "      <th>27</th>\n",
       "      <td>ENCFF000EXG</td>\n",
       "      <td>RNA-seq</td>\n",
       "    </tr>\n",
       "    <tr>\n",
       "      <th>28</th>\n",
       "      <td>ENCFF000EYS</td>\n",
       "      <td>RNA-seq</td>\n",
       "    </tr>\n",
       "    <tr>\n",
       "      <th>29</th>\n",
       "      <td>ENCFF000EYT</td>\n",
       "      <td>RNA-seq</td>\n",
       "    </tr>\n",
       "    <tr>\n",
       "      <th>...</th>\n",
       "      <td>...</td>\n",
       "      <td>...</td>\n",
       "    </tr>\n",
       "    <tr>\n",
       "      <th>449</th>\n",
       "      <td>ENCFF742KAV</td>\n",
       "      <td>ChIP-seq</td>\n",
       "    </tr>\n",
       "    <tr>\n",
       "      <th>450</th>\n",
       "      <td>ENCFF744LEM</td>\n",
       "      <td>ChIP-seq</td>\n",
       "    </tr>\n",
       "    <tr>\n",
       "      <th>451</th>\n",
       "      <td>ENCFF746YDX</td>\n",
       "      <td>ChIP-seq</td>\n",
       "    </tr>\n",
       "    <tr>\n",
       "      <th>452</th>\n",
       "      <td>ENCFF748DIW</td>\n",
       "      <td>ChIP-seq</td>\n",
       "    </tr>\n",
       "    <tr>\n",
       "      <th>453</th>\n",
       "      <td>ENCFF769NOS</td>\n",
       "      <td>ChIP-seq</td>\n",
       "    </tr>\n",
       "    <tr>\n",
       "      <th>454</th>\n",
       "      <td>ENCFF779OTU</td>\n",
       "      <td>RNA-seq</td>\n",
       "    </tr>\n",
       "    <tr>\n",
       "      <th>455</th>\n",
       "      <td>ENCFF784FIO</td>\n",
       "      <td>ChIP-seq</td>\n",
       "    </tr>\n",
       "    <tr>\n",
       "      <th>456</th>\n",
       "      <td>ENCFF786EVL</td>\n",
       "      <td>RNA-seq</td>\n",
       "    </tr>\n",
       "    <tr>\n",
       "      <th>457</th>\n",
       "      <td>ENCFF790WER</td>\n",
       "      <td>RNA-seq</td>\n",
       "    </tr>\n",
       "    <tr>\n",
       "      <th>458</th>\n",
       "      <td>ENCFF792KZU</td>\n",
       "      <td>ChIP-seq</td>\n",
       "    </tr>\n",
       "    <tr>\n",
       "      <th>459</th>\n",
       "      <td>ENCFF821WKC</td>\n",
       "      <td>ChIP-seq</td>\n",
       "    </tr>\n",
       "    <tr>\n",
       "      <th>460</th>\n",
       "      <td>ENCFF840IOC</td>\n",
       "      <td>ChIP-seq</td>\n",
       "    </tr>\n",
       "    <tr>\n",
       "      <th>461</th>\n",
       "      <td>ENCFF865GFG</td>\n",
       "      <td>RNA-seq</td>\n",
       "    </tr>\n",
       "    <tr>\n",
       "      <th>462</th>\n",
       "      <td>ENCFF866PMJ</td>\n",
       "      <td>ChIP-seq</td>\n",
       "    </tr>\n",
       "    <tr>\n",
       "      <th>463</th>\n",
       "      <td>ENCFF869WVJ</td>\n",
       "      <td>ChIP-seq</td>\n",
       "    </tr>\n",
       "    <tr>\n",
       "      <th>464</th>\n",
       "      <td>ENCFF885AON</td>\n",
       "      <td>RNA-seq</td>\n",
       "    </tr>\n",
       "    <tr>\n",
       "      <th>465</th>\n",
       "      <td>ENCFF888ZWX</td>\n",
       "      <td>RNA-seq</td>\n",
       "    </tr>\n",
       "    <tr>\n",
       "      <th>466</th>\n",
       "      <td>ENCFF898DZV</td>\n",
       "      <td>RNA-seq</td>\n",
       "    </tr>\n",
       "    <tr>\n",
       "      <th>467</th>\n",
       "      <td>ENCFF901ETI</td>\n",
       "      <td>ChIP-seq</td>\n",
       "    </tr>\n",
       "    <tr>\n",
       "      <th>468</th>\n",
       "      <td>ENCFF915XSE</td>\n",
       "      <td>RNA-seq</td>\n",
       "    </tr>\n",
       "    <tr>\n",
       "      <th>469</th>\n",
       "      <td>ENCFF921QCO</td>\n",
       "      <td>ChIP-seq</td>\n",
       "    </tr>\n",
       "    <tr>\n",
       "      <th>470</th>\n",
       "      <td>ENCFF928NGK</td>\n",
       "      <td>RNA-seq</td>\n",
       "    </tr>\n",
       "    <tr>\n",
       "      <th>471</th>\n",
       "      <td>ENCFF950RDW</td>\n",
       "      <td>ChIP-seq</td>\n",
       "    </tr>\n",
       "    <tr>\n",
       "      <th>472</th>\n",
       "      <td>ENCFF955NYD</td>\n",
       "      <td>ChIP-seq</td>\n",
       "    </tr>\n",
       "    <tr>\n",
       "      <th>473</th>\n",
       "      <td>ENCFF959KSA</td>\n",
       "      <td>ChIP-seq</td>\n",
       "    </tr>\n",
       "    <tr>\n",
       "      <th>474</th>\n",
       "      <td>ENCFF959TZO</td>\n",
       "      <td>RNA-seq</td>\n",
       "    </tr>\n",
       "    <tr>\n",
       "      <th>475</th>\n",
       "      <td>ENCFF975GPP</td>\n",
       "      <td>ChIP-seq</td>\n",
       "    </tr>\n",
       "    <tr>\n",
       "      <th>476</th>\n",
       "      <td>ENCFF978VYH</td>\n",
       "      <td>RNA-seq</td>\n",
       "    </tr>\n",
       "    <tr>\n",
       "      <th>477</th>\n",
       "      <td>ENCFF986SLR</td>\n",
       "      <td>RNA-seq</td>\n",
       "    </tr>\n",
       "    <tr>\n",
       "      <th>478</th>\n",
       "      <td>ENCFF992KBD</td>\n",
       "      <td>RNA-seq</td>\n",
       "    </tr>\n",
       "  </tbody>\n",
       "</table>\n",
       "<p>479 rows × 2 columns</p>\n",
       "</div>"
      ],
      "text/plain": [
       "              ID     ASSAY\n",
       "0    ENCFF000ATH  ChIP-seq\n",
       "1    ENCFF000ATQ  ChIP-seq\n",
       "2    ENCFF000ATS  ChIP-seq\n",
       "3    ENCFF000ATT  ChIP-seq\n",
       "4    ENCFF000ATV  ChIP-seq\n",
       "5    ENCFF000ATY  ChIP-seq\n",
       "6    ENCFF000AUA  ChIP-seq\n",
       "7    ENCFF000AUG  ChIP-seq\n",
       "8    ENCFF000AUH  ChIP-seq\n",
       "9    ENCFF000AUJ  ChIP-seq\n",
       "10   ENCFF000AUR  ChIP-seq\n",
       "11   ENCFF000AUT  ChIP-seq\n",
       "12   ENCFF000CWY   RNA-seq\n",
       "13   ENCFF000CWZ   RNA-seq\n",
       "14   ENCFF000CXE   RNA-seq\n",
       "15   ENCFF000CXF   RNA-seq\n",
       "16   ENCFF000CXQ   RNA-seq\n",
       "17   ENCFF000CZN   RNA-seq\n",
       "18   ENCFF000CZY   RNA-seq\n",
       "19   ENCFF000DAV   RNA-seq\n",
       "20   ENCFF000DBD   RNA-seq\n",
       "21   ENCFF000DBH   RNA-seq\n",
       "22   ENCFF000EUK   RNA-seq\n",
       "23   ENCFF000EUL   RNA-seq\n",
       "24   ENCFF000EVY   RNA-seq\n",
       "25   ENCFF000EVZ   RNA-seq\n",
       "26   ENCFF000EXF   RNA-seq\n",
       "27   ENCFF000EXG   RNA-seq\n",
       "28   ENCFF000EYS   RNA-seq\n",
       "29   ENCFF000EYT   RNA-seq\n",
       "..           ...       ...\n",
       "449  ENCFF742KAV  ChIP-seq\n",
       "450  ENCFF744LEM  ChIP-seq\n",
       "451  ENCFF746YDX  ChIP-seq\n",
       "452  ENCFF748DIW  ChIP-seq\n",
       "453  ENCFF769NOS  ChIP-seq\n",
       "454  ENCFF779OTU   RNA-seq\n",
       "455  ENCFF784FIO  ChIP-seq\n",
       "456  ENCFF786EVL   RNA-seq\n",
       "457  ENCFF790WER   RNA-seq\n",
       "458  ENCFF792KZU  ChIP-seq\n",
       "459  ENCFF821WKC  ChIP-seq\n",
       "460  ENCFF840IOC  ChIP-seq\n",
       "461  ENCFF865GFG   RNA-seq\n",
       "462  ENCFF866PMJ  ChIP-seq\n",
       "463  ENCFF869WVJ  ChIP-seq\n",
       "464  ENCFF885AON   RNA-seq\n",
       "465  ENCFF888ZWX   RNA-seq\n",
       "466  ENCFF898DZV   RNA-seq\n",
       "467  ENCFF901ETI  ChIP-seq\n",
       "468  ENCFF915XSE   RNA-seq\n",
       "469  ENCFF921QCO  ChIP-seq\n",
       "470  ENCFF928NGK   RNA-seq\n",
       "471  ENCFF950RDW  ChIP-seq\n",
       "472  ENCFF955NYD  ChIP-seq\n",
       "473  ENCFF959KSA  ChIP-seq\n",
       "474  ENCFF959TZO   RNA-seq\n",
       "475  ENCFF975GPP  ChIP-seq\n",
       "476  ENCFF978VYH   RNA-seq\n",
       "477  ENCFF986SLR   RNA-seq\n",
       "478  ENCFF992KBD   RNA-seq\n",
       "\n",
       "[479 rows x 2 columns]"
      ]
     },
     "execution_count": 8,
     "metadata": {},
     "output_type": "execute_result"
    }
   ],
   "source": [
    "df_assay"
   ]
  },
  {
   "cell_type": "code",
   "execution_count": 42,
   "metadata": {
    "collapsed": false
   },
   "outputs": [],
   "source": [
    "group_assays=['ChIP-seq','RNA-seq']\n",
    "group_assays=df_assay.ASSAY.unique()\n",
    "group_name='_'.join(group_assays)\n",
    "sum_str='+'.join(['$%d' % idx for idx in np.where(df_assay.ASSAY.isin(group_assays))[0]+3])"
   ]
  },
  {
   "cell_type": "code",
   "execution_count": 43,
   "metadata": {
    "collapsed": false
   },
   "outputs": [
    {
     "name": "stdout",
     "output_type": "stream",
     "text": [
      "chr22\t1\t2\t0\t0\t0\t0\t0\t0\t0\t0\t0\t0\t0\t0\t0\t0\t0\t0\t0\t0\t0\t0\t0\t0\t0\t0\t0\t0\t0\t0\t0\t0\t0\t0\t0\t0\t0\t0\t0\t0\t0\t0\t0\t0\t0\t0\t0\t0\t0\t0\t0\t0\t0\t0\t0\t0\t0\t0\t0\t0\t0\t0\t0\t0\t0\t0\t0\t0\t0\t0\t0\t0\t0\t0\t0\t0\t0\t0\t0\t0\t0\t0\t0\t0\t0\t0\t0\t0\t0\t0\t0\t0\t0\t0\t0\t0\t0\t0\t0\t0\t0\t0\t0\t0\t0\t0\t0\t0\t0\t0\t0\t0\t0\t0\t0\t0\t0\t0\t0\t0\t0\t0\t0\t0\t0\t\t0\t0\t0\t0\t0\t0\t0\t0\t0\t0\t\t\t\t0\t0\t\t0\t0\t\t0\t0\t0\t0\t0\r\n",
      "chr22\t2\t3\t0\t0\t0\t0\t0\t0\t0\t0\t0\t0\t0\t0\t0\t0\t0\t0\t0\t0\t0\t0\t0\t0\t0\t0\t0\t0\t0\t0\t0\t0\t0\t0\t0\t0\t0\t0\t0\t0\t0\t0\t0\t0\t0\t0\t0\t0\t0\t0\t0\t0\t0\t0\t0\t0\t0\t0\t0\t0\t0\t0\t0\t0\t0\t0\t0\t0\t0\t0\t0\t0\t0\t0\t0\t0\t0\t0\t0\t0\t0\t0\t0\t0\t0\t0\t0\t0\t0\t0\t0\t0\t0\t0\t0\t0\t0\t0\t0\t0\t0\t0\t0\t0\t0\t0\t0\t0\t0\t0\t0\t0\t0\t0\t0\t0\t0\t0\t0\t0\t0\t0\t0\t0\t0\t\t0\t0\t0\t0\t0\t0\t0\t0\t0\t0\t\t\t\t0\t0\t\t0\t0\t\t0\t0\t0\t0\t0\r\n",
      "chr22\t3\t4\t0\t0\t0\t0\t0\t0\t0\t0\t0\t0\t0\t0\t0\t0\t0\t0\t0\t0\t0\t0\t0\t0\t0\t0\t0\t0\t0\t0\t0\t0\t0\t0\t0\t0\t0\t0\t0\t0\t0\t0\t0\t0\t0\t0\t0\t0\t0\t0\t0\t0\t0\t0\t0\t0\t0\t0\t0\t0\t0\t0\t0\t0\t0\t0\t0\t0\t0\t0\t0\t0\t0\t0\t0\t0\t0\t0\t0\t0\t0\t0\t0\t0\t0\t0\t0\t0\t0\t0\t0\t0\t0\t0\t0\t0\t0\t0\t0\t0\t0\t0\t0\t0\t0\t0\t0\t0\t0\t0\t0\t0\t0\t0\t0\t0\t0\t0\t0\t0\t0\t0\t0\t0\t0\t\t0\t0\t0\t0\t0\t0\t0\t0\t0\t0\t\t\t\t0\t0\t\t0\t0\t\t0\t0\t0\t0\t0\r\n",
      "chr22\t4\t5\t0\t0\t0\t0\t0\t0\t0\t0\t0\t0\t0\t0\t0\t0\t0\t0\t0\t0\t0\t0\t0\t0\t0\t0\t0\t0\t0\t0\t0\t0\t0\t0\t0\t0\t0\t0\t0\t0\t0\t0\t0\t0\t0\t0\t0\t0\t0\t0\t0\t0\t0\t0\t0\t0\t0\t0\t0\t0\t0\t0\t0\t0\t0\t0\t0\t0\t0\t0\t0\t0\t0\t0\t0\t0\t0\t0\t0\t0\t0\t0\t0\t0\t0\t0\t0\t0\t0\t0\t0\t0\t0\t0\t0\t0\t0\t0\t0\t0\t0\t0\t0\t0\t0\t0\t0\t0\t0\t0\t0\t0\t0\t0\t0\t0\t0\t0\t0\t0\t0\t0\t0\t0\t0\t\t0\t0\t0\t0\t0\t0\t0\t0\t0\t0\t\t\t\t0\t0\t\t0\t0\t\t0\t0\t0\t0\t0\r\n",
      "chr22\t5\t6\t0\t0\t0\t0\t0\t0\t0\t0\t0\t0\t0\t0\t0\t0\t0\t0\t0\t0\t0\t0\t0\t0\t0\t0\t0\t0\t0\t0\t0\t0\t0\t0\t0\t0\t0\t0\t0\t0\t0\t0\t0\t0\t0\t0\t0\t0\t0\t0\t0\t0\t0\t0\t0\t0\t0\t0\t0\t0\t0\t0\t0\t0\t0\t0\t0\t0\t0\t0\t0\t0\t0\t0\t0\t0\t0\t0\t0\t0\t0\t0\t0\t0\t0\t0\t0\t0\t0\t0\t0\t0\t0\t0\t0\t0\t0\t0\t0\t0\t0\t0\t0\t0\t0\t0\t0\t0\t0\t0\t0\t0\t0\t0\t0\t0\t0\t0\t0\t0\t0\t0\t0\t0\t0\t\t0\t0\t0\t0\t0\t0\t0\t0\t0\t0\t\t\t\t0\t0\t\t0\t0\t\t0\t0\t0\t0\t0\r\n",
      "chr22\t6\t7\t0\t0\t0\t0\t0\t0\t0\t0\t0\t0\t0\t0\t0\t0\t0\t0\t0\t0\t0\t0\t0\t0\t0\t0\t0\t0\t0\t0\t0\t0\t0\t0\t0\t0\t0\t0\t0\t0\t0\t0\t0\t0\t0\t0\t0\t0\t0\t0\t0\t0\t0\t0\t0\t0\t0\t0\t0\t0\t0\t0\t0\t0\t0\t0\t0\t0\t0\t0\t0\t0\t0\t0\t0\t0\t0\t0\t0\t0\t0\t0\t0\t0\t0\t0\t0\t0\t0\t0\t0\t0\t0\t0\t0\t0\t0\t0\t0\t0\t0\t0\t0\t0\t0\t0\t0\t0\t0\t0\t0\t0\t0\t0\t0\t0\t0\t0\t0\t0\t0\t0\t0\t0\t0\t\t0\t0\t0\t0\t0\t0\t0\t0\t0\t0\t\t\t\t0\t0\t\t0\t0\t\t0\t0\t0\t0\t0\r\n",
      "chr22\t7\t8\t0\t0\t0\t0\t0\t0\t0\t0\t0\t0\t0\t0\t0\t0\t0\t0\t0\t0\t0\t0\t0\t0\t0\t0\t0\t0\t0\t0\t0\t0\t0\t0\t0\t0\t0\t0\t0\t0\t0\t0\t0\t0\t0\t0\t0\t0\t0\t0\t0\t0\t0\t0\t0\t0\t0\t0\t0\t0\t0\t0\t0\t0\t0\t0\t0\t0\t0\t0\t0\t0\t0\t0\t0\t0\t0\t0\t0\t0\t0\t0\t0\t0\t0\t0\t0\t0\t0\t0\t0\t0\t0\t0\t0\t0\t0\t0\t0\t0\t0\t0\t0\t0\t0\t0\t0\t0\t0\t0\t0\t0\t0\t0\t0\t0\t0\t0\t0\t0\t0\t0\t0\t0\t0\t\t0\t0\t0\t0\t0\t0\t0\t0\t0\t0\t\t\t\t0\t0\t\t0\t0\t\t0\t0\t0\t0\t0\r\n",
      "chr22\t8\t9\t0\t0\t0\t0\t0\t0\t0\t0\t0\t0\t0\t0\t0\t0\t0\t0\t0\t0\t0\t0\t0\t0\t0\t0\t0\t0\t0\t0\t0\t0\t0\t0\t0\t0\t0\t0\t0\t0\t0\t0\t0\t0\t0\t0\t0\t0\t0\t0\t0\t0\t0\t0\t0\t0\t0\t0\t0\t0\t0\t0\t0\t0\t0\t0\t0\t0\t0\t0\t0\t0\t0\t0\t0\t0\t0\t0\t0\t0\t0\t0\t0\t0\t0\t0\t0\t0\t0\t0\t0\t0\t0\t0\t0\t0\t0\t0\t0\t0\t0\t0\t0\t0\t0\t0\t0\t0\t0\t0\t0\t0\t0\t0\t0\t0\t0\t0\t0\t0\t0\t0\t0\t0\t0\t\t0\t0\t0\t0\t0\t0\t0\t0\t0\t0\t\t\t\t0\t0\t\t0\t0\t\t0\t0\t0\t0\t0\r\n",
      "chr22\t9\t10\t0\t0\t0\t0\t0\t0\t0\t0\t0\t0\t0\t0\t0\t0\t0\t0\t0\t0\t0\t0\t0\t0\t0\t0\t0\t0\t0\t0\t0\t0\t0\t0\t0\t0\t0\t0\t0\t0\t0\t0\t0\t0\t0\t0\t0\t0\t0\t0\t0\t0\t0\t0\t0\t0\t0\t0\t0\t0\t0\t0\t0\t0\t0\t0\t0\t0\t0\t0\t0\t0\t0\t0\t0\t0\t0\t0\t0\t0\t0\t0\t0\t0\t0\t0\t0\t0\t0\t0\t0\t0\t0\t0\t0\t0\t0\t0\t0\t0\t0\t0\t0\t0\t0\t0\t0\t0\t0\t0\t0\t0\t0\t0\t0\t0\t0\t0\t0\t0\t0\t0\t0\t0\t0\t\t0\t0\t0\t0\t0\t0\t0\t0\t0\t0\t\t\t\t0\t0\t\t0\t0\t\t0\t0\t0\t0\t0\r\n",
      "chr22\t10\t11\t0\t0\t0\t0\t0\t0\t0\t0\t0\t0\t0\t0\t0\t0\t0\t0\t0\t0\t0\t0\t0\t0\t0\t0\t0\t0\t0\t0\t0\t0\t0\t0\t0\t0\t0\t0\t0\t0\t0\t0\t0\t0\t0\t0\t0\t0\t0\t0\t0\t0\t0\t0\t0\t0\t0\t0\t0\t0\t0\t0\t0\t0\t0\t0\t0\t0\t0\t0\t0\t0\t0\t0\t0\t0\t0\t0\t0\t0\t0\t0\t0\t0\t0\t0\t0\t0\t0\t0\t0\t0\t0\t0\t0\t0\t0\t0\t0\t0\t0\t0\t0\t0\t0\t0\t0\t0\t0\t0\t0\t0\t0\t0\t0\t0\t0\t0\t0\t0\t0\t0\t0\t0\t0\t\t0\t0\t0\t0\t0\t0\t0\t0\t0\t0\t\t\t\t0\t0\t\t0\t0\t\t0\t0\t0\t0\t0\r\n"
     ]
    }
   ],
   "source": [
    "!head {depth_filename}"
   ]
  },
  {
   "cell_type": "code",
   "execution_count": 44,
   "metadata": {
    "collapsed": false
   },
   "outputs": [
    {
     "data": {
      "text/plain": [
       "'RNA-seq_MNase-seq_ChIP-seq_RAMPAGE'"
      ]
     },
     "execution_count": 44,
     "metadata": {},
     "output_type": "execute_result"
    }
   ],
   "source": [
    "group_name"
   ]
  },
  {
   "cell_type": "code",
   "execution_count": 74,
   "metadata": {
    "collapsed": false
   },
   "outputs": [],
   "source": [
    "output_file=os.path.join(DEPTH_FOLDER,'depths_chr22_%s.bedgraph' % group_name)\n",
    "cmd_to_run=(r\"cat %s | awk -F '\\t' '{\"  % depth_filename ) + r'OFS=\"\\t\"' +\";sumd=(%s);  print $1,$2,$2+1,sumd } ' >  %s \" % (sum_str, output_file)"
   ]
  },
  {
   "cell_type": "code",
   "execution_count": 75,
   "metadata": {
    "collapsed": false
   },
   "outputs": [
    {
     "name": "stdout",
     "output_type": "stream",
     "text": [
      "cat /hackathon/Hackathon_Project_4/DEPTH/HUGE.txt | awk -F '\\t' '{OFS=\"\\t\";sumd=($3+$4+$5+$6+$7+$8+$9+$10+$11+$12+$13+$14+$15+$16+$17+$18+$19+$20+$21+$22+$23+$24+$25+$26+$27+$28+$29+$30+$31+$32+$33+$34+$35+$36+$37+$38+$39+$40+$41+$42+$43+$44+$45+$46+$47+$48+$49+$50+$51+$52+$53+$54+$55+$56+$57+$58+$59+$60+$61+$62+$63+$64+$65+$66+$67+$68+$69+$70+$71+$72+$73+$74+$75+$76+$77+$78+$79+$80+$81+$82+$83+$84+$85+$86+$87+$88+$89+$90+$91+$92+$93+$94+$95+$96+$97+$98+$99+$100+$101+$102+$103+$104+$105+$106+$107+$108+$109+$110+$111+$112+$113+$114+$115+$116+$117+$118+$119+$120+$121+$122+$123+$124+$125+$126+$127+$128+$129+$130+$131+$132+$133+$134+$135+$136+$137+$138+$139+$140+$141+$142+$143+$144+$145+$146+$147+$148+$149+$150);  print $1,$2,$2+1,sumd } ' >  /hackathon/Hackathon_Project_4/DEPTH/depths_chr22_RNA-seq_MNase-seq_ChIP-seq_RAMPAGE.bedgraph \n"
     ]
    }
   ],
   "source": [
    "print cmd_to_run"
   ]
  },
  {
   "cell_type": "code",
   "execution_count": 76,
   "metadata": {
    "collapsed": false
   },
   "outputs": [],
   "source": [
    "! {cmd_to_run}"
   ]
  },
  {
   "cell_type": "code",
   "execution_count": null,
   "metadata": {
    "collapsed": true
   },
   "outputs": [],
   "source": []
  },
  {
   "cell_type": "code",
   "execution_count": 72,
   "metadata": {
    "collapsed": false
   },
   "outputs": [
    {
     "name": "stdout",
     "output_type": "stream",
     "text": [
      "cov_chr22_rg.txt   depths50.txt\t\tinput50.txt\t    single\r\n",
      "cov.txt\t\t   depths_chr22_rg.txt\tinput_chr22_rg.txt\r\n",
      "depths50chr22.txt  depths.txt\t\tinput.txt\r\n"
     ]
    }
   ],
   "source": [
    "!ls {DEPTH_FOLDER}\n"
   ]
  },
  {
   "cell_type": "code",
   "execution_count": 17,
   "metadata": {
    "collapsed": false
   },
   "outputs": [
    {
     "data": {
      "text/plain": [
       "['ENCFF000ARG',\n",
       " 'ENCFF000ARI',\n",
       " 'ENCFF000ARL',\n",
       " 'ENCFF000ARN',\n",
       " 'ENCFF000IYN',\n",
       " 'ENCFF000IYW',\n",
       " 'ENCFF000IZE',\n",
       " 'ENCFF000IZF',\n",
       " 'ENCFF000JAD',\n",
       " 'ENCFF000JAG',\n",
       " 'ENCFF000JAK',\n",
       " 'ENCFF000JAP',\n",
       " 'ENCFF000LCZ',\n",
       " 'ENCFF000LDH',\n",
       " 'ENCFF000LDT',\n",
       " 'ENCFF000NSA',\n",
       " 'ENCFF000NSD',\n",
       " 'ENCFF000NSJ',\n",
       " 'ENCFF000NSN',\n",
       " 'ENCFF000NSY',\n",
       " 'ENCFF000NTA',\n",
       " 'ENCFF000NTF',\n",
       " 'ENCFF000NTG',\n",
       " 'ENCFF000NUE',\n",
       " 'ENCFF000NUG',\n",
       " 'ENCFF000NUO',\n",
       " 'ENCFF000NUS',\n",
       " 'ENCFF000NUT',\n",
       " 'ENCFF000NUX',\n",
       " 'ENCFF000NUY',\n",
       " 'ENCFF000NVG',\n",
       " 'ENCFF000NVL',\n",
       " 'ENCFF000NVY',\n",
       " 'ENCFF000NWB',\n",
       " 'ENCFF000NWO',\n",
       " 'ENCFF000NWR',\n",
       " 'ENCFF000NWW',\n",
       " 'ENCFF000NWZ',\n",
       " 'ENCFF000NYC',\n",
       " 'ENCFF000NYF',\n",
       " 'ENCFF000NYS',\n",
       " 'ENCFF000NYW',\n",
       " 'ENCFF000NYZ',\n",
       " 'ENCFF000NZF',\n",
       " 'ENCFF000NZI',\n",
       " 'ENCFF000NZL',\n",
       " 'ENCFF000NZP',\n",
       " 'ENCFF000NZR',\n",
       " 'ENCFF000OAG',\n",
       " 'ENCFF000OAJ',\n",
       " 'ENCFF000OAO',\n",
       " 'ENCFF000OAR',\n",
       " 'ENCFF000OCL',\n",
       " 'ENCFF000OCM',\n",
       " 'ENCFF000OCN',\n",
       " 'ENCFF000OCQ',\n",
       " 'ENCFF000ODC',\n",
       " 'ENCFF000ODD',\n",
       " 'ENCFF000ODH',\n",
       " 'ENCFF000ODL',\n",
       " 'ENCFF000ODU',\n",
       " 'ENCFF000ODW',\n",
       " 'ENCFF000OEL',\n",
       " 'ENCFF000OEO',\n",
       " 'ENCFF000OEY',\n",
       " 'ENCFF000OEZ',\n",
       " 'ENCFF000OFD',\n",
       " 'ENCFF000OFG',\n",
       " 'ENCFF000OFT',\n",
       " 'ENCFF000OFW',\n",
       " 'ENCFF000OGJ',\n",
       " 'ENCFF000OGM',\n",
       " 'ENCFF000OGZ',\n",
       " 'ENCFF000OHC',\n",
       " 'ENCFF000OHG',\n",
       " 'ENCFF000OHK',\n",
       " 'ENCFF000ROE',\n",
       " 'ENCFF000ROF',\n",
       " 'ENCFF000ROM',\n",
       " 'ENCFF000RON',\n",
       " 'ENCFF000ROQ',\n",
       " 'ENCFF000ROW',\n",
       " 'ENCFF000RPA',\n",
       " 'ENCFF000RPC',\n",
       " 'ENCFF000SKV',\n",
       " 'ENCFF000SKW',\n",
       " 'ENCFF000SKZ',\n",
       " 'ENCFF000SLB',\n",
       " 'ENCFF000SLD',\n",
       " 'ENCFF000THT',\n",
       " 'ENCFF000THU',\n",
       " 'ENCFF000THX',\n",
       " 'ENCFF000VAA',\n",
       " 'ENCFF000VAC',\n",
       " 'ENCFF000VAI',\n",
       " 'ENCFF000VAJ',\n",
       " 'ENCFF000VAP',\n",
       " 'ENCFF000VAR',\n",
       " 'ENCFF000VLH',\n",
       " 'ENCFF000VLI',\n",
       " 'ENCFF000VLJ',\n",
       " 'ENCFF000VLK',\n",
       " 'ENCFF000VLL',\n",
       " 'ENCFF000VMF',\n",
       " 'ENCFF000VMG',\n",
       " 'ENCFF000VMH',\n",
       " 'ENCFF000VMI',\n",
       " 'ENCFF000VSB',\n",
       " 'ENCFF000VSI',\n",
       " 'ENCFF000VSJ',\n",
       " 'ENCFF000VSK',\n",
       " 'ENCFF000VSQ',\n",
       " 'ENCFF000VSU',\n",
       " 'ENCFF000VSZ',\n",
       " 'ENCFF000VTA',\n",
       " 'ENCFF000VTB',\n",
       " 'ENCFF000VTE',\n",
       " 'ENCFF000VTQ',\n",
       " 'ENCFF000VTR',\n",
       " 'ENCFF000VTS',\n",
       " 'ENCFF000VTU',\n",
       " 'ENCFF000VUB',\n",
       " 'ENCFF000VUC',\n",
       " 'ENCFF000VUE',\n",
       " 'ENCFF000VUG',\n",
       " 'ENCFF000VUH',\n",
       " 'ENCFF000VUQ',\n",
       " 'ENCFF000VUS',\n",
       " 'ENCFF000VVE',\n",
       " 'ENCFF000VVL',\n",
       " 'ENCFF000VVM',\n",
       " 'ENCFF000VVO',\n",
       " 'ENCFF000VWE',\n",
       " 'ENCFF000VWO',\n",
       " 'ENCFF000VWP',\n",
       " 'ENCFF000VWQ',\n",
       " 'ENCFF000VWS',\n",
       " 'ENCFF000VWU',\n",
       " 'ENCFF000VWX',\n",
       " 'ENCFF000VWY',\n",
       " 'ENCFF000VXL',\n",
       " 'ENCFF000VXM',\n",
       " 'ENCFF000VXV',\n",
       " 'ENCFF000VXW',\n",
       " 'ENCFF000VYR',\n",
       " 'ENCFF000VYY',\n",
       " 'ENCFF000VZX',\n",
       " 'ENCFF000WAC',\n",
       " 'ENCFF000WAJ',\n",
       " 'ENCFF000WAR',\n",
       " 'ENCFF000WBH',\n",
       " 'ENCFF000WBI',\n",
       " 'ENCFF000WBJ',\n",
       " 'ENCFF000WBK',\n",
       " 'ENCFF000WBL',\n",
       " 'ENCFF000WBN',\n",
       " 'ENCFF000WBO',\n",
       " 'ENCFF000WBY',\n",
       " 'ENCFF000WCB',\n",
       " 'ENCFF000WCD',\n",
       " 'ENCFF000WCF',\n",
       " 'ENCFF000WCJ',\n",
       " 'ENCFF000WCK',\n",
       " 'ENCFF000WCZ',\n",
       " 'ENCFF000WDA',\n",
       " 'ENCFF000WDH',\n",
       " 'ENCFF000WDN',\n",
       " 'ENCFF000WDP',\n",
       " 'ENCFF000WDR',\n",
       " 'ENCFF000WDT',\n",
       " 'ENCFF000WDU',\n",
       " 'ENCFF000WED',\n",
       " 'ENCFF000WEK',\n",
       " 'ENCFF000WEL',\n",
       " 'ENCFF000WEN',\n",
       " 'ENCFF000WER',\n",
       " 'ENCFF000WES',\n",
       " 'ENCFF000WFF',\n",
       " 'ENCFF000WFG',\n",
       " 'ENCFF000WFL',\n",
       " 'ENCFF000WFM',\n",
       " 'ENCFF000WGH',\n",
       " 'ENCFF000WGI',\n",
       " 'ENCFF000WGJ',\n",
       " 'ENCFF000WGL',\n",
       " 'ENCFF000WGO',\n",
       " 'ENCFF000WGQ',\n",
       " 'ENCFF001GNJ',\n",
       " 'ENCFF001GNO',\n",
       " 'ENCFF001GNQ',\n",
       " 'ENCFF001GNS',\n",
       " 'ENCFF001GNW',\n",
       " 'ENCFF001GNZ',\n",
       " 'ENCFF001HHW',\n",
       " 'ENCFF001RWH',\n",
       " 'ENCFF001RWI',\n",
       " 'ENCFF001RWJ',\n",
       " 'ENCFF001RWK',\n",
       " 'ENCFF001RZE',\n",
       " 'ENCFF001RZF',\n",
       " 'ENCFF001RZJ',\n",
       " 'ENCFF001SAQ',\n",
       " 'ENCFF001SAU',\n",
       " 'ENCFF001SAW',\n",
       " 'ENCFF001SBZ',\n",
       " 'ENCFF001SCD',\n",
       " 'ENCFF001SCR',\n",
       " 'ENCFF001SCZ',\n",
       " 'ENCFF001SDA',\n",
       " 'ENCFF001SDJ',\n",
       " 'ENCFF001SFW',\n",
       " 'ENCFF001SFX',\n",
       " 'ENCFF001SJD',\n",
       " 'ENCFF001SMA',\n",
       " 'ENCFF180ZRG',\n",
       " 'ENCFF242MAP',\n",
       " 'ENCFF260KWD',\n",
       " 'ENCFF263PJH',\n",
       " 'ENCFF439LIW',\n",
       " 'ENCFF490VIX',\n",
       " 'ENCFF550JUF',\n",
       " 'ENCFF678NQJ',\n",
       " 'ENCFF697FDQ',\n",
       " 'ENCFF704PEK',\n",
       " 'ENCFF779OTU',\n",
       " 'ENCFF786EVL',\n",
       " 'ENCFF865GFG',\n",
       " 'ENCFF888ZWX',\n",
       " 'ENCFF898DZV',\n",
       " 'ENCFF978VYH',\n",
       " '']"
      ]
     },
     "execution_count": 17,
     "metadata": {},
     "output_type": "execute_result"
    }
   ],
   "source": [
    "bedGraphToBigWig depths_chr22_ChIP-seq_RNA-seq.txt ../REFERENCE_GENOME/hg19.chrom.sizes depths_chr22_ChIP-seq_RNA-seq.bw\n"
   ]
  },
  {
   "cell_type": "code",
   "execution_count": 22,
   "metadata": {
    "collapsed": false
   },
   "outputs": [
    {
     "name": "stdout",
     "output_type": "stream",
     "text": [
      "/hackathon/Hackathon_Project_4/ENCODE_DATA_GM12878/COMPLETED/readGroup.sh\r\n",
      "/hackathon/Hackathon_Project_4/ENCODE_DATA_GM12878/COMPLETED/rgIds.txt\r\n",
      "\r\n",
      "/hackathon/Hackathon_Project_4/ENCODE_DATA_GM12878/COMPLETED/rg_bams:\r\n"
     ]
    }
   ],
   "source": [
    "!ls /hackathon/Hackathon_Project_4/ENCODE_DATA_GM12878/COMPLETED/r*"
   ]
  },
  {
   "cell_type": "code",
   "execution_count": null,
   "metadata": {
    "collapsed": true
   },
   "outputs": [],
   "source": []
  }
 ],
 "metadata": {
  "anaconda-cloud": {},
  "kernelspec": {
   "display_name": "Python [conda root]",
   "language": "python",
   "name": "conda-root-py"
  },
  "language_info": {
   "codemirror_mode": {
    "name": "ipython",
    "version": 2
   },
   "file_extension": ".py",
   "mimetype": "text/x-python",
   "name": "python",
   "nbconvert_exporter": "python",
   "pygments_lexer": "ipython2",
   "version": "2.7.12"
  }
 },
 "nbformat": 4,
 "nbformat_minor": 1
}
