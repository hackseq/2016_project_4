{
 "cells": [
  {
   "cell_type": "code",
   "execution_count": 40,
   "metadata": {
    "collapsed": false
   },
   "outputs": [],
   "source": [
    "import os \n",
    "import glob\n",
    "import pandas as pd\n",
    "import numpy as np\n",
    "\n",
    "BASE_PATH='/hackathon/Hackathon_Project_4'\n",
    "jp=lambda x: os.path.join(BASE_PATH,x)\n",
    "\n",
    "DEPTH_FOLDER=jp('DEPTH')\n",
    "BAM_FOLDER=jp('ENCODE_DATA_GM12878/COMPLETED')\n",
    "depth_filename=os.path.join(DEPTH_FOLDER,'depths_chr22_rg.txt')\n",
    "name_assay=open(os.path.join(BAM_FOLDER,'rgIds.txt')).read().split('\\n')\n"
   ]
  },
  {
   "cell_type": "code",
   "execution_count": 95,
   "metadata": {
    "collapsed": false
   },
   "outputs": [
    {
     "name": "stdout",
     "output_type": "stream",
     "text": [
      "chr22\t16050072\t0\t1\r\n",
      "chr22\t16050073\t0\t1\r\n",
      "chr22\t16050074\t0\t1\r\n",
      "chr22\t16050075\t0\t1\r\n",
      "chr22\t16050076\t0\t1\r\n",
      "chr22\t16050077\t0\t1\r\n",
      "chr22\t16050078\t0\t1\r\n",
      "chr22\t16050079\t0\t1\r\n",
      "chr22\t16050080\t0\t1\r\n",
      "chr22\t16050081\t0\t1\r\n"
     ]
    }
   ],
   "source": [
    "!head {depth_filename}"
   ]
  },
  {
   "cell_type": "code",
   "execution_count": 74,
   "metadata": {
    "collapsed": false
   },
   "outputs": [
    {
     "data": {
      "text/html": [
       "<div>\n",
       "<table border=\"1\" class=\"dataframe\">\n",
       "  <thead>\n",
       "    <tr style=\"text-align: right;\">\n",
       "      <th></th>\n",
       "      <th>ID</th>\n",
       "      <th>ASSAY</th>\n",
       "    </tr>\n",
       "  </thead>\n",
       "  <tbody>\n",
       "    <tr>\n",
       "      <th>0</th>\n",
       "      <td>ENCFF000ARG</td>\n",
       "      <td>ChIP-seq</td>\n",
       "    </tr>\n",
       "    <tr>\n",
       "      <th>1</th>\n",
       "      <td>ENCFF000ARI</td>\n",
       "      <td>ChIP-seq</td>\n",
       "    </tr>\n",
       "    <tr>\n",
       "      <th>2</th>\n",
       "      <td>ENCFF000ARL</td>\n",
       "      <td>ChIP-seq</td>\n",
       "    </tr>\n",
       "    <tr>\n",
       "      <th>3</th>\n",
       "      <td>ENCFF000ARN</td>\n",
       "      <td>ChIP-seq</td>\n",
       "    </tr>\n",
       "    <tr>\n",
       "      <th>4</th>\n",
       "      <td>ENCFF000IYN</td>\n",
       "      <td>RNA-seq</td>\n",
       "    </tr>\n",
       "  </tbody>\n",
       "</table>\n",
       "</div>"
      ],
      "text/plain": [
       "            ID     ASSAY\n",
       "0  ENCFF000ARG  ChIP-seq\n",
       "1  ENCFF000ARI  ChIP-seq\n",
       "2  ENCFF000ARL  ChIP-seq\n",
       "3  ENCFF000ARN  ChIP-seq\n",
       "4  ENCFF000IYN   RNA-seq"
      ]
     },
     "execution_count": 74,
     "metadata": {},
     "output_type": "execute_result"
    }
   ],
   "source": [
    "df_assay.head()"
   ]
  },
  {
   "cell_type": "code",
   "execution_count": 61,
   "metadata": {
    "collapsed": false
   },
   "outputs": [
    {
     "data": {
      "text/plain": [
       "array(['ChIP-seq', 'RNA-seq', 'RNA-PET', 'DNase-seq', 'FAIRE-seq',\n",
       "       'RIP-seq', 'MNase-seq', 'Repli-seq', 'RAMPAGE'], dtype=object)"
      ]
     },
     "execution_count": 61,
     "metadata": {},
     "output_type": "execute_result"
    }
   ],
   "source": [
    "df_assay=pd.read_csv(os.path.join(BAM_FOLDER,'rgIds.txt'),sep=':',header=None,names=['ID','ASSAY'])\n",
    "df_assay.ASSAY.unique()"
   ]
  },
  {
   "cell_type": "code",
   "execution_count": null,
   "metadata": {
    "collapsed": true
   },
   "outputs": [],
   "source": []
  },
  {
   "cell_type": "code",
   "execution_count": 77,
   "metadata": {
    "collapsed": false
   },
   "outputs": [],
   "source": [
    "group_assays=['ChIP-seq','RNA-seq']\n",
    "group_name='_'.join(group_assays)\n",
    "sum_str='+'.join(['$%d' % idx for idx in np.where(df_assay.ASSAY.isin(group_assays))[0]+3])"
   ]
  },
  {
   "cell_type": "code",
   "execution_count": 78,
   "metadata": {
    "collapsed": false
   },
   "outputs": [
    {
     "name": "stdout",
     "output_type": "stream",
     "text": [
      "chr22\t16050072\t0\t1\r\n",
      "chr22\t16050073\t0\t1\r\n",
      "chr22\t16050074\t0\t1\r\n",
      "chr22\t16050075\t0\t1\r\n",
      "chr22\t16050076\t0\t1\r\n",
      "chr22\t16050077\t0\t1\r\n",
      "chr22\t16050078\t0\t1\r\n",
      "chr22\t16050079\t0\t1\r\n",
      "chr22\t16050080\t0\t1\r\n",
      "chr22\t16050081\t0\t1\r\n"
     ]
    }
   ],
   "source": [
    "!head {depth_filename}"
   ]
  },
  {
   "cell_type": "code",
   "execution_count": 79,
   "metadata": {
    "collapsed": false
   },
   "outputs": [
    {
     "data": {
      "text/plain": [
       "'ChIP-seq_RNA-seq'"
      ]
     },
     "execution_count": 79,
     "metadata": {},
     "output_type": "execute_result"
    }
   ],
   "source": [
    "group_name"
   ]
  },
  {
   "cell_type": "code",
   "execution_count": 92,
   "metadata": {
    "collapsed": false
   },
   "outputs": [],
   "source": [
    "output_file=os.path.join(DEPTH_FOLDER,'depths_chr22_%s.bedgraph' % group_name)\n",
    "cmd_to_run=(\"cat %s | awk -F '\\t' '{\"  % depth_filename ) + 'OFS=\"\\t\"' +\";sumd=%s;print $1,$2,$2+1,sumd} ' >  %s \" % (sum_str, output_file)"
   ]
  },
  {
   "cell_type": "code",
   "execution_count": 93,
   "metadata": {
    "collapsed": false
   },
   "outputs": [
    {
     "data": {
      "text/plain": [
       "'cat /hackathon/Hackathon_Project_4/DEPTH/depths_chr22_rg.txt | awk -F \\'\\t\\' \\'{OFS=\"\\t\";sumd=$3+$4+$5+$6+$7+$8+$9+$10+$11+$12+$13+$14+$18+$19+$20+$21+$22+$23+$24+$25+$26+$27+$28+$29+$30+$31+$32+$33+$34+$35+$36+$37+$38+$39+$40+$41+$42+$43+$44+$45+$46+$47+$48+$49+$50+$51+$52+$53+$54+$55+$56+$57+$58+$59+$60+$61+$62+$63+$64+$65+$66+$67+$68+$69+$70+$71+$72+$73+$74+$75+$76+$77+$78+$79+$80+$81+$82+$83+$84+$85+$86+$110+$111+$112+$113+$114+$115+$116+$117+$118+$119+$120+$121+$122+$123+$124+$125+$126+$127+$128+$129+$130+$131+$132+$133+$134+$135+$136+$137+$138+$139+$140+$141+$142+$143+$144+$145+$146+$147+$148+$149+$150+$151+$152+$153+$154+$155+$156+$157+$158+$159+$160+$161+$162+$163+$164+$165+$166+$167+$168+$169+$170+$171+$172+$173+$174+$175+$176+$177+$178+$179+$180+$181+$182+$183+$184+$185+$186+$187+$188+$189+$196+$197+$198+$199+$200+$201+$202+$203+$204+$205+$206+$207+$208+$209+$210+$211+$212+$213+$214+$215+$216+$219+$220+$221+$222+$223+$224+$225+$226+$227+$228+$229+$230+$231+$232;print $1,$2,$2+1,sumd} \\' >  /hackathon/Hackathon_Project_4/DEPTH/depths_chr22_ChIP-seq_RNA-seq.bedgraph '"
      ]
     },
     "execution_count": 93,
     "metadata": {},
     "output_type": "execute_result"
    }
   ],
   "source": [
    "cmd_to_run"
   ]
  },
  {
   "cell_type": "code",
   "execution_count": 94,
   "metadata": {
    "collapsed": false
   },
   "outputs": [
    {
     "name": "stdout",
     "output_type": "stream",
     "text": [
      "^C\r\n"
     ]
    }
   ],
   "source": [
    "! {cmd_to_run}"
   ]
  },
  {
   "cell_type": "code",
   "execution_count": 72,
   "metadata": {
    "collapsed": false
   },
   "outputs": [
    {
     "name": "stdout",
     "output_type": "stream",
     "text": [
      "cov_chr22_rg.txt   depths50.txt\t\tinput50.txt\t    single\r\n",
      "cov.txt\t\t   depths_chr22_rg.txt\tinput_chr22_rg.txt\r\n",
      "depths50chr22.txt  depths.txt\t\tinput.txt\r\n"
     ]
    }
   ],
   "source": [
    "!ls {DEPTH_FOLDER}\n"
   ]
  },
  {
   "cell_type": "code",
   "execution_count": 17,
   "metadata": {
    "collapsed": false
   },
   "outputs": [
    {
     "data": {
      "text/plain": [
       "['ENCFF000ARG',\n",
       " 'ENCFF000ARI',\n",
       " 'ENCFF000ARL',\n",
       " 'ENCFF000ARN',\n",
       " 'ENCFF000IYN',\n",
       " 'ENCFF000IYW',\n",
       " 'ENCFF000IZE',\n",
       " 'ENCFF000IZF',\n",
       " 'ENCFF000JAD',\n",
       " 'ENCFF000JAG',\n",
       " 'ENCFF000JAK',\n",
       " 'ENCFF000JAP',\n",
       " 'ENCFF000LCZ',\n",
       " 'ENCFF000LDH',\n",
       " 'ENCFF000LDT',\n",
       " 'ENCFF000NSA',\n",
       " 'ENCFF000NSD',\n",
       " 'ENCFF000NSJ',\n",
       " 'ENCFF000NSN',\n",
       " 'ENCFF000NSY',\n",
       " 'ENCFF000NTA',\n",
       " 'ENCFF000NTF',\n",
       " 'ENCFF000NTG',\n",
       " 'ENCFF000NUE',\n",
       " 'ENCFF000NUG',\n",
       " 'ENCFF000NUO',\n",
       " 'ENCFF000NUS',\n",
       " 'ENCFF000NUT',\n",
       " 'ENCFF000NUX',\n",
       " 'ENCFF000NUY',\n",
       " 'ENCFF000NVG',\n",
       " 'ENCFF000NVL',\n",
       " 'ENCFF000NVY',\n",
       " 'ENCFF000NWB',\n",
       " 'ENCFF000NWO',\n",
       " 'ENCFF000NWR',\n",
       " 'ENCFF000NWW',\n",
       " 'ENCFF000NWZ',\n",
       " 'ENCFF000NYC',\n",
       " 'ENCFF000NYF',\n",
       " 'ENCFF000NYS',\n",
       " 'ENCFF000NYW',\n",
       " 'ENCFF000NYZ',\n",
       " 'ENCFF000NZF',\n",
       " 'ENCFF000NZI',\n",
       " 'ENCFF000NZL',\n",
       " 'ENCFF000NZP',\n",
       " 'ENCFF000NZR',\n",
       " 'ENCFF000OAG',\n",
       " 'ENCFF000OAJ',\n",
       " 'ENCFF000OAO',\n",
       " 'ENCFF000OAR',\n",
       " 'ENCFF000OCL',\n",
       " 'ENCFF000OCM',\n",
       " 'ENCFF000OCN',\n",
       " 'ENCFF000OCQ',\n",
       " 'ENCFF000ODC',\n",
       " 'ENCFF000ODD',\n",
       " 'ENCFF000ODH',\n",
       " 'ENCFF000ODL',\n",
       " 'ENCFF000ODU',\n",
       " 'ENCFF000ODW',\n",
       " 'ENCFF000OEL',\n",
       " 'ENCFF000OEO',\n",
       " 'ENCFF000OEY',\n",
       " 'ENCFF000OEZ',\n",
       " 'ENCFF000OFD',\n",
       " 'ENCFF000OFG',\n",
       " 'ENCFF000OFT',\n",
       " 'ENCFF000OFW',\n",
       " 'ENCFF000OGJ',\n",
       " 'ENCFF000OGM',\n",
       " 'ENCFF000OGZ',\n",
       " 'ENCFF000OHC',\n",
       " 'ENCFF000OHG',\n",
       " 'ENCFF000OHK',\n",
       " 'ENCFF000ROE',\n",
       " 'ENCFF000ROF',\n",
       " 'ENCFF000ROM',\n",
       " 'ENCFF000RON',\n",
       " 'ENCFF000ROQ',\n",
       " 'ENCFF000ROW',\n",
       " 'ENCFF000RPA',\n",
       " 'ENCFF000RPC',\n",
       " 'ENCFF000SKV',\n",
       " 'ENCFF000SKW',\n",
       " 'ENCFF000SKZ',\n",
       " 'ENCFF000SLB',\n",
       " 'ENCFF000SLD',\n",
       " 'ENCFF000THT',\n",
       " 'ENCFF000THU',\n",
       " 'ENCFF000THX',\n",
       " 'ENCFF000VAA',\n",
       " 'ENCFF000VAC',\n",
       " 'ENCFF000VAI',\n",
       " 'ENCFF000VAJ',\n",
       " 'ENCFF000VAP',\n",
       " 'ENCFF000VAR',\n",
       " 'ENCFF000VLH',\n",
       " 'ENCFF000VLI',\n",
       " 'ENCFF000VLJ',\n",
       " 'ENCFF000VLK',\n",
       " 'ENCFF000VLL',\n",
       " 'ENCFF000VMF',\n",
       " 'ENCFF000VMG',\n",
       " 'ENCFF000VMH',\n",
       " 'ENCFF000VMI',\n",
       " 'ENCFF000VSB',\n",
       " 'ENCFF000VSI',\n",
       " 'ENCFF000VSJ',\n",
       " 'ENCFF000VSK',\n",
       " 'ENCFF000VSQ',\n",
       " 'ENCFF000VSU',\n",
       " 'ENCFF000VSZ',\n",
       " 'ENCFF000VTA',\n",
       " 'ENCFF000VTB',\n",
       " 'ENCFF000VTE',\n",
       " 'ENCFF000VTQ',\n",
       " 'ENCFF000VTR',\n",
       " 'ENCFF000VTS',\n",
       " 'ENCFF000VTU',\n",
       " 'ENCFF000VUB',\n",
       " 'ENCFF000VUC',\n",
       " 'ENCFF000VUE',\n",
       " 'ENCFF000VUG',\n",
       " 'ENCFF000VUH',\n",
       " 'ENCFF000VUQ',\n",
       " 'ENCFF000VUS',\n",
       " 'ENCFF000VVE',\n",
       " 'ENCFF000VVL',\n",
       " 'ENCFF000VVM',\n",
       " 'ENCFF000VVO',\n",
       " 'ENCFF000VWE',\n",
       " 'ENCFF000VWO',\n",
       " 'ENCFF000VWP',\n",
       " 'ENCFF000VWQ',\n",
       " 'ENCFF000VWS',\n",
       " 'ENCFF000VWU',\n",
       " 'ENCFF000VWX',\n",
       " 'ENCFF000VWY',\n",
       " 'ENCFF000VXL',\n",
       " 'ENCFF000VXM',\n",
       " 'ENCFF000VXV',\n",
       " 'ENCFF000VXW',\n",
       " 'ENCFF000VYR',\n",
       " 'ENCFF000VYY',\n",
       " 'ENCFF000VZX',\n",
       " 'ENCFF000WAC',\n",
       " 'ENCFF000WAJ',\n",
       " 'ENCFF000WAR',\n",
       " 'ENCFF000WBH',\n",
       " 'ENCFF000WBI',\n",
       " 'ENCFF000WBJ',\n",
       " 'ENCFF000WBK',\n",
       " 'ENCFF000WBL',\n",
       " 'ENCFF000WBN',\n",
       " 'ENCFF000WBO',\n",
       " 'ENCFF000WBY',\n",
       " 'ENCFF000WCB',\n",
       " 'ENCFF000WCD',\n",
       " 'ENCFF000WCF',\n",
       " 'ENCFF000WCJ',\n",
       " 'ENCFF000WCK',\n",
       " 'ENCFF000WCZ',\n",
       " 'ENCFF000WDA',\n",
       " 'ENCFF000WDH',\n",
       " 'ENCFF000WDN',\n",
       " 'ENCFF000WDP',\n",
       " 'ENCFF000WDR',\n",
       " 'ENCFF000WDT',\n",
       " 'ENCFF000WDU',\n",
       " 'ENCFF000WED',\n",
       " 'ENCFF000WEK',\n",
       " 'ENCFF000WEL',\n",
       " 'ENCFF000WEN',\n",
       " 'ENCFF000WER',\n",
       " 'ENCFF000WES',\n",
       " 'ENCFF000WFF',\n",
       " 'ENCFF000WFG',\n",
       " 'ENCFF000WFL',\n",
       " 'ENCFF000WFM',\n",
       " 'ENCFF000WGH',\n",
       " 'ENCFF000WGI',\n",
       " 'ENCFF000WGJ',\n",
       " 'ENCFF000WGL',\n",
       " 'ENCFF000WGO',\n",
       " 'ENCFF000WGQ',\n",
       " 'ENCFF001GNJ',\n",
       " 'ENCFF001GNO',\n",
       " 'ENCFF001GNQ',\n",
       " 'ENCFF001GNS',\n",
       " 'ENCFF001GNW',\n",
       " 'ENCFF001GNZ',\n",
       " 'ENCFF001HHW',\n",
       " 'ENCFF001RWH',\n",
       " 'ENCFF001RWI',\n",
       " 'ENCFF001RWJ',\n",
       " 'ENCFF001RWK',\n",
       " 'ENCFF001RZE',\n",
       " 'ENCFF001RZF',\n",
       " 'ENCFF001RZJ',\n",
       " 'ENCFF001SAQ',\n",
       " 'ENCFF001SAU',\n",
       " 'ENCFF001SAW',\n",
       " 'ENCFF001SBZ',\n",
       " 'ENCFF001SCD',\n",
       " 'ENCFF001SCR',\n",
       " 'ENCFF001SCZ',\n",
       " 'ENCFF001SDA',\n",
       " 'ENCFF001SDJ',\n",
       " 'ENCFF001SFW',\n",
       " 'ENCFF001SFX',\n",
       " 'ENCFF001SJD',\n",
       " 'ENCFF001SMA',\n",
       " 'ENCFF180ZRG',\n",
       " 'ENCFF242MAP',\n",
       " 'ENCFF260KWD',\n",
       " 'ENCFF263PJH',\n",
       " 'ENCFF439LIW',\n",
       " 'ENCFF490VIX',\n",
       " 'ENCFF550JUF',\n",
       " 'ENCFF678NQJ',\n",
       " 'ENCFF697FDQ',\n",
       " 'ENCFF704PEK',\n",
       " 'ENCFF779OTU',\n",
       " 'ENCFF786EVL',\n",
       " 'ENCFF865GFG',\n",
       " 'ENCFF888ZWX',\n",
       " 'ENCFF898DZV',\n",
       " 'ENCFF978VYH',\n",
       " '']"
      ]
     },
     "execution_count": 17,
     "metadata": {},
     "output_type": "execute_result"
    }
   ],
   "source": [
    "bedGraphToBigWig depths_chr22_ChIP-seq_RNA-seq.txt ../REFERENCE_GENOME/hg19.chrom.sizes depths_chr22_ChIP-seq_RNA-seq.bw\n"
   ]
  },
  {
   "cell_type": "code",
   "execution_count": 22,
   "metadata": {
    "collapsed": false
   },
   "outputs": [
    {
     "name": "stdout",
     "output_type": "stream",
     "text": [
      "/hackathon/Hackathon_Project_4/ENCODE_DATA_GM12878/COMPLETED/readGroup.sh\r\n",
      "/hackathon/Hackathon_Project_4/ENCODE_DATA_GM12878/COMPLETED/rgIds.txt\r\n",
      "\r\n",
      "/hackathon/Hackathon_Project_4/ENCODE_DATA_GM12878/COMPLETED/rg_bams:\r\n"
     ]
    }
   ],
   "source": [
    "!ls /hackathon/Hackathon_Project_4/ENCODE_DATA_GM12878/COMPLETED/r*"
   ]
  },
  {
   "cell_type": "code",
   "execution_count": null,
   "metadata": {
    "collapsed": true
   },
   "outputs": [],
   "source": []
  }
 ],
 "metadata": {
  "anaconda-cloud": {},
  "kernelspec": {
   "display_name": "Python [conda root]",
   "language": "python",
   "name": "conda-root-py"
  },
  "language_info": {
   "codemirror_mode": {
    "name": "ipython",
    "version": 2
   },
   "file_extension": ".py",
   "mimetype": "text/x-python",
   "name": "python",
   "nbconvert_exporter": "python",
   "pygments_lexer": "ipython2",
   "version": "2.7.12"
  }
 },
 "nbformat": 4,
 "nbformat_minor": 1
}
