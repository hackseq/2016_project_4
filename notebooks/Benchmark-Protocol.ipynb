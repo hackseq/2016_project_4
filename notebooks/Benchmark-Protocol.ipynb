{
 "cells": [
  {
   "cell_type": "markdown",
   "metadata": {},
   "source": [
    "#Benchmark Protocol\n",
    "##Hackseq 2016 - Group 4"
   ]
  },
  {
   "cell_type": "markdown",
   "metadata": {},
   "source": [
    "(2) Create element specific bed files for CDS, UTR, exon (other), genes, transcripts, and promoters (+/- 2Kb around TSS)"
   ]
  },
  {
   "cell_type": "code",
   "execution_count": 11,
   "metadata": {
    "collapsed": false
   },
   "outputs": [],
   "source": [
    "%%bash\n",
    "\n",
    "BASE_PATH=/hackathon/Hackathon_Project_4\n",
    "cd $BASE_PATH/GENOME_ANNOTATIONS/\n",
    "\n",
    "awk -F \"\\t\" '{if ($3 == \"CDS\") print $0}' gencode.v19.annotation.chr22.gtf | \\\n",
    "awk '{print $1 \"\\t\" $4 \"\\t\" $5 \"\\t\" $28\"-\"$18 \"\\t\" \".\" \"\\t\" $7}' | \\\n",
    "awk '{gsub(/;/,\"\");print}' | awk '{gsub(/\"/,\"\");print}' > CDSs.chr22.bed\n",
    "\n",
    "awk -F \"\\t\" '{if ($3 == \"UTR\") print $0}' gencode.v19.annotation.chr22.gtf | \\\n",
    "awk '{print $1 \"\\t\" $4 \"\\t\" $5 \"\\t\" $12\"-\"$18 \"\\t\" \".\" \"\\t\" $7}' | \\\n",
    "awk '{gsub(/;/,\"\");print}' | awk '{gsub(/\"/,\"\");print}' > UTRs.chr22.bed\n",
    "\n",
    "awk -F \"\\t\" '{if ($3 == \"exon\") print $0}' gencode.v19.annotation.chr22.gtf | \\\n",
    "awk '{print $1 \"\\t\" $4 \"\\t\" $5 \"\\t\" $28\"-\"$18 \"\\t\" \".\" \"\\t\" $7}' | \\\n",
    "awk '{gsub(/;/,\"\");print}' | awk '{gsub(/\"/,\"\");print}' > Exons.chr22.bed\n",
    "\n",
    "awk -F \"\\t\" '{if ($3 == \"gene\") print $0}' gencode.v19.annotation.chr22.gtf | \\\n",
    "awk '{print $1 \"\\t\" $4 \"\\t\" $5 \"\\t\" $10\"-\"$18 \"\\t\" \".\" \"\\t\" $7}' | \\\n",
    "awk '{gsub(/;/,\"\");print}' | awk '{gsub(/\"/,\"\");print}' > Genes.chr22.bed\n",
    "\n",
    "awk '{if ($3 == \"transcript\") print $1 \"\\t\" $4 \"\\t\" $5 \"\\t\" $12 \"\\t\" \".\" \"\\t\" $7 \\\n",
    "\"\\t\" $10 \"\\t\" $18 \"\\t\" $14}' gencode.v19.annotation.chr22.gtf | awk '{gsub(/;/,\"\");print}' | \\\n",
    "awk '{gsub(/\"/,\"\");print}' > Transcripts.chr22.bed\n",
    "\n",
    "awk '{if ($6 == \"+\") print $1 \"\\t\" $2-2000 \"\\t\" $2+2000 \"\\t\" $4 \"\\t\" $5 \"\\t\" $6 \\\n",
    "\"\\t\" $7 \"\\t\" $8 \"\\t\" $9 ; else print $1 \"\\t\" $3-2000 \"\\t\" $3+2000 \"\\t\" $4 \"\\t\" $5 \"\\t\" \\\n",
    "$6 \"\\t\" $7 \"\\t\" $8 \"\\t\" $9}' Transcripts.chr22.bed > Promoters.chr22.bed \n"
   ]
  },
  {
   "cell_type": "markdown",
   "metadata": {},
   "source": [
    "(3) Intersect variants with genetic context bed files "
   ]
  },
  {
   "cell_type": "code",
   "execution_count": 10,
   "metadata": {
    "collapsed": false,
    "scrolled": false
   },
   "outputs": [
    {
     "name": "stdout",
     "output_type": "stream",
     "text": [
      "Processing CDSs...\n",
      "Processing UTRs...\n",
      "Processing Other Exons...\n",
      "Processing Introns...\n",
      "Processing Promoters...\n"
     ]
    }
   ],
   "source": [
    "%%bash\n",
    "\n",
    "BASE_PATH=/hackathon/Hackathon_Project_4\n",
    "cd $BASE_PATH/GIAB_DATA\n",
    "\n",
    "$BASE_PATH/SOFTWARE/Benchmark-Tools/Determine-Variant-Context.sh \\\n",
    "GIAB-V3.3-chr22.bed GIAB-V3.3-chr22.Annotated.bed"
   ]
  },
  {
   "cell_type": "markdown",
   "metadata": {},
   "source": [
    "(4) Generate small test benchmark set for testing pipelines by intersecting variants with CTCF peaks"
   ]
  },
  {
   "cell_type": "code",
   "execution_count": 20,
   "metadata": {
    "collapsed": false
   },
   "outputs": [
    {
     "name": "stdout",
     "output_type": "stream",
     "text": [
      "chrom  position  position  snp_id      genotype  major_allele  minor_allele  depth  genotype_quality\n",
      "chr22  48888255  48888255  rs1034435   G/A       G             A             711    1439\n",
      "chr22  33445237  33445237  rs73162102  A/C       A             C             605    1341\n",
      "chr22  30787190  30787190  rs61583714  T/C       T             C             593    1279\n",
      "chr22  39739628  39739628  rs137685    C/T       C             T             709    1117\n",
      "chr22  33397045  33397045  rs73162048  T/C       T             C             627    1101\n",
      "chr22  33396904  33396904  rs73162047  C/T       C             T             573    1098\n",
      "chr22  36618077  36618077  rs68166856  A/C       A             C             690    1088\n",
      "chr22  40329148  40329148  rs137984    G/GT      G             GT            638    1086\n",
      "chr22  50648481  50648481  rs73187260  C/G       C             G             503    1051\n"
     ]
    },
    {
     "name": "stderr",
     "output_type": "stream",
     "text": [
      "sort: write failed: standard output: Broken pipe\n",
      "sort: write error\n"
     ]
    }
   ],
   "source": [
    "%%bash\n",
    "source ~/.bashrc\n",
    "BASE_PATH=/hackathon/Hackathon_Project_4\n",
    "cd $BASE_PATH/GIAB_DATA\n",
    "\n",
    "bedtools intersect -u -b GIAB-V3.3-chr22.bed -a $BASE_PATH/ENCODE_DATA_GM12878/PEAKS/ENCFF002CDP.bed | \\\n",
    "sort -k7,7rg | head -50 > peaks.bed\n",
    "\n",
    "echo -e \"chrom\\tposition\\tposition\\tsnp_id\\tgenotype\\tmajor_allele\\tminor_allele\\tdepth\\tgenotype_quality\" \\\n",
    "> $BASE_PATH/BENCHMARK/Benchmark-Test-V1.txt\n",
    "\n",
    "bedtools intersect -u -a GIAB-V3.3-chr22.bed -b peaks.bed | \\\n",
    "sort -k9,9rg | head -25 >> $BASE_PATH/BENCHMARK/Benchmark-Test-V1.txt\n",
    "\n",
    "rm peaks.bed\n",
    "head $BASE_PATH/BENCHMARK/Benchmark-Test-V1.txt | column -t"
   ]
  },
  {
   "cell_type": "markdown",
   "metadata": {},
   "source": [
    "(5) Generate benchmark dataset for any Bam File"
   ]
  },
  {
   "cell_type": "code",
   "execution_count": null,
   "metadata": {
    "collapsed": true
   },
   "outputs": [],
   "source": []
  }
 ],
 "metadata": {
  "anaconda-cloud": {},
  "kernelspec": {
   "display_name": "Python [default]",
   "language": "python",
   "name": "python2"
  },
  "language_info": {
   "codemirror_mode": {
    "name": "ipython",
    "version": 2
   },
   "file_extension": ".py",
   "mimetype": "text/x-python",
   "name": "python",
   "nbconvert_exporter": "python",
   "pygments_lexer": "ipython2",
   "version": "2.7.12"
  }
 },
 "nbformat": 4,
 "nbformat_minor": 1
}
