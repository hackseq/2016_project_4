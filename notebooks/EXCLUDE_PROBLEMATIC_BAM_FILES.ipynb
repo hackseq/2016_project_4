{
 "cells": [
  {
   "cell_type": "code",
   "execution_count": 95,
   "metadata": {
    "collapsed": false
   },
   "outputs": [],
   "source": [
    "import os \n",
    "import glob\n",
    "import pandas as pd\n",
    "\n",
    "BASE_PATH='/hackathon/Hackathon_Project_4'\n",
    "jp=lambda x: os.path.join(BASE_PATH,x)\n",
    "\n",
    "BAM_FOLDER=jp('ENCODE_DATA_GM12878/COMPLETED')\n",
    "BAM_EXCLUDED_FOLDER=jp('ENCODE_DATA_GM12878/EXCLUDED')\n"
   ]
  },
  {
   "cell_type": "code",
   "execution_count": 96,
   "metadata": {
    "collapsed": false
   },
   "outputs": [
    {
     "name": "stdout",
     "output_type": "stream",
     "text": [
      "mkdir: cannot create directory ‘/hackathon/Hackathon_Project_4/ENCODE_DATA_GM12878/EXCLUDED’: File exists\n",
      "ENCFF000RQP.bam      ENCFF258YSZ.bam\t  ENCFF621HXL.bam\n",
      "ENCFF000RQP.bam.bai  ENCFF258YSZ.bam.bai  ENCFF621HXL.bam.bai\n",
      "ENCFF000RQQ.bam      ENCFF259KER.bam\t  ENCFF641YOP.bam\n",
      "ENCFF000RQQ.bam.bai  ENCFF259KER.bam.bai  ENCFF641YOP.bam.bai\n",
      "ENCFF007FJI.bam      ENCFF308VIO.bam\t  ENCFF674BIH.bam\n",
      "ENCFF007LQT.bam      ENCFF315YXO.bam\t  ENCFF674BIH.bam.bai\n",
      "ENCFF007LQT.bam.bai  ENCFF347WFP.bam\t  ENCFF687WHP.bam\n",
      "ENCFF031FOW.bam      ENCFF347WFP.bam.bai  ENCFF697KFO.bam\n",
      "ENCFF048WVG.bam      ENCFF356GZU.bam\t  ENCFF697KFO.bam.bai\n",
      "ENCFF048WVG.bam.bai  ENCFF356GZU.bam.bai  ENCFF778SFW.bam\n",
      "ENCFF084RZU.bam      ENCFF362UKA.bam\t  ENCFF780TSB.bam\n",
      "ENCFF095ZAM.bam      ENCFF373QSL.bam\t  ENCFF842TJL.bam\n",
      "ENCFF097LQR.bam      ENCFF373QSL.bam.bai  ENCFF859DWF.bam\n",
      "ENCFF110FYW.bam      ENCFF398SCD.bam\t  ENCFF859DWF.bam.bai\n",
      "ENCFF110FYW.bam.bai  ENCFF398SCD.bam.bai  ENCFF874UBO.bam\n",
      "ENCFF156FPC.bam      ENCFF430GIQ.bam\t  ENCFF888TNZ.bam\n",
      "ENCFF156FPC.bam.bai  ENCFF430GIQ.bam.bai  ENCFF888TNZ.bam.bai\n",
      "ENCFF164FRF.bam      ENCFF454JRE.bam\t  ENCFF911OVQ.bam\n",
      "ENCFF164FRF.bam.bai  ENCFF454JRE.bam.bai  ENCFF911OVQ.bam.bai\n",
      "ENCFF171CGJ.bam      ENCFF454MQY.bam\t  ENCFF915ISY.bam\n",
      "ENCFF171CGJ.bam.bai  ENCFF529NKG.bam\t  ENCFF915ISY.bam.bai\n",
      "ENCFF182YIK.bam      ENCFF529NKG.bam.bai  ENCFF925PCE.bam\n",
      "ENCFF182YIK.bam.bai  ENCFF556BNV.bam\t  ENCFF934ISZ.bam\n",
      "ENCFF203SNE.bam      ENCFF564GKK.bam\t  ENCFF934ISZ.bam.bai\n",
      "ENCFF215DHD.bam      ENCFF580TFI.bam\t  ENCFF940QZI.bam\n",
      "ENCFF215DHD.bam.bai  ENCFF580TFI.bam.bai  ENCFF940QZI.bam.bai\n",
      "ENCFF233YMW.bam      ENCFF613PIC.bam\t  ENCFF951MZX.bam\n",
      "ENCFF233YMW.bam.bai  ENCFF619TQJ.bam\t  ENCFF951MZX.bam.bai\n",
      "ENCFF242CSI.bam      ENCFF619TQJ.bam.bai  ENCFF961WVU.bam\n"
     ]
    }
   ],
   "source": [
    "!mkdir {BAM_EXCLUDED_FOLDER}\n",
    "!ls {BAM_EXCLUDED_FOLDER}"
   ]
  },
  {
   "cell_type": "code",
   "execution_count": 97,
   "metadata": {
    "collapsed": false
   },
   "outputs": [],
   "source": [
    "df=pd.read_table(jp('metadata.tsv'))"
   ]
  },
  {
   "cell_type": "code",
   "execution_count": 98,
   "metadata": {
    "collapsed": false
   },
   "outputs": [
    {
     "data": {
      "text/plain": [
       "array(['RNA-seq', 'ChIP-seq', 'single cell isolation followed by RNA-seq',\n",
       "       'Repli-seq', 'RIP-seq', 'RNA-PET', 'DNase-seq', 'FAIRE-seq',\n",
       "       'RAMPAGE', 'MNase-seq', 'CAGE'], dtype=object)"
      ]
     },
     "execution_count": 98,
     "metadata": {},
     "output_type": "execute_result"
    }
   ],
   "source": [
    "df.Assay.unique()"
   ]
  },
  {
   "cell_type": "code",
   "execution_count": 99,
   "metadata": {
    "collapsed": false
   },
   "outputs": [],
   "source": [
    "df_excluded=df.ix[(df['Biosample term name']!='GM12878') | (df['Assay'] == 'single cell isolation followed by RNA-seq')]"
   ]
  },
  {
   "cell_type": "code",
   "execution_count": 100,
   "metadata": {
    "collapsed": false
   },
   "outputs": [
    {
     "name": "stdout",
     "output_type": "stream",
     "text": [
      "Found problematic bam: /hackathon/Hackathon_Project_4/ENCODE_DATA_GM12878/COMPLETED/ENCFF148QHM.bam\n",
      "Found problematic bam: /hackathon/Hackathon_Project_4/ENCODE_DATA_GM12878/COMPLETED/ENCFF581UJR.bam\n",
      "mv: cannot stat ‘/hackathon/Hackathon_Project_4/ENCODE_DATA_GM12878/COMPLETED/ENCFF581UJR.bam.bai’: No such file or directory\n",
      "Found problematic bam: /hackathon/Hackathon_Project_4/ENCODE_DATA_GM12878/COMPLETED/ENCFF938NLN.bam\n",
      "mv: cannot stat ‘/hackathon/Hackathon_Project_4/ENCODE_DATA_GM12878/COMPLETED/ENCFF938NLN.bam.bai’: No such file or directory\n",
      "Found problematic bam: /hackathon/Hackathon_Project_4/ENCODE_DATA_GM12878/COMPLETED/ENCFF583HWX.bam\n",
      "Found problematic bam: /hackathon/Hackathon_Project_4/ENCODE_DATA_GM12878/COMPLETED/ENCFF438NPX.bam\n",
      "mv: cannot stat ‘/hackathon/Hackathon_Project_4/ENCODE_DATA_GM12878/COMPLETED/ENCFF438NPX.bam.bai’: No such file or directory\n",
      "Found problematic bam: /hackathon/Hackathon_Project_4/ENCODE_DATA_GM12878/COMPLETED/ENCFF923TUQ.bam\n",
      "Found problematic bam: /hackathon/Hackathon_Project_4/ENCODE_DATA_GM12878/COMPLETED/ENCFF822AIS.bam\n",
      "Found problematic bam: /hackathon/Hackathon_Project_4/ENCODE_DATA_GM12878/COMPLETED/ENCFF068ATV.bam\n",
      "mv: cannot stat ‘/hackathon/Hackathon_Project_4/ENCODE_DATA_GM12878/COMPLETED/ENCFF068ATV.bam.bai’: No such file or directory\n",
      "Found problematic bam: /hackathon/Hackathon_Project_4/ENCODE_DATA_GM12878/COMPLETED/ENCFF067MJH.bam\n",
      "Found problematic bam: /hackathon/Hackathon_Project_4/ENCODE_DATA_GM12878/COMPLETED/ENCFF375CBT.bam\n",
      "Found problematic bam: /hackathon/Hackathon_Project_4/ENCODE_DATA_GM12878/COMPLETED/ENCFF550LLI.bam\n",
      "Found problematic bam: /hackathon/Hackathon_Project_4/ENCODE_DATA_GM12878/COMPLETED/ENCFF466HPK.bam\n",
      "mv: cannot stat ‘/hackathon/Hackathon_Project_4/ENCODE_DATA_GM12878/COMPLETED/ENCFF466HPK.bam.bai’: No such file or directory\n",
      "Found problematic bam: /hackathon/Hackathon_Project_4/ENCODE_DATA_GM12878/COMPLETED/ENCFF004RYS.bam\n",
      "Found problematic bam: /hackathon/Hackathon_Project_4/ENCODE_DATA_GM12878/COMPLETED/ENCFF632MEF.bam\n",
      "mv: cannot stat ‘/hackathon/Hackathon_Project_4/ENCODE_DATA_GM12878/COMPLETED/ENCFF632MEF.bam.bai’: No such file or directory\n",
      "Found problematic bam: /hackathon/Hackathon_Project_4/ENCODE_DATA_GM12878/COMPLETED/ENCFF398UWK.bam\n",
      "Found problematic bam: /hackathon/Hackathon_Project_4/ENCODE_DATA_GM12878/COMPLETED/ENCFF170KVD.bam\n",
      "Found problematic bam: /hackathon/Hackathon_Project_4/ENCODE_DATA_GM12878/COMPLETED/ENCFF498NRI.bam\n",
      "mv: cannot stat ‘/hackathon/Hackathon_Project_4/ENCODE_DATA_GM12878/COMPLETED/ENCFF498NRI.bam.bai’: No such file or directory\n",
      "Found problematic bam: /hackathon/Hackathon_Project_4/ENCODE_DATA_GM12878/COMPLETED/ENCFF735ORN.bam\n",
      "Found problematic bam: /hackathon/Hackathon_Project_4/ENCODE_DATA_GM12878/COMPLETED/ENCFF857EAD.bam\n",
      "Found problematic bam: /hackathon/Hackathon_Project_4/ENCODE_DATA_GM12878/COMPLETED/ENCFF541OBY.bam\n",
      "Found problematic bam: /hackathon/Hackathon_Project_4/ENCODE_DATA_GM12878/COMPLETED/ENCFF207TUS.bam\n",
      "mv: cannot stat ‘/hackathon/Hackathon_Project_4/ENCODE_DATA_GM12878/COMPLETED/ENCFF207TUS.bam.bai’: No such file or directory\n",
      "Found problematic bam: /hackathon/Hackathon_Project_4/ENCODE_DATA_GM12878/COMPLETED/ENCFF942RHS.bam\n",
      "Found problematic bam: /hackathon/Hackathon_Project_4/ENCODE_DATA_GM12878/COMPLETED/ENCFF897EZQ.bam\n",
      "mv: cannot stat ‘/hackathon/Hackathon_Project_4/ENCODE_DATA_GM12878/COMPLETED/ENCFF897EZQ.bam.bai’: No such file or directory\n",
      "Found problematic bam: /hackathon/Hackathon_Project_4/ENCODE_DATA_GM12878/COMPLETED/ENCFF000RQX.bam\n",
      "Found problematic bam: /hackathon/Hackathon_Project_4/ENCODE_DATA_GM12878/COMPLETED/ENCFF000RRB.bam\n"
     ]
    }
   ],
   "source": [
    "for idx,row in df_excluded.iterrows():\n",
    "    #print row['File accession']\n",
    "    bam_path=os.path.join(BAM_FOLDER,row['File accession']+'.bam') \n",
    "    bai_path=os.path.join(BAM_FOLDER,row['File accession']+'.bam.bai')\n",
    "    if os.path.exists(bam_path) or os.path.exists(bai_path) :\n",
    "        print 'Found problematic bam: %s' % bam_path\n",
    "        !mv {bam_path} {BAM_EXCLUDED_FOLDER}\n",
    "        !mv {bam_path+'.bai'} {BAM_EXCLUDED_FOLDER}\n",
    "    "
   ]
  },
  {
   "cell_type": "code",
   "execution_count": 101,
   "metadata": {
    "collapsed": false
   },
   "outputs": [
    {
     "data": {
      "text/plain": [
       "File accession                                                                    ENCFF697KFO\n",
       "File format                                                                               bam\n",
       "Output type                                                                        alignments\n",
       "Experiment accession                                                              ENCSR000AIY\n",
       "Assay                                               single cell isolation followed by RNA-seq\n",
       "Biosample term id                                                                 EFO:0002784\n",
       "Biosample term name                                                                   GM12878\n",
       "Biosample type                                                         immortalized cell line\n",
       "Biosample life stage                                                                    adult\n",
       "Biosample sex                                                                          female\n",
       "Biosample organism                                                               Homo sapiens\n",
       "Biosample treatments                                                                      NaN\n",
       "Biosample subcellular fraction term name                                                  NaN\n",
       "Biosample phase                                                                           NaN\n",
       "Biosample synchronization stage                                                           NaN\n",
       "Experiment target                                                                         NaN\n",
       "Antibody accession                                                                        NaN\n",
       "Library made from                                                                         RNA\n",
       "Library depleted in                                                                       NaN\n",
       "Library extraction method                                                                None\n",
       "Library lysis method                        72 degrees for 3 minutes in the presence of Tr...\n",
       "Library crosslinking method                                                               NaN\n",
       "Experiment date released                                                           2014-06-30\n",
       "Project                                                                                ENCODE\n",
       "RBNS protein concentration                                                                NaN\n",
       "Library fragmentation method                                  chemical (Nextera tagmentation)\n",
       "Library size range                                                                       >200\n",
       "Biosample Age                                                                             NaN\n",
       "Biological replicate(s)                                                                     1\n",
       "Technical replicate                                                                         1\n",
       "Read length                                                                               NaN\n",
       "Mapped read length                                                                        NaN\n",
       "Run type                                                                                  NaN\n",
       "Paired end                                                                                NaN\n",
       "Paired with                                                                               NaN\n",
       "Derived from                                                         ENCFF002BHS, ENCFF700TXC\n",
       "Size                                                                               3235744130\n",
       "Lab                                                                ENCODE Processing Pipeline\n",
       "md5sum                                                       51b46348b9d6d3c43b4999c374c539ef\n",
       "File download URL                           https://www.encodeproject.org/files/ENCFF697KF...\n",
       "Assembly                                                                                 hg19\n",
       "Platform                                                                                  NaN\n",
       "Controlled by                                                                             NaN\n",
       "File Status                                                                          released\n",
       "Audit WARNING                                                                             NaN\n",
       "Audit INTERNAL_ACTION                                   NTR assay, inconsistent assay_term_id\n",
       "Audit NOT_COMPLIANT                                                                       NaN\n",
       "Audit ERROR                                                                               NaN\n",
       "Name: 30, dtype: object"
      ]
     },
     "execution_count": 101,
     "metadata": {},
     "output_type": "execute_result"
    }
   ],
   "source": [
    "df_excluded.iloc[0]"
   ]
  },
  {
   "cell_type": "code",
   "execution_count": 102,
   "metadata": {
    "collapsed": true
   },
   "outputs": [],
   "source": [
    "#To remove other problematic files we check if they don't have an index!"
   ]
  },
  {
   "cell_type": "code",
   "execution_count": 103,
   "metadata": {
    "collapsed": false
   },
   "outputs": [
    {
     "name": "stdout",
     "output_type": "stream",
     "text": [
      "/hackathon/Hackathon_Project_4/ENCODE_DATA_GM12878/COMPLETED/ENCFF065BHT.bam\n",
      "/hackathon/Hackathon_Project_4/ENCODE_DATA_GM12878/COMPLETED/ENCFF351KUH.bam\n",
      "/hackathon/Hackathon_Project_4/ENCODE_DATA_GM12878/COMPLETED/ENCFF634RRK.bam\n",
      "/hackathon/Hackathon_Project_4/ENCODE_DATA_GM12878/COMPLETED/ENCFF038HHR.bam\n",
      "/hackathon/Hackathon_Project_4/ENCODE_DATA_GM12878/COMPLETED/ENCFF376KWQ.bam\n",
      "/hackathon/Hackathon_Project_4/ENCODE_DATA_GM12878/COMPLETED/ENCFF281JCF.bam\n",
      "/hackathon/Hackathon_Project_4/ENCODE_DATA_GM12878/COMPLETED/ENCFF309YOJ.bam\n",
      "/hackathon/Hackathon_Project_4/ENCODE_DATA_GM12878/COMPLETED/ENCFF312RXW.bam\n",
      "/hackathon/Hackathon_Project_4/ENCODE_DATA_GM12878/COMPLETED/ENCFF209TQU.bam\n",
      "/hackathon/Hackathon_Project_4/ENCODE_DATA_GM12878/COMPLETED/ENCFF814NCT.bam\n",
      "/hackathon/Hackathon_Project_4/ENCODE_DATA_GM12878/COMPLETED/ENCFF498SKI.bam\n",
      "/hackathon/Hackathon_Project_4/ENCODE_DATA_GM12878/COMPLETED/ENCFF664VWD.bam\n",
      "/hackathon/Hackathon_Project_4/ENCODE_DATA_GM12878/COMPLETED/ENCFF023VHF.bam\n",
      "/hackathon/Hackathon_Project_4/ENCODE_DATA_GM12878/COMPLETED/ENCFF245CYE.bam\n",
      "/hackathon/Hackathon_Project_4/ENCODE_DATA_GM12878/COMPLETED/ENCFF050DBE.bam\n",
      "/hackathon/Hackathon_Project_4/ENCODE_DATA_GM12878/COMPLETED/ENCFF929RFI.bam\n",
      "/hackathon/Hackathon_Project_4/ENCODE_DATA_GM12878/COMPLETED/ENCFF862SIX.bam\n",
      "/hackathon/Hackathon_Project_4/ENCODE_DATA_GM12878/COMPLETED/ENCFF252CNJ.bam\n",
      "/hackathon/Hackathon_Project_4/ENCODE_DATA_GM12878/COMPLETED/ENCFF023SAN.bam\n",
      "/hackathon/Hackathon_Project_4/ENCODE_DATA_GM12878/COMPLETED/ENCFF216UNP.bam\n",
      "/hackathon/Hackathon_Project_4/ENCODE_DATA_GM12878/COMPLETED/ENCFF271YOW.bam\n",
      "/hackathon/Hackathon_Project_4/ENCODE_DATA_GM12878/COMPLETED/ENCFF990VAM.bam\n",
      "/hackathon/Hackathon_Project_4/ENCODE_DATA_GM12878/COMPLETED/ENCFF789DXK.bam\n",
      "/hackathon/Hackathon_Project_4/ENCODE_DATA_GM12878/COMPLETED/ENCFF406LBY.bam\n",
      "/hackathon/Hackathon_Project_4/ENCODE_DATA_GM12878/COMPLETED/ENCFF877XUC.bam\n",
      "/hackathon/Hackathon_Project_4/ENCODE_DATA_GM12878/COMPLETED/ENCFF039XQM.bam\n"
     ]
    }
   ],
   "source": [
    "for bam_filename in glob.glob(os.path.join(BAM_FOLDER,'*.bam')):\n",
    "    bai_filename=bam_filename+'.bai'\n",
    "    if not os.path.exists(bai_filename):\n",
    "        print bam_filename\n",
    "        !mv {bam_filename} {BAM_EXCLUDED_FOLDER}"
   ]
  },
  {
   "cell_type": "code",
   "execution_count": null,
   "metadata": {
    "collapsed": true
   },
   "outputs": [],
   "source": []
  }
 ],
 "metadata": {
  "anaconda-cloud": {},
  "kernelspec": {
   "display_name": "Python [conda root]",
   "language": "python",
   "name": "conda-root-py"
  },
  "language_info": {
   "codemirror_mode": {
    "name": "ipython",
    "version": 2
   },
   "file_extension": ".py",
   "mimetype": "text/x-python",
   "name": "python",
   "nbconvert_exporter": "python",
   "pygments_lexer": "ipython2",
   "version": "2.7.12"
  }
 },
 "nbformat": 4,
 "nbformat_minor": 1
}
