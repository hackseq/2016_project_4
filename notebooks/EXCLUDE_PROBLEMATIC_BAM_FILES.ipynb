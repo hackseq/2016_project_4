{
 "cells": [
  {
   "cell_type": "code",
   "execution_count": 89,
   "metadata": {
    "collapsed": false
   },
   "outputs": [],
   "source": [
    "import os \n",
    "import glob\n",
    "import pandas as pd\n",
    "\n",
    "BASE_PATH='/hackathon/Hackathon_Project_4'\n",
    "jp=lambda x: os.path.join(BASE_PATH,x)\n",
    "\n",
    "BAM_FOLDER=jp('ENCODE_DATA_GM12878/COMPLETED')\n",
    "BAM_EXCLUDED_FOLDER=jp('ENCODE_DATA_GM12878/EXCLUDED')\n"
   ]
  },
  {
   "cell_type": "code",
   "execution_count": 77,
   "metadata": {
    "collapsed": false
   },
   "outputs": [
    {
     "name": "stdout",
     "output_type": "stream",
     "text": [
      "mkdir: cannot create directory ‘/hackathon/Hackathon_Project_4/ENCODE_DATA_GM12878/EXCLUDED’: File exists\r\n"
     ]
    }
   ],
   "source": [
    "!mkdir {BAM_EXCLUDED_FOLDER}\n",
    "!ls {BAM_EXCLUDED_FOLDER}"
   ]
  },
  {
   "cell_type": "code",
   "execution_count": 78,
   "metadata": {
    "collapsed": false
   },
   "outputs": [],
   "source": [
    "df=pd.read_table(jp('metadata.tsv'))"
   ]
  },
  {
   "cell_type": "code",
   "execution_count": 79,
   "metadata": {
    "collapsed": false
   },
   "outputs": [
    {
     "data": {
      "text/plain": [
       "array(['RNA-seq', 'ChIP-seq', 'single cell isolation followed by RNA-seq',\n",
       "       'Repli-seq', 'RIP-seq', 'RNA-PET', 'DNase-seq', 'FAIRE-seq',\n",
       "       'RAMPAGE', 'MNase-seq', 'CAGE'], dtype=object)"
      ]
     },
     "execution_count": 79,
     "metadata": {},
     "output_type": "execute_result"
    }
   ],
   "source": [
    "df.Assay.unique()"
   ]
  },
  {
   "cell_type": "code",
   "execution_count": 80,
   "metadata": {
    "collapsed": false
   },
   "outputs": [],
   "source": [
    "df_excluded=df.ix[(df['Biosample term name']!='GM12878') | (df['Assay'] == 'single cell isolation followed by RNA-seq')]"
   ]
  },
  {
   "cell_type": "code",
   "execution_count": 86,
   "metadata": {
    "collapsed": false
   },
   "outputs": [
    {
     "name": "stdout",
     "output_type": "stream",
     "text": [
      "Found problematic bam: /hackathon/Hackathon_Project_4/ENCODE_DATA_GM12878/COMPLETED/ENCFF697KFO.bam\n",
      "mv: cannot stat ‘/hackathon/Hackathon_Project_4/ENCODE_DATA_GM12878/COMPLETED/ENCFF697KFO.bam’: No such file or directory\n",
      "Found problematic bam: /hackathon/Hackathon_Project_4/ENCODE_DATA_GM12878/COMPLETED/ENCFF674BIH.bam\n",
      "mv: cannot stat ‘/hackathon/Hackathon_Project_4/ENCODE_DATA_GM12878/COMPLETED/ENCFF674BIH.bam’: No such file or directory\n",
      "Found problematic bam: /hackathon/Hackathon_Project_4/ENCODE_DATA_GM12878/COMPLETED/ENCFF934ISZ.bam\n",
      "mv: cannot stat ‘/hackathon/Hackathon_Project_4/ENCODE_DATA_GM12878/COMPLETED/ENCFF934ISZ.bam’: No such file or directory\n",
      "Found problematic bam: /hackathon/Hackathon_Project_4/ENCODE_DATA_GM12878/COMPLETED/ENCFF048WVG.bam\n",
      "mv: cannot stat ‘/hackathon/Hackathon_Project_4/ENCODE_DATA_GM12878/COMPLETED/ENCFF048WVG.bam’: No such file or directory\n",
      "Found problematic bam: /hackathon/Hackathon_Project_4/ENCODE_DATA_GM12878/COMPLETED/ENCFF000RQP.bam\n",
      "mv: cannot stat ‘/hackathon/Hackathon_Project_4/ENCODE_DATA_GM12878/COMPLETED/ENCFF000RQP.bam’: No such file or directory\n",
      "Found problematic bam: /hackathon/Hackathon_Project_4/ENCODE_DATA_GM12878/COMPLETED/ENCFF000RQQ.bam\n",
      "mv: cannot stat ‘/hackathon/Hackathon_Project_4/ENCODE_DATA_GM12878/COMPLETED/ENCFF000RQQ.bam’: No such file or directory\n",
      "Found problematic bam: /hackathon/Hackathon_Project_4/ENCODE_DATA_GM12878/COMPLETED/ENCFF171CGJ.bam\n",
      "mv: cannot stat ‘/hackathon/Hackathon_Project_4/ENCODE_DATA_GM12878/COMPLETED/ENCFF171CGJ.bam’: No such file or directory\n",
      "Found problematic bam: /hackathon/Hackathon_Project_4/ENCODE_DATA_GM12878/COMPLETED/ENCFF454JRE.bam\n",
      "mv: cannot stat ‘/hackathon/Hackathon_Project_4/ENCODE_DATA_GM12878/COMPLETED/ENCFF454JRE.bam’: No such file or directory\n",
      "Found problematic bam: /hackathon/Hackathon_Project_4/ENCODE_DATA_GM12878/COMPLETED/ENCFF888TNZ.bam\n",
      "mv: cannot stat ‘/hackathon/Hackathon_Project_4/ENCODE_DATA_GM12878/COMPLETED/ENCFF888TNZ.bam’: No such file or directory\n",
      "Found problematic bam: /hackathon/Hackathon_Project_4/ENCODE_DATA_GM12878/COMPLETED/ENCFF580TFI.bam\n",
      "mv: cannot stat ‘/hackathon/Hackathon_Project_4/ENCODE_DATA_GM12878/COMPLETED/ENCFF580TFI.bam’: No such file or directory\n",
      "Found problematic bam: /hackathon/Hackathon_Project_4/ENCODE_DATA_GM12878/COMPLETED/ENCFF007LQT.bam\n",
      "mv: cannot stat ‘/hackathon/Hackathon_Project_4/ENCODE_DATA_GM12878/COMPLETED/ENCFF007LQT.bam’: No such file or directory\n",
      "Found problematic bam: /hackathon/Hackathon_Project_4/ENCODE_DATA_GM12878/COMPLETED/ENCFF110FYW.bam\n",
      "mv: cannot stat ‘/hackathon/Hackathon_Project_4/ENCODE_DATA_GM12878/COMPLETED/ENCFF110FYW.bam’: No such file or directory\n",
      "Found problematic bam: /hackathon/Hackathon_Project_4/ENCODE_DATA_GM12878/COMPLETED/ENCFF915ISY.bam\n",
      "mv: cannot stat ‘/hackathon/Hackathon_Project_4/ENCODE_DATA_GM12878/COMPLETED/ENCFF915ISY.bam’: No such file or directory\n",
      "Found problematic bam: /hackathon/Hackathon_Project_4/ENCODE_DATA_GM12878/COMPLETED/ENCFF398SCD.bam\n",
      "mv: cannot stat ‘/hackathon/Hackathon_Project_4/ENCODE_DATA_GM12878/COMPLETED/ENCFF398SCD.bam’: No such file or directory\n",
      "Found problematic bam: /hackathon/Hackathon_Project_4/ENCODE_DATA_GM12878/COMPLETED/ENCFF156FPC.bam\n",
      "mv: cannot stat ‘/hackathon/Hackathon_Project_4/ENCODE_DATA_GM12878/COMPLETED/ENCFF156FPC.bam’: No such file or directory\n",
      "Found problematic bam: /hackathon/Hackathon_Project_4/ENCODE_DATA_GM12878/COMPLETED/ENCFF529NKG.bam\n",
      "mv: cannot stat ‘/hackathon/Hackathon_Project_4/ENCODE_DATA_GM12878/COMPLETED/ENCFF529NKG.bam’: No such file or directory\n",
      "Found problematic bam: /hackathon/Hackathon_Project_4/ENCODE_DATA_GM12878/COMPLETED/ENCFF233YMW.bam\n",
      "mv: cannot stat ‘/hackathon/Hackathon_Project_4/ENCODE_DATA_GM12878/COMPLETED/ENCFF233YMW.bam’: No such file or directory\n",
      "Found problematic bam: /hackathon/Hackathon_Project_4/ENCODE_DATA_GM12878/COMPLETED/ENCFF859DWF.bam\n",
      "mv: cannot stat ‘/hackathon/Hackathon_Project_4/ENCODE_DATA_GM12878/COMPLETED/ENCFF859DWF.bam’: No such file or directory\n",
      "Found problematic bam: /hackathon/Hackathon_Project_4/ENCODE_DATA_GM12878/COMPLETED/ENCFF911OVQ.bam\n",
      "mv: cannot stat ‘/hackathon/Hackathon_Project_4/ENCODE_DATA_GM12878/COMPLETED/ENCFF911OVQ.bam’: No such file or directory\n",
      "Found problematic bam: /hackathon/Hackathon_Project_4/ENCODE_DATA_GM12878/COMPLETED/ENCFF356GZU.bam\n",
      "mv: cannot stat ‘/hackathon/Hackathon_Project_4/ENCODE_DATA_GM12878/COMPLETED/ENCFF356GZU.bam’: No such file or directory\n",
      "Found problematic bam: /hackathon/Hackathon_Project_4/ENCODE_DATA_GM12878/COMPLETED/ENCFF619TQJ.bam\n",
      "mv: cannot stat ‘/hackathon/Hackathon_Project_4/ENCODE_DATA_GM12878/COMPLETED/ENCFF619TQJ.bam’: No such file or directory\n",
      "Found problematic bam: /hackathon/Hackathon_Project_4/ENCODE_DATA_GM12878/COMPLETED/ENCFF430GIQ.bam\n",
      "mv: cannot stat ‘/hackathon/Hackathon_Project_4/ENCODE_DATA_GM12878/COMPLETED/ENCFF430GIQ.bam’: No such file or directory\n",
      "Found problematic bam: /hackathon/Hackathon_Project_4/ENCODE_DATA_GM12878/COMPLETED/ENCFF164FRF.bam\n",
      "mv: cannot stat ‘/hackathon/Hackathon_Project_4/ENCODE_DATA_GM12878/COMPLETED/ENCFF164FRF.bam’: No such file or directory\n",
      "Found problematic bam: /hackathon/Hackathon_Project_4/ENCODE_DATA_GM12878/COMPLETED/ENCFF347WFP.bam\n",
      "mv: cannot stat ‘/hackathon/Hackathon_Project_4/ENCODE_DATA_GM12878/COMPLETED/ENCFF347WFP.bam’: No such file or directory\n",
      "Found problematic bam: /hackathon/Hackathon_Project_4/ENCODE_DATA_GM12878/COMPLETED/ENCFF641YOP.bam\n",
      "mv: cannot stat ‘/hackathon/Hackathon_Project_4/ENCODE_DATA_GM12878/COMPLETED/ENCFF641YOP.bam’: No such file or directory\n",
      "Found problematic bam: /hackathon/Hackathon_Project_4/ENCODE_DATA_GM12878/COMPLETED/ENCFF621HXL.bam\n",
      "mv: cannot stat ‘/hackathon/Hackathon_Project_4/ENCODE_DATA_GM12878/COMPLETED/ENCFF621HXL.bam’: No such file or directory\n",
      "Found problematic bam: /hackathon/Hackathon_Project_4/ENCODE_DATA_GM12878/COMPLETED/ENCFF182YIK.bam\n",
      "mv: cannot stat ‘/hackathon/Hackathon_Project_4/ENCODE_DATA_GM12878/COMPLETED/ENCFF182YIK.bam’: No such file or directory\n",
      "Found problematic bam: /hackathon/Hackathon_Project_4/ENCODE_DATA_GM12878/COMPLETED/ENCFF951MZX.bam\n",
      "mv: cannot stat ‘/hackathon/Hackathon_Project_4/ENCODE_DATA_GM12878/COMPLETED/ENCFF951MZX.bam’: No such file or directory\n",
      "Found problematic bam: /hackathon/Hackathon_Project_4/ENCODE_DATA_GM12878/COMPLETED/ENCFF215DHD.bam\n",
      "mv: cannot stat ‘/hackathon/Hackathon_Project_4/ENCODE_DATA_GM12878/COMPLETED/ENCFF215DHD.bam’: No such file or directory\n",
      "Found problematic bam: /hackathon/Hackathon_Project_4/ENCODE_DATA_GM12878/COMPLETED/ENCFF940QZI.bam\n",
      "mv: cannot stat ‘/hackathon/Hackathon_Project_4/ENCODE_DATA_GM12878/COMPLETED/ENCFF940QZI.bam’: No such file or directory\n",
      "Found problematic bam: /hackathon/Hackathon_Project_4/ENCODE_DATA_GM12878/COMPLETED/ENCFF373QSL.bam\n",
      "mv: cannot stat ‘/hackathon/Hackathon_Project_4/ENCODE_DATA_GM12878/COMPLETED/ENCFF373QSL.bam’: No such file or directory\n",
      "Found problematic bam: /hackathon/Hackathon_Project_4/ENCODE_DATA_GM12878/COMPLETED/ENCFF258YSZ.bam\n",
      "mv: cannot stat ‘/hackathon/Hackathon_Project_4/ENCODE_DATA_GM12878/COMPLETED/ENCFF258YSZ.bam’: No such file or directory\n",
      "Found problematic bam: /hackathon/Hackathon_Project_4/ENCODE_DATA_GM12878/COMPLETED/ENCFF259KER.bam\n",
      "mv: cannot stat ‘/hackathon/Hackathon_Project_4/ENCODE_DATA_GM12878/COMPLETED/ENCFF259KER.bam’: No such file or directory\n"
     ]
    }
   ],
   "source": [
    "for idx,row in df_excluded.iterrows():\n",
    "    #print row['File accession']\n",
    "    bam_path=os.path.join(BAM_FOLDER,row['File accession']+'.bam') \n",
    "    bai_path=os.path.join(BAM_FOLDER,row['File accession']+'.bam.bai')\n",
    "    if os.path.exists(bam_path) or os.path.exists(bai_path) :\n",
    "        print 'Found problematic bam: %s' % bam_path\n",
    "        !mv {bam_path} {BAM_EXCLUDED_FOLDER}\n",
    "        !mv {bam_path+'.bai'} {BAM_EXCLUDED_FOLDER}\n",
    "    "
   ]
  },
  {
   "cell_type": "code",
   "execution_count": 74,
   "metadata": {
    "collapsed": false
   },
   "outputs": [
    {
     "data": {
      "text/plain": [
       "File accession                                                                    ENCFF697KFO\n",
       "File format                                                                               bam\n",
       "Output type                                                                        alignments\n",
       "Experiment accession                                                              ENCSR000AIY\n",
       "Assay                                               single cell isolation followed by RNA-seq\n",
       "Biosample term id                                                                 EFO:0002784\n",
       "Biosample term name                                                                   GM12878\n",
       "Biosample type                                                         immortalized cell line\n",
       "Biosample life stage                                                                    adult\n",
       "Biosample sex                                                                          female\n",
       "Biosample organism                                                               Homo sapiens\n",
       "Biosample treatments                                                                      NaN\n",
       "Biosample subcellular fraction term name                                                  NaN\n",
       "Biosample phase                                                                           NaN\n",
       "Biosample synchronization stage                                                           NaN\n",
       "Experiment target                                                                         NaN\n",
       "Antibody accession                                                                        NaN\n",
       "Library made from                                                                         RNA\n",
       "Library depleted in                                                                       NaN\n",
       "Library extraction method                                                                None\n",
       "Library lysis method                        72 degrees for 3 minutes in the presence of Tr...\n",
       "Library crosslinking method                                                               NaN\n",
       "Experiment date released                                                           2014-06-30\n",
       "Project                                                                                ENCODE\n",
       "RBNS protein concentration                                                                NaN\n",
       "Library fragmentation method                                  chemical (Nextera tagmentation)\n",
       "Library size range                                                                       >200\n",
       "Biosample Age                                                                             NaN\n",
       "Biological replicate(s)                                                                     1\n",
       "Technical replicate                                                                         1\n",
       "Read length                                                                               NaN\n",
       "Mapped read length                                                                        NaN\n",
       "Run type                                                                                  NaN\n",
       "Paired end                                                                                NaN\n",
       "Paired with                                                                               NaN\n",
       "Derived from                                                         ENCFF002BHS, ENCFF700TXC\n",
       "Size                                                                               3235744130\n",
       "Lab                                                                ENCODE Processing Pipeline\n",
       "md5sum                                                       51b46348b9d6d3c43b4999c374c539ef\n",
       "File download URL                           https://www.encodeproject.org/files/ENCFF697KF...\n",
       "Assembly                                                                                 hg19\n",
       "Platform                                                                                  NaN\n",
       "Controlled by                                                                             NaN\n",
       "File Status                                                                          released\n",
       "Audit WARNING                                                                             NaN\n",
       "Audit INTERNAL_ACTION                                   NTR assay, inconsistent assay_term_id\n",
       "Audit NOT_COMPLIANT                                                                       NaN\n",
       "Audit ERROR                                                                               NaN\n",
       "Name: 30, dtype: object"
      ]
     },
     "execution_count": 74,
     "metadata": {},
     "output_type": "execute_result"
    }
   ],
   "source": [
    "df_excluded.iloc[0]"
   ]
  },
  {
   "cell_type": "code",
   "execution_count": 87,
   "metadata": {
    "collapsed": true
   },
   "outputs": [],
   "source": [
    "#To remove other problematic files we check if they don't have an index!"
   ]
  },
  {
   "cell_type": "code",
   "execution_count": 94,
   "metadata": {
    "collapsed": false
   },
   "outputs": [
    {
     "name": "stdout",
     "output_type": "stream",
     "text": [
      "/hackathon/Hackathon_Project_4/ENCODE_DATA_GM12878/COMPLETED/ENCFF242CSI.bam\n",
      "/hackathon/Hackathon_Project_4/ENCODE_DATA_GM12878/COMPLETED/ENCFF564GKK.bam\n",
      "/hackathon/Hackathon_Project_4/ENCODE_DATA_GM12878/COMPLETED/ENCFF778SFW.bam\n",
      "/hackathon/Hackathon_Project_4/ENCODE_DATA_GM12878/COMPLETED/ENCFF842TJL.bam\n",
      "/hackathon/Hackathon_Project_4/ENCODE_DATA_GM12878/COMPLETED/ENCFF095ZAM.bam\n",
      "/hackathon/Hackathon_Project_4/ENCODE_DATA_GM12878/COMPLETED/ENCFF362UKA.bam\n"
     ]
    }
   ],
   "source": [
    "for bam_filename in glob.glob(os.path.join(BAM_FOLDER,'*.bam')):\n",
    "    bai_filename=bam_filename+'.bai'\n",
    "    if not os.path.exists(bai_filename):\n",
    "        print bam_filename\n",
    "        !mv {bam_filename} {BAM_EXCLUDED_FOLDER}"
   ]
  },
  {
   "cell_type": "code",
   "execution_count": null,
   "metadata": {
    "collapsed": true
   },
   "outputs": [],
   "source": []
  }
 ],
 "metadata": {
  "anaconda-cloud": {},
  "kernelspec": {
   "display_name": "Python [conda root]",
   "language": "python",
   "name": "conda-root-py"
  },
  "language_info": {
   "codemirror_mode": {
    "name": "ipython",
    "version": 2
   },
   "file_extension": ".py",
   "mimetype": "text/x-python",
   "name": "python",
   "nbconvert_exporter": "python",
   "pygments_lexer": "ipython2",
   "version": "2.7.12"
  }
 },
 "nbformat": 4,
 "nbformat_minor": 1
}
