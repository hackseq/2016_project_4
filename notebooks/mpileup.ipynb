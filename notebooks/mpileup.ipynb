{
 "cells": [
  {
   "cell_type": "markdown",
   "metadata": {},
   "source": [
    "SAMTOOLS MPILEUP ON MULTIPLE BAMS\n",
    "================================="
   ]
  },
  {
   "cell_type": "code",
   "execution_count": 1,
   "metadata": {
    "collapsed": false
   },
   "outputs": [
    {
     "name": "stdout",
     "output_type": "stream",
     "text": [
      "samtools 1.3.1\r\n",
      "Using htslib 1.3.1\r\n",
      "Copyright (C) 2016 Genome Research Ltd.\r\n"
     ]
    }
   ],
   "source": [
    "! samtools --version"
   ]
  },
  {
   "cell_type": "markdown",
   "metadata": {},
   "source": [
    "See ``mpileup`` [manual](http://samtools.sourceforge.net/mpileup.shtml).\n",
    "``samtools mpileup`` requires:\n",
    "- an index reference fasta\n",
    "- indexed bam files "
   ]
  },
  {
   "cell_type": "markdown",
   "metadata": {},
   "source": [
    "The input bam files used in this example are assembled on hg19. "
   ]
  },
  {
   "cell_type": "markdown",
   "metadata": {},
   "source": [
    "We want to create a commands file for parallelization. We are using chromosome 22 as an example here. \n",
    "Parameters similar to GATK's default read filters were applied:\n",
    "- depth 1000000 \n",
    "- mapping quality 20 ([GATK haplotype caller](https://software.broadinstitute.org/gatk/gatkdocs/org_broadinstitute_gatk_tools_walkers_haplotypecaller_HaplotypeCaller.php) default)\n",
    "- base quality 10 ([GATK haplotype caller](https://software.broadinstitute.org/gatk/gatkdocs/org_broadinstitute_gatk_tools_walkers_haplotypecaller_HaplotypeCaller.php) default)\n",
    "- exclude read unmapped, not primary alignment, read fails platform/vendor quality checks, read is PCR or optical duplicate ([GATK haplotype caller](https://software.broadinstitute.org/gatk/gatkdocs/org_broadinstitute_gatk_tools_walkers_haplotypecaller_HaplotypeCaller.php) default)\n",
    "\n",
    "\n"
   ]
  },
  {
   "cell_type": "code",
   "execution_count": 3,
   "metadata": {
    "collapsed": false
   },
   "outputs": [
    {
     "name": "stdout",
     "output_type": "stream",
     "text": [
      "479 /hackathon/Hackathon_Project_4/MPILEUP/rg_bams/mpileup_commands\n",
      "samtools mpileup -d 1000000 --ff 1796 -q20 -Q10 -f /hackathon/Hackathon_Project_4/REFERENCE_GENOME/hg19.fa /hackathon/Hackathon_Project_4/ENCODE_DATA_GM12878/COMPLETED/rg_bams/ENCFF000ATH_chr22_ChIP-seq_rg.bam -r chr22 > /hackathon/Hackathon_Project_4/MPILEUP/rg_bams/ENCFF000ATH_chr22_ChIP-seq_rg.mpileup 2> /hackathon/Hackathon_Project_4/MPILEUP/rg_bams/ENCFF000ATH_chr22_ChIP-seq_rg.log\n",
      "samtools mpileup -d 1000000 --ff 1796 -q20 -Q10 -f /hackathon/Hackathon_Project_4/REFERENCE_GENOME/hg19.fa /hackathon/Hackathon_Project_4/ENCODE_DATA_GM12878/COMPLETED/rg_bams/ENCFF000ATQ_chr22_ChIP-seq_rg.bam -r chr22 > /hackathon/Hackathon_Project_4/MPILEUP/rg_bams/ENCFF000ATQ_chr22_ChIP-seq_rg.mpileup 2> /hackathon/Hackathon_Project_4/MPILEUP/rg_bams/ENCFF000ATQ_chr22_ChIP-seq_rg.log\n",
      "samtools mpileup -d 1000000 --ff 1796 -q20 -Q10 -f /hackathon/Hackathon_Project_4/REFERENCE_GENOME/hg19.fa /hackathon/Hackathon_Project_4/ENCODE_DATA_GM12878/COMPLETED/rg_bams/ENCFF000ATS_chr22_ChIP-seq_rg.bam -r chr22 > /hackathon/Hackathon_Project_4/MPILEUP/rg_bams/ENCFF000ATS_chr22_ChIP-seq_rg.mpileup 2> /hackathon/Hackathon_Project_4/MPILEUP/rg_bams/ENCFF000ATS_chr22_ChIP-seq_rg.log\n",
      "samtools mpileup -d 1000000 --ff 1796 -q20 -Q10 -f /hackathon/Hackathon_Project_4/REFERENCE_GENOME/hg19.fa /hackathon/Hackathon_Project_4/ENCODE_DATA_GM12878/COMPLETED/rg_bams/ENCFF000ATT_chr22_ChIP-seq_rg.bam -r chr22 > /hackathon/Hackathon_Project_4/MPILEUP/rg_bams/ENCFF000ATT_chr22_ChIP-seq_rg.mpileup 2> /hackathon/Hackathon_Project_4/MPILEUP/rg_bams/ENCFF000ATT_chr22_ChIP-seq_rg.log\n",
      "samtools mpileup -d 1000000 --ff 1796 -q20 -Q10 -f /hackathon/Hackathon_Project_4/REFERENCE_GENOME/hg19.fa /hackathon/Hackathon_Project_4/ENCODE_DATA_GM12878/COMPLETED/rg_bams/ENCFF000ATV_chr22_ChIP-seq_rg.bam -r chr22 > /hackathon/Hackathon_Project_4/MPILEUP/rg_bams/ENCFF000ATV_chr22_ChIP-seq_rg.mpileup 2> /hackathon/Hackathon_Project_4/MPILEUP/rg_bams/ENCFF000ATV_chr22_ChIP-seq_rg.log\n"
     ]
    }
   ],
   "source": [
    "%%bash\n",
    "REFERENCE=\"/hackathon/Hackathon_Project_4/REFERENCE_GENOME/hg19.fa\"\n",
    "INDEXED_BAMPATHS=\"/hackathon/Hackathon_Project_4/ENCODE_DATA_GM12878/COMPLETED/rg_bams/*bam\"\n",
    "CHROMOSOME=\"chr22\" # change this to any chromosome you like\n",
    "OUTPUT_DIRECTORY=\"/hackathon/Hackathon_Project_4/MPILEUP/rg_bams\"\n",
    "MPILEUP_COMMANDS_FILE=${OUTPUT_DIRECTORY}/\"mpileup_commands\"\n",
    "\n",
    "\n",
    "for bam in $(ls $INDEXED_BAMPATHS);\n",
    "do\n",
    "    # change the regex extension replacement \n",
    "    MPILEUP_COMMAND=\"samtools mpileup -d 1000000 --ff 1796 -q20  -Q10 -f $REFERENCE $bam -r $CHROMOSOME > ${OUTPUT_DIRECTORY}/$(basename $bam|sed 's/.bam/.mpileup/g') 2> ${OUTPUT_DIRECTORY}/$(basename $bam|sed 's/.bam/.log/g')\"\n",
    "    echo $MPILEUP_COMMAND\n",
    "done > $MPILEUP_COMMANDS_FILE\n",
    "\n",
    "wc -l ${MPILEUP_COMMANDS_FILE}\n",
    "head -n 5 ${MPILEUP_COMMANDS_FILE}"
   ]
  },
  {
   "cell_type": "markdown",
   "metadata": {},
   "source": [
    "Now we have a commands file we can use with ``parallel``. Because this is already generated, I'm commenting out the line that executes this. Uncomment to re-run."
   ]
  },
  {
   "cell_type": "code",
   "execution_count": 4,
   "metadata": {
    "collapsed": false
   },
   "outputs": [
    {
     "name": "stdout",
     "output_type": "stream",
     "text": [
      "64\n",
      "/hackathon/Hackathon_Project_4/MPILEUP/rg_bams/mpileup_commands\n"
     ]
    },
    {
     "name": "stderr",
     "output_type": "stream",
     "text": [
      "\n",
      "real\t61m45.991s\n",
      "user\t825m38.383s\n",
      "sys\t15m6.690s\n"
     ]
    }
   ],
   "source": [
    "%%bash\n",
    "nproc \n",
    "CORENUM=32 # change number of cores here\n",
    "OUTPUT_DIRECTORY=\"/hackathon/Hackathon_Project_4/MPILEUP/rg_bams\"\n",
    "MPILEUP_COMMANDS_FILE=${OUTPUT_DIRECTORY}/\"mpileup_commands\"\n",
    "echo ${MPILEUP_COMMANDS_FILE}\n",
    "time cat ${MPILEUP_COMMANDS_FILE} |parallel --gnu -j $CORENUM"
   ]
  },
  {
   "cell_type": "markdown",
   "metadata": {},
   "source": [
    "The mpileup files should be generated in the output directory It took about an hour to run almost 500 samples with 32 cores."
   ]
  },
  {
   "cell_type": "code",
   "execution_count": 5,
   "metadata": {
    "collapsed": false
   },
   "outputs": [
    {
     "name": "stdout",
     "output_type": "stream",
     "text": [
      "479\n"
     ]
    }
   ],
   "source": [
    "%%bash\n",
    "OUTPUT_DIRECTORY=\"/hackathon/Hackathon_Project_4/MPILEUP/rg_bams\"\n",
    "ls ${OUTPUT_DIRECTORY}/*mpileup|wc -l"
   ]
  },
  {
   "cell_type": "markdown",
   "metadata": {},
   "source": [
    "Sanity Checks\n",
    "-------------\n",
    "Spot check for a few high confidence variants...\n",
    "The two bams for initial testing, ENCFF000ARG, ENCFF000ARI are not included in the 479 so I couldn't reproduce the following with RG bams..."
   ]
  },
  {
   "cell_type": "code",
   "execution_count": 6,
   "metadata": {
    "collapsed": false
   },
   "outputs": [
    {
     "name": "stdout",
     "output_type": "stream",
     "text": [
      "0 /hackathon/Hackathon_Project_4/MPILEUP/rg_bams/ENCFF000ARG.benchmarked.mpileup\n",
      "0 /hackathon/Hackathon_Project_4/MPILEUP/rg_bams/ENCFF000ARI.benchmarked.mpileup\n",
      "25 /hackathon/Hackathon_Project_4/BENCHMARK/Benchmark-Test-V1.vcf\n"
     ]
    },
    {
     "name": "stderr",
     "output_type": "stream",
     "text": [
      "grep: /hackathon/Hackathon_Project_4/MPILEUP/rg_bams/ENCFF000ARG.mpileup: No such file or directory\n",
      "grep: /hackathon/Hackathon_Project_4/MPILEUP/rg_bams/ENCFF000ARI.mpileup: No such file or directory\n"
     ]
    }
   ],
   "source": [
    "%%bash\n",
    "OUTPUT_DIRECTORY=\"/hackathon/Hackathon_Project_4/MPILEUP\" #\n",
    "BENCHMARK_VCF=\"/hackathon/Hackathon_Project_4/BENCHMARK/Benchmark-Test-V1.vcf\"\n",
    "\n",
    "# using only column 2 because we predefined a specific chromosome; \n",
    "# might want to use CHROM and POS columns from the VCFs otherwise\n",
    "grep -f <(cut -f 2 ${BENCHMARK_VCF}) ${OUTPUT_DIRECTORY}/ENCFF000ARG.mpileup > ${OUTPUT_DIRECTORY}/ENCFF000ARG.benchmarked.mpileup\n",
    "grep -f <(cut -f 2 ${BENCHMARK_VCF}) ${OUTPUT_DIRECTORY}/ENCFF000ARI.mpileup > ${OUTPUT_DIRECTORY}/ENCFF000ARI.benchmarked.mpileup\n",
    "wait\n",
    "wc -l ${OUTPUT_DIRECTORY}/ENCFF000ARG.benchmarked.mpileup\n",
    "wc -l ${OUTPUT_DIRECTORY}/ENCFF000ARI.benchmarked.mpileup\n",
    "wc -l ${BENCHMARK_VCF}"
   ]
  },
  {
   "cell_type": "code",
   "execution_count": 6,
   "metadata": {
    "collapsed": false
   },
   "outputs": [
    {
     "name": "stdout",
     "output_type": "stream",
     "text": [
      "chr22\t18268130\tC\t13\t.T....T..TT..\t4<<<79<<<<<<<\n",
      "chr22\t19132325\tA\t14\t...G...CG.GGG.\t69<<70;1<2<<.<\n",
      "chr22\t24585835\tT\t7\t,c,cccc\t<</<<..\n",
      "chr22\t26727129\tC\t13\tTT.T.,...T.T^0.\t<<<<<9<<<<<<;\n",
      "chr22\t30787190\tt\t11\t.CC.......C\t:<<55<<<<<<\n",
      "chr22\t33396853\tC\t11\t..TT.TT.,TT\t260:<<<7<<<\n",
      "chr22\t33396904\tC\t2\tt,\t<8\n",
      "chr22\t33397045\tT\t9\t,$cccccc,c\t<<<<<<<<<\n",
      "chr22\t33414359\tG\t11\tAAAAAAA,A.A\t9994<<7<<<<\n",
      "chr22\t33445237\tA\t12\t.C.C...CCC.C\t9<<<;;<<<7<<\n",
      "\n",
      "chr22\t18268130\tC\t19\tT...t..T.TT.....T.^g.\t4:=8B9B<7<=<B4A<<;<\n",
      "chr22\t19132325\tA\t18\t.....G...GGGG.GG.^b.\t8=B@A<;<B8CAC5BCB>\n",
      "chr22\t24585835\tT\t16\t,CCCC,,c,,,,,,cC\t<17<<BA<><AB;B;<\n",
      "chr22\t26727129\tC\t21\t.T.,TT.T....,,t...TTT\tA@=?8364<<<6B1CA@A8<B\n",
      "chr22\t30787190\tt\t14\tCC.CcC.CC...CC\t8B8BBB5AB<A<01\n",
      "chr22\t33396853\tC\t13\tT..Tt.t.TTTT.\t82<5<<<<<=>5<\n",
      "chr22\t33396904\tC\t15\ttt,,.,,,.,t,,,^f,\t<A<<89<9B<<<<14\n",
      "chr22\t33397045\tT\t7\tcc,,c,,\t<BB<<B7\n",
      "chr22\t33414359\tG\t12\t,A.A...A.,,A\t<;<<<<B<<@<<\n",
      "chr22\t33445237\tA\t19\tCCC.CCC..cC..CC...,\t<.@3<=;A1C@;<5CCCC7\n"
     ]
    }
   ],
   "source": [
    "%%bash\n",
    "OUTPUT_DIRECTORY=\"/hackathon/Hackathon_Project_4/MPILEUP\"\n",
    "head ${OUTPUT_DIRECTORY}/ENCFF000ARG.benchmarked.mpileup\n",
    "echo\n",
    "head ${OUTPUT_DIRECTORY}/ENCFF000ARI.benchmarked.mpileup\n"
   ]
  },
  {
   "cell_type": "markdown",
   "metadata": {},
   "source": [
    "SAMTOOLS MPILEUP WITH A SINGLE MERGED BAM\n",
    "=========================================\n",
    "\n",
    "This merged bam ``/hackathon/Hackathon_Project_4/VariantCall_HAPLOTYPE/merged_rg.chr22.bam`` is constructed with ENCFF000ARG and ENCFF000ARI. The read groups are tagged so that we know the source."
   ]
  },
  {
   "cell_type": "code",
   "execution_count": 7,
   "metadata": {
    "collapsed": false
   },
   "outputs": [
    {
     "name": "stderr",
     "output_type": "stream",
     "text": [
      "[mpileup] 1 samples in 1 input files\n",
      "<mpileup> Set max per-file depth to 8000\n"
     ]
    }
   ],
   "source": [
    "%%bash\n",
    "\n",
    "REFERENCE=\"/hackathon/Hackathon_Project_4/REFERENCE_GENOME/hg19.fa\"\n",
    "bam=\"/hackathon/Hackathon_Project_4/VariantCall_HAPLOTYPE/merged_rg.chr22.bam\" # TODO: change this to bam when everything is indexed\n",
    "CHROMOSOME=\"chr22\" # change this to any chromosome you like\n",
    "OUTPUT_DIRECTORY=\"/hackathon/Hackathon_Project_4/MPILEUP/merged\"\n",
    "\n",
    "samtools mpileup -f $REFERENCE $(echo $bam|sed 's/.bai//g') -r $CHROMOSOME > ${OUTPUT_DIRECTORY}/$(basename $bam|sed 's/.bam/.mpileup/g')\n",
    "   "
   ]
  },
  {
   "cell_type": "markdown",
   "metadata": {},
   "source": [
    "Next we pull out the subset of positions from the benchmark data set."
   ]
  },
  {
   "cell_type": "code",
   "execution_count": 8,
   "metadata": {
    "collapsed": true
   },
   "outputs": [],
   "source": [
    "%%bash\n",
    "OUTPUT_DIRECTORY=\"/hackathon/Hackathon_Project_4/MPILEUP/merged\"\n",
    "BENCHMARK_VCF=\"/hackathon/Hackathon_Project_4/BENCHMARK/Benchmark-Test-V1.vcf\"\n",
    "\n",
    "grep -f <(cut -f 2 ${BENCHMARK_VCF}) ${OUTPUT_DIRECTORY}/merged_rg.chr22.mpileup > ${OUTPUT_DIRECTORY}/merged_rg.chr22.benchmarked.mpileup\n"
   ]
  },
  {
   "cell_type": "markdown",
   "metadata": {},
   "source": [
    "COMPARING COVERAGE BETWEEN THE TWO APPROACHES\n",
    "============================================="
   ]
  },
  {
   "cell_type": "code",
   "execution_count": 9,
   "metadata": {
    "collapsed": false
   },
   "outputs": [
    {
     "data": {
      "text/html": [
       "<div>\n",
       "<table border=\"1\" class=\"dataframe\">\n",
       "  <thead>\n",
       "    <tr style=\"text-align: right;\">\n",
       "      <th></th>\n",
       "      <th>merged</th>\n",
       "      <th>sum_of_cov</th>\n",
       "    </tr>\n",
       "  </thead>\n",
       "  <tbody>\n",
       "    <tr>\n",
       "      <th>0</th>\n",
       "      <td>32</td>\n",
       "      <td>32</td>\n",
       "    </tr>\n",
       "    <tr>\n",
       "      <th>1</th>\n",
       "      <td>32</td>\n",
       "      <td>32</td>\n",
       "    </tr>\n",
       "    <tr>\n",
       "      <th>2</th>\n",
       "      <td>23</td>\n",
       "      <td>23</td>\n",
       "    </tr>\n",
       "    <tr>\n",
       "      <th>3</th>\n",
       "      <td>34</td>\n",
       "      <td>34</td>\n",
       "    </tr>\n",
       "    <tr>\n",
       "      <th>4</th>\n",
       "      <td>25</td>\n",
       "      <td>25</td>\n",
       "    </tr>\n",
       "    <tr>\n",
       "      <th>5</th>\n",
       "      <td>24</td>\n",
       "      <td>24</td>\n",
       "    </tr>\n",
       "    <tr>\n",
       "      <th>6</th>\n",
       "      <td>17</td>\n",
       "      <td>17</td>\n",
       "    </tr>\n",
       "    <tr>\n",
       "      <th>7</th>\n",
       "      <td>16</td>\n",
       "      <td>16</td>\n",
       "    </tr>\n",
       "    <tr>\n",
       "      <th>8</th>\n",
       "      <td>23</td>\n",
       "      <td>23</td>\n",
       "    </tr>\n",
       "    <tr>\n",
       "      <th>9</th>\n",
       "      <td>31</td>\n",
       "      <td>31</td>\n",
       "    </tr>\n",
       "    <tr>\n",
       "      <th>10</th>\n",
       "      <td>18</td>\n",
       "      <td>18</td>\n",
       "    </tr>\n",
       "    <tr>\n",
       "      <th>11</th>\n",
       "      <td>8</td>\n",
       "      <td>8</td>\n",
       "    </tr>\n",
       "    <tr>\n",
       "      <th>12</th>\n",
       "      <td>10</td>\n",
       "      <td>10</td>\n",
       "    </tr>\n",
       "    <tr>\n",
       "      <th>13</th>\n",
       "      <td>14</td>\n",
       "      <td>14</td>\n",
       "    </tr>\n",
       "    <tr>\n",
       "      <th>14</th>\n",
       "      <td>22</td>\n",
       "      <td>22</td>\n",
       "    </tr>\n",
       "    <tr>\n",
       "      <th>15</th>\n",
       "      <td>35</td>\n",
       "      <td>35</td>\n",
       "    </tr>\n",
       "    <tr>\n",
       "      <th>16</th>\n",
       "      <td>25</td>\n",
       "      <td>25</td>\n",
       "    </tr>\n",
       "    <tr>\n",
       "      <th>17</th>\n",
       "      <td>24</td>\n",
       "      <td>24</td>\n",
       "    </tr>\n",
       "    <tr>\n",
       "      <th>18</th>\n",
       "      <td>12</td>\n",
       "      <td>12</td>\n",
       "    </tr>\n",
       "    <tr>\n",
       "      <th>19</th>\n",
       "      <td>67</td>\n",
       "      <td>67</td>\n",
       "    </tr>\n",
       "    <tr>\n",
       "      <th>20</th>\n",
       "      <td>41</td>\n",
       "      <td>41</td>\n",
       "    </tr>\n",
       "    <tr>\n",
       "      <th>21</th>\n",
       "      <td>20</td>\n",
       "      <td>20</td>\n",
       "    </tr>\n",
       "    <tr>\n",
       "      <th>22</th>\n",
       "      <td>16</td>\n",
       "      <td>16</td>\n",
       "    </tr>\n",
       "    <tr>\n",
       "      <th>23</th>\n",
       "      <td>15</td>\n",
       "      <td>15</td>\n",
       "    </tr>\n",
       "    <tr>\n",
       "      <th>24</th>\n",
       "      <td>15</td>\n",
       "      <td>15</td>\n",
       "    </tr>\n",
       "  </tbody>\n",
       "</table>\n",
       "</div>"
      ],
      "text/plain": [
       "    merged  sum_of_cov\n",
       "0       32          32\n",
       "1       32          32\n",
       "2       23          23\n",
       "3       34          34\n",
       "4       25          25\n",
       "5       24          24\n",
       "6       17          17\n",
       "7       16          16\n",
       "8       23          23\n",
       "9       31          31\n",
       "10      18          18\n",
       "11       8           8\n",
       "12      10          10\n",
       "13      14          14\n",
       "14      22          22\n",
       "15      35          35\n",
       "16      25          25\n",
       "17      24          24\n",
       "18      12          12\n",
       "19      67          67\n",
       "20      41          41\n",
       "21      20          20\n",
       "22      16          16\n",
       "23      15          15\n",
       "24      15          15"
      ]
     },
     "execution_count": 9,
     "metadata": {},
     "output_type": "execute_result"
    }
   ],
   "source": [
    "import os\n",
    "import pandas\n",
    "\n",
    "out_dir = \"/hackathon/Hackathon_Project_4/MPILEUP\"\n",
    "ENCFF000ARG = os.path.join(out_dir, \"ENCFF000ARG.benchmarked.mpileup\")\n",
    "ENCFF000ARI = os.path.join(out_dir, \"ENCFF000ARI.benchmarked.mpileup\")\n",
    "merged = os.path.join(out_dir, \"merged\", \"merged_rg.chr22.benchmarked.mpileup\")\n",
    "\n",
    "ENCFF000ARG_data = pandas.read_table(ENCFF000ARG, header=None)\n",
    "ENCFF000ARI_data = pandas.read_table(ENCFF000ARI, header=None)\n",
    "merged_data = pandas.read_table(merged, header=None)\n",
    "assert all(ENCFF000ARG_data[1]==ENCFF000ARI_data[1])\n",
    "assert all(ENCFF000ARI_data[1]==merged_data[1])\n",
    "pandas.DataFrame({\"sum_of_cov\": ENCFF000ARG_data[3]+ENCFF000ARI_data[3], \"merged\": merged_data[3]})\n",
    "\n"
   ]
  },
  {
   "cell_type": "markdown",
   "metadata": {},
   "source": [
    "SUM OF COVERAGE\n",
    "==============="
   ]
  },
  {
   "cell_type": "code",
   "execution_count": 11,
   "metadata": {
    "collapsed": true
   },
   "outputs": [],
   "source": [
    "import os\n",
    "identifiers=\"/hackathon/Hackathon_Project_4/ENCODE_DATA_GM12878/COMPLETED/filesToUse.txt\"\n",
    "output_file=\"/hackathon/Hackathon_Project_4/MPILEUP/samples.txt\"\n",
    "with open(identifiers, 'r') as ifile, open(output_file, 'w') as ofile:\n",
    "    for row in ifile:\n",
    "        orow = os.path.join(\"/hackathon/Hackathon_Project_4/MPILEUP\", row.strip() + \".mpileup\" ) + \"\\n\"\n",
    "        ofile.write(orow)"
   ]
  },
  {
   "cell_type": "code",
   "execution_count": 4,
   "metadata": {
    "collapsed": false
   },
   "outputs": [
    {
     "name": "stdout",
     "output_type": "stream",
     "text": [
      "Parse 100000 lines...\n",
      "Parse 200000 lines...\n",
      "Parse 300000 lines...\n",
      "Parse 400000 lines...\n",
      "Parse 500000 lines...\n",
      "Parse 600000 lines...\n",
      "Parse 700000 lines...\n",
      "Parse 800000 lines...\n",
      "Parse 900000 lines...\n",
      "Parse 1000000 lines...\n",
      "Parse 1100000 lines...\n",
      "Parse 1200000 lines...\n",
      "Parse 1300000 lines...\n",
      "Parse 1400000 lines...\n",
      "Parse 1500000 lines...\n",
      "Parse 1600000 lines...\n",
      "Parse 1700000 lines...\n",
      "Parse 1800000 lines...\n",
      "Parse 1900000 lines...\n",
      "Parse 2000000 lines...\n",
      "Parse 2100000 lines...\n",
      "Parse 2200000 lines...\n",
      "Parse 2300000 lines...\n",
      "Parse 2400000 lines...\n",
      "Parse 2500000 lines...\n",
      "Parse 2600000 lines...\n",
      "Parse 2700000 lines...\n",
      "Parse 2800000 lines...\n",
      "Parse 2900000 lines...\n",
      "Parse 3000000 lines...\n",
      "Parse 3100000 lines...\n",
      "Parse 3200000 lines...\n",
      "Parse 3300000 lines...\n",
      "Parse 3400000 lines...\n",
      "Parse 3500000 lines...\n",
      "Parse 3600000 lines...\n",
      "Parse 3700000 lines...\n",
      "Parse 3800000 lines...\n",
      "Parse 3900000 lines...\n",
      "Parse 4000000 lines...\n",
      "Parse 4100000 lines...\n",
      "Parse 4200000 lines...\n",
      "Parse 4300000 lines...\n",
      "Parse 4400000 lines...\n",
      "Parse 4500000 lines...\n",
      "Parse 4600000 lines...\n",
      "Parse 4700000 lines...\n",
      "Parse 4800000 lines...\n",
      "Parse 4900000 lines...\n",
      "Parse 5000000 lines...\n",
      "Parse 5100000 lines...\n",
      "Parse 5200000 lines...\n",
      "Parse 5300000 lines...\n",
      "Parse 5400000 lines...\n",
      "Parse 5500000 lines...\n",
      "Parse 5600000 lines...\n",
      "Parse 5700000 lines...\n",
      "Parse 5800000 lines...\n",
      "Parse 5900000 lines...\n",
      "Parse 6000000 lines...\n",
      "Parse 6100000 lines...\n",
      "Parse 6200000 lines...\n",
      "Parse 6300000 lines...\n",
      "Parse 6400000 lines...\n",
      "Parse 6500000 lines...\n",
      "Parse 6600000 lines...\n",
      "Parse 6700000 lines...\n",
      "Parse 6800000 lines...\n",
      "Parse 6900000 lines...\n",
      "Parse 7000000 lines...\n",
      "Parse 7100000 lines...\n",
      "Parse 7200000 lines...\n",
      "Parse 7300000 lines...\n",
      "Parse 7400000 lines...\n",
      "Parse 7500000 lines...\n",
      "Parse 7600000 lines...\n",
      "Parse 7700000 lines...\n",
      "Parse 7800000 lines...\n",
      "Parse 7900000 lines...\n",
      "Parse 8000000 lines...\n",
      "Parse 8100000 lines...\n",
      "Parse 8200000 lines...\n",
      "Parse 8300000 lines...\n",
      "Parse 8400000 lines...\n",
      "Parse 8500000 lines...\n",
      "Parse 8600000 lines...\n",
      "Parse 8700000 lines...\n",
      "Parse 8800000 lines...\n",
      "Parse 8900000 lines...\n",
      "Parse 9000000 lines...\n",
      "Parse 9100000 lines...\n",
      "Parse 9200000 lines...\n",
      "Parse 9300000 lines...\n",
      "Parse 9400000 lines...\n",
      "Parse 9500000 lines...\n",
      "Parse 9600000 lines...\n",
      "Parse 9700000 lines...\n",
      "Parse 9800000 lines...\n",
      "Parse 9900000 lines...\n",
      "Parse 10000000 lines...\n",
      "Parse 10100000 lines...\n",
      "Parse 10200000 lines...\n",
      "Parse 10300000 lines...\n",
      "Parse 10400000 lines...\n",
      "Parse 10500000 lines...\n",
      "Parse 10600000 lines...\n",
      "Parse 10700000 lines...\n",
      "Parse 10800000 lines...\n",
      "Parse 10900000 lines...\n",
      "Parse 11000000 lines...\n",
      "Parse 11100000 lines...\n",
      "Parse 11200000 lines...\n",
      "Parse 11300000 lines...\n",
      "Parse 11400000 lines...\n",
      "Parse 11500000 lines...\n",
      "Parse 11600000 lines...\n",
      "Parse 11700000 lines...\n",
      "Parse 11800000 lines...\n",
      "Parse 11900000 lines...\n",
      "Parse 12000000 lines...\n",
      "Parse 12100000 lines...\n",
      "Parse 12200000 lines...\n",
      "Parse 12300000 lines...\n",
      "Parse 12400000 lines...\n",
      "Parse 12500000 lines...\n",
      "Parse 12600000 lines...\n",
      "Parse 12700000 lines...\n",
      "Parse 12800000 lines...\n",
      "Parse 12900000 lines...\n",
      "Parse 13000000 lines...\n",
      "Parse 13100000 lines...\n",
      "Parse 13200000 lines...\n",
      "Parse 13300000 lines...\n",
      "Parse 13400000 lines...\n",
      "Parse 13500000 lines...\n",
      "Parse 13600000 lines...\n",
      "Parse 13700000 lines...\n",
      "Parse 13800000 lines...\n",
      "Parse 13900000 lines...\n",
      "Parse 14000000 lines...\n",
      "Parse 14100000 lines...\n",
      "Parse 14200000 lines...\n",
      "Parse 14300000 lines...\n",
      "Parse 14400000 lines...\n",
      "Parse 14500000 lines...\n",
      "Parse 14600000 lines...\n",
      "Parse 14700000 lines...\n",
      "Parse 14800000 lines...\n",
      "Parse 14900000 lines...\n",
      "Parse 15000000 lines...\n",
      "Parse 15100000 lines...\n",
      "Parse 15200000 lines...\n",
      "Parse 15300000 lines...\n",
      "Parse 15400000 lines...\n",
      "Parse 15500000 lines...\n",
      "Parse 15600000 lines...\n",
      "Parse 15700000 lines...\n",
      "Parse 15800000 lines...\n",
      "Parse 15900000 lines...\n",
      "Parse 16000000 lines...\n",
      "Parse 16100000 lines...\n",
      "Parse 16200000 lines...\n",
      "Parse 16300000 lines...\n",
      "Parse 16400000 lines...\n",
      "Parse 16500000 lines...\n",
      "Parse 16600000 lines...\n",
      "Parse 16700000 lines...\n",
      "Parse 16800000 lines...\n",
      "Parse 16900000 lines...\n",
      "Parse 17000000 lines...\n",
      "Parse 17100000 lines...\n",
      "Parse 17200000 lines...\n",
      "Parse 17300000 lines...\n",
      "Parse 17400000 lines...\n",
      "Parse 17500000 lines...\n",
      "Parse 17600000 lines...\n",
      "Parse 17700000 lines...\n",
      "Parse 17800000 lines...\n",
      "Parse 17900000 lines...\n",
      "Parse 18000000 lines...\n",
      "Parse 18100000 lines...\n",
      "Parse 18200000 lines...\n",
      "Parse 18300000 lines...\n",
      "Parse 18400000 lines...\n",
      "Parse 18500000 lines...\n",
      "Parse 18600000 lines...\n",
      "Parse 18700000 lines...\n",
      "Parse 18800000 lines...\n",
      "Parse 18900000 lines...\n",
      "Parse 19000000 lines...\n",
      "Parse 19100000 lines...\n",
      "Parse 19200000 lines...\n",
      "Parse 19300000 lines...\n",
      "Parse 19400000 lines...\n",
      "Parse 19500000 lines...\n",
      "Parse 19600000 lines...\n",
      "Parse 19700000 lines...\n",
      "Parse 19800000 lines...\n",
      "Parse 19900000 lines...\n",
      "Parse 20000000 lines...\n",
      "Parse 20100000 lines...\n",
      "Parse 20200000 lines...\n",
      "Parse 20300000 lines...\n",
      "Parse 20400000 lines...\n",
      "Parse 20500000 lines...\n",
      "Parse 20600000 lines...\n",
      "Parse 20700000 lines...\n",
      "Parse 20800000 lines...\n",
      "Parse 20900000 lines...\n",
      "Parse 21000000 lines...\n",
      "Parse 21100000 lines...\n",
      "Parse 21200000 lines...\n",
      "Parse 21300000 lines...\n",
      "Parse 21400000 lines...\n",
      "Parse 21500000 lines...\n",
      "Parse 21600000 lines...\n",
      "Parse 21700000 lines...\n",
      "Parse 21800000 lines...\n",
      "Parse 21900000 lines...\n",
      "Parse 22000000 lines...\n",
      "Parse 22100000 lines...\n",
      "Parse 22200000 lines...\n",
      "Parse 22300000 lines...\n",
      "Parse 22400000 lines...\n",
      "Parse 22500000 lines...\n",
      "Parse 22600000 lines...\n",
      "Parse 22700000 lines...\n",
      "Parse 22800000 lines...\n",
      "Parse 22900000 lines...\n",
      "Parse 23000000 lines...\n",
      "Parse 23100000 lines...\n",
      "Parse 23200000 lines...\n",
      "Parse 23300000 lines...\n",
      "Parse 23400000 lines...\n",
      "Parse 23500000 lines...\n",
      "Parse 23600000 lines...\n",
      "Parse 23700000 lines...\n",
      "Parse 23800000 lines...\n",
      "Parse 23900000 lines...\n",
      "Parse 24000000 lines...\n",
      "Parse 24100000 lines...\n",
      "Parse 24200000 lines...\n",
      "Parse 24300000 lines...\n",
      "Parse 24400000 lines...\n",
      "Parse 24500000 lines...\n",
      "Parse 24600000 lines...\n",
      "Parse 24700000 lines...\n",
      "Parse 24800000 lines...\n",
      "Parse 24900000 lines...\n",
      "Parse 25000000 lines...\n",
      "Parse 25100000 lines...\n",
      "Parse 25200000 lines...\n",
      "Parse 25300000 lines...\n",
      "Parse 25400000 lines...\n",
      "Parse 25500000 lines...\n",
      "Parse 25600000 lines...\n",
      "Parse 25700000 lines...\n",
      "Parse 25800000 lines...\n",
      "Parse 25900000 lines...\n",
      "Parse 26000000 lines...\n",
      "Parse 26100000 lines...\n",
      "Parse 26200000 lines...\n",
      "Parse 26300000 lines...\n",
      "Parse 26400000 lines...\n",
      "Parse 26500000 lines...\n",
      "Parse 26600000 lines...\n",
      "Parse 26700000 lines...\n",
      "Parse 26800000 lines...\n",
      "Parse 26900000 lines...\n",
      "Parse 27000000 lines...\n",
      "Parse 27100000 lines...\n",
      "Parse 27200000 lines...\n",
      "Parse 27300000 lines...\n",
      "Parse 27400000 lines...\n",
      "Parse 27500000 lines...\n",
      "Parse 27600000 lines...\n",
      "Parse 27700000 lines...\n",
      "Parse 27800000 lines...\n",
      "Parse 27900000 lines...\n",
      "Parse 28000000 lines...\n",
      "Parse 28100000 lines...\n",
      "Parse 28200000 lines...\n",
      "Parse 28300000 lines...\n",
      "Parse 28400000 lines...\n",
      "Parse 28500000 lines...\n",
      "Parse 28600000 lines...\n",
      "Parse 28700000 lines...\n",
      "Parse 28800000 lines...\n",
      "Parse 28900000 lines...\n",
      "Parse 29000000 lines...\n",
      "Parse 29100000 lines...\n",
      "Parse 29200000 lines...\n",
      "Parse 29300000 lines...\n",
      "Parse 29400000 lines...\n",
      "Parse 29500000 lines...\n",
      "Parse 29600000 lines...\n",
      "Parse 29700000 lines...\n",
      "Parse 29800000 lines...\n",
      "Parse 29900000 lines...\n",
      "Parse 30000000 lines...\n",
      "Parse 30100000 lines...\n",
      "Parse 30200000 lines...\n",
      "Parse 30300000 lines...\n",
      "Parse 30400000 lines...\n",
      "Parse 30500000 lines...\n",
      "Parse 30600000 lines...\n",
      "Parse 30700000 lines...\n",
      "Parse 30800000 lines...\n",
      "Parse 30900000 lines...\n",
      "Parse 31000000 lines...\n",
      "Parse 31100000 lines...\n",
      "Parse 31200000 lines...\n",
      "Parse 31300000 lines...\n",
      "Parse 31400000 lines...\n",
      "Parse 31500000 lines...\n",
      "Parse 31600000 lines...\n",
      "Parse 31700000 lines...\n",
      "Parse 31800000 lines...\n",
      "Parse 31900000 lines...\n",
      "Parse 32000000 lines...\n",
      "Parse 32100000 lines...\n",
      "Parse 32200000 lines...\n",
      "Parse 32300000 lines...\n",
      "Parse 32400000 lines...\n",
      "Parse 32500000 lines...\n",
      "Parse 32600000 lines...\n",
      "Parse 32700000 lines...\n",
      "Parse 32800000 lines...\n",
      "Parse 32900000 lines...\n",
      "Parse 33000000 lines...\n",
      "Parse 33100000 lines...\n"
     ]
    }
   ],
   "source": [
    "# script to generate a file with CHROM, POS-1, POS, sum of coverage\n",
    "input_file=\"/hackathon/Hackathon_Project_4/DEPTH/depths50chr22.txt\"\n",
    "output_file=\"/hackathon/Hackathon_Project_4/DEPTH/cov.txt\"\n",
    "\n",
    "import csv\n",
    "\n",
    "with open(input_file, 'r') as ifile, open(output_file, 'w') as ofile:\n",
    "    csvreader = csv.reader(ifile, delimiter=\"\\t\")\n",
    "    csvwriter = csv.writer(ofile, delimiter=\"\\t\")\n",
    "    counter = 0\n",
    "    for line in csvreader:\n",
    "        cov_sum = sum(map(int,line[2:]))\n",
    "        csvwriter.writerow([ str(x) for x in [line[0], int(line[1])-1, line[1], cov_sum]])\n",
    "        counter += 1\n",
    "        if counter%100000==0:\n",
    "            print(\"Parsed {} lines...\".format(counter))"
   ]
  }
 ],
 "metadata": {
  "anaconda-cloud": {},
  "kernelspec": {
   "display_name": "Python [conda root]",
   "language": "python",
   "name": "conda-root-py"
  },
  "language_info": {
   "codemirror_mode": {
    "name": "ipython",
    "version": 2
   },
   "file_extension": ".py",
   "mimetype": "text/x-python",
   "name": "python",
   "nbconvert_exporter": "python",
   "pygments_lexer": "ipython2",
   "version": "2.7.12"
  }
 },
 "nbformat": 4,
 "nbformat_minor": 1
}
