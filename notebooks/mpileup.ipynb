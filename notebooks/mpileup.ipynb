{
 "cells": [
  {
   "cell_type": "markdown",
   "metadata": {},
   "source": [
    "SAMTOOLS MPILEUP ON MULTIPLE BAMS\n",
    "================================="
   ]
  },
  {
   "cell_type": "code",
   "execution_count": 3,
   "metadata": {
    "collapsed": false
   },
   "outputs": [
    {
     "name": "stdout",
     "output_type": "stream",
     "text": [
      "samtools 1.3.1\r\n",
      "Using htslib 1.3.1\r\n",
      "Copyright (C) 2016 Genome Research Ltd.\r\n"
     ]
    }
   ],
   "source": [
    "! samtools --version"
   ]
  },
  {
   "cell_type": "markdown",
   "metadata": {},
   "source": [
    "See mpileup [manual](http://samtools.sourceforge.net/mpileup.shtml).\n",
    "Samtools mpileup requires:\n",
    "- an index reference fasta\n",
    "- indexed bam files "
   ]
  },
  {
   "cell_type": "markdown",
   "metadata": {},
   "source": [
    "The input bam files used in this example are assembled on hg19. "
   ]
  },
  {
   "cell_type": "markdown",
   "metadata": {},
   "source": [
    "We want to create a commands file for parallelization. We are using chromosome 22 as an example here."
   ]
  },
  {
   "cell_type": "code",
   "execution_count": 78,
   "metadata": {
    "collapsed": false
   },
   "outputs": [],
   "source": [
    "%%bash\n",
    "REFERENCE=\"/hackathon/Hackathon_Project_4/REFERENCE_GENOME/hg19.fa\"\n",
    "INDEXED_BAMPATHS=\"/hackathon/Hackathon_Project_4/ENCODE_DATA_GM12878/COMPLETED/*bai\" # TODO: change this to bam when everything is indexed\n",
    "CHROMOSOME=\"chr22\" # change this to any chromosome you like\n",
    "MPILEUP_COMMANDS_FILE=\"mpileup_commands\"\n",
    "OUTPUT_DIRECTORY=\"/hackathon/Hackathon_Project_4/MPILEUP\"\n",
    "\n",
    "for bam in $(ls $INDEXED_BAMPATHS);\n",
    "do\n",
    "    MPILEUP_COMMAND=\"samtools mpileup -f $REFERENCE $(echo $bam|sed 's/.bai//g') -r $CHROMOSOME > ${OUTPUT_DIRECTORY}/$(basename $bam|sed 's/.bam.bai/.mpileup/g')\"\n",
    "    echo $MPILEUP_COMMAND\n",
    "done > $MPILEUP_COMMANDS_FILE"
   ]
  },
  {
   "cell_type": "code",
   "execution_count": null,
   "metadata": {
    "collapsed": true
   },
   "outputs": [],
   "source": []
  },
  {
   "cell_type": "code",
   "execution_count": null,
   "metadata": {
    "collapsed": true
   },
   "outputs": [],
   "source": []
  },
  {
   "cell_type": "markdown",
   "metadata": {},
   "source": [
    "Now we have a commands file we can use with ``parallel``."
   ]
  },
  {
   "cell_type": "code",
   "execution_count": 84,
   "metadata": {
    "collapsed": false
   },
   "outputs": [
    {
     "name": "stdout",
     "output_type": "stream",
     "text": [
      "samtools mpileup -f /hackathon/Hackathon_Project_4/REFERENCE_GENOME/hg19.fa /hackathon/Hackathon_Project_4/ENCODE_DATA_GM12878/COMPLETED/ENCFF000ARG.bam -r chr22 > /hackathon/Hackathon_Project_4/MPILEUP/ENCFF000ARG.mpileup\n",
      "samtools mpileup -f /hackathon/Hackathon_Project_4/REFERENCE_GENOME/hg19.fa /hackathon/Hackathon_Project_4/ENCODE_DATA_GM12878/COMPLETED/ENCFF000ARI.bam -r chr22 > /hackathon/Hackathon_Project_4/MPILEUP/ENCFF000ARI.mpileup\n"
     ]
    },
    {
     "name": "stderr",
     "output_type": "stream",
     "text": [
      "[mpileup] 1 samples in 1 input files\n",
      "<mpileup> Set max per-file depth to 8000\n",
      "[mpileup] 1 samples in 1 input files\n",
      "<mpileup> Set max per-file depth to 8000\n"
     ]
    }
   ],
   "source": [
    "%%bash\n",
    "CORENUM=2 # change number of cores here\n",
    "\n",
    "cat mpileup_commands\n",
    "cat mpileup_commands |parallel --gnu -j $CORENUM"
   ]
  },
  {
   "cell_type": "code",
   "execution_count": null,
   "metadata": {
    "collapsed": true
   },
   "outputs": [],
   "source": []
  },
  {
   "cell_type": "code",
   "execution_count": null,
   "metadata": {
    "collapsed": true
   },
   "outputs": [],
   "source": []
  },
  {
   "cell_type": "markdown",
   "metadata": {},
   "source": [
    "The mpileup files should be generated in the same directory."
   ]
  },
  {
   "cell_type": "code",
   "execution_count": 85,
   "metadata": {
    "collapsed": false
   },
   "outputs": [
    {
     "name": "stdout",
     "output_type": "stream",
     "text": [
      "/hackathon/Hackathon_Project_4/MPILEUP/ENCFF000ARG.benchmarked.mpileup\n",
      "/hackathon/Hackathon_Project_4/MPILEUP/ENCFF000ARG.mpileup\n",
      "/hackathon/Hackathon_Project_4/MPILEUP/ENCFF000ARI.benchmarked.mpileup\n",
      "/hackathon/Hackathon_Project_4/MPILEUP/ENCFF000ARI.mpileup\n"
     ]
    }
   ],
   "source": [
    "%%bash\n",
    "OUTPUT_DIRECTORY=\"/hackathon/Hackathon_Project_4/MPILEUP\"\n",
    "ls ${OUTPUT_DIRECTORY}/*mpileup"
   ]
  },
  {
   "cell_type": "markdown",
   "metadata": {},
   "source": [
    "Spot check for a few high confidence variants..."
   ]
  },
  {
   "cell_type": "code",
   "execution_count": 71,
   "metadata": {
    "collapsed": false
   },
   "outputs": [
    {
     "name": "stdout",
     "output_type": "stream",
     "text": [
      "25 /hackathon/Hackathon_Project_4/MPILEUP/ENCFF000ARG.benchmarked.mpileup\n",
      "25 /hackathon/Hackathon_Project_4/MPILEUP/ENCFF000ARI.benchmarked.mpileup\n",
      "25 /hackathon/Hackathon_Project_4/BENCHMARK/Benchmark-Test-V1.vcf\n"
     ]
    }
   ],
   "source": [
    "%%bash\n",
    "OUTPUT_DIRECTORY=\"/hackathon/Hackathon_Project_4/MPILEUP\"\n",
    "BENCHMARK_VCF=\"/hackathon/Hackathon_Project_4/BENCHMARK/Benchmark-Test-V1.vcf\"\n",
    "grep -f <(cut -f 2 ${BENCHMARK_VCF}) ENCFF000ARG.mpileup > /hackathon/Hackathon_Project_4/MPILEUP/ENCFF000ARG.benchmarked.mpileup\n",
    "grep -f <(cut -f 2 ${BENCHMARK_VCF}) ENCFF000ARI.mpileup > /hackathon/Hackathon_Project_4/MPILEUP/ENCFF000ARI.benchmarked.mpileup\n",
    "wc -l /hackathon/Hackathon_Project_4/MPILEUP/ENCFF000ARG.benchmarked.mpileup\n",
    "wc -l /hackathon/Hackathon_Project_4/MPILEUP/ENCFF000ARI.benchmarked.mpileup\n",
    "wc -l /hackathon/Hackathon_Project_4/BENCHMARK/Benchmark-Test-V1.vcf"
   ]
  },
  {
   "cell_type": "code",
   "execution_count": 76,
   "metadata": {
    "collapsed": false
   },
   "outputs": [
    {
     "name": "stdout",
     "output_type": "stream",
     "text": [
      "chr22\t18268130\tC\t13\t.T....T..TT..\t4<<<79<<<<<<<\n",
      "chr22\t19132325\tA\t14\t...G...CG.GGG.\t69<<70;1<2<<.<\n",
      "chr22\t24585835\tT\t7\t,c,cccc\t<</<<..\n",
      "chr22\t26727129\tC\t13\tTT.T.,...T.T^0.\t<<<<<9<<<<<<;\n",
      "chr22\t30787190\tt\t11\t.CC.......C\t:<<55<<<<<<\n",
      "chr22\t33396853\tC\t11\t..TT.TT.,TT\t260:<<<7<<<\n",
      "chr22\t33396904\tC\t2\tt,\t<8\n",
      "chr22\t33397045\tT\t9\t,$cccccc,c\t<<<<<<<<<\n",
      "chr22\t33414359\tG\t11\tAAAAAAA,A.A\t9994<<7<<<<\n",
      "chr22\t33445237\tA\t12\t.C.C...CCC.C\t9<<<;;<<<7<<\n",
      "\n",
      "chr22\t18268130\tC\t19\tT...t..T.TT.....T.^g.\t4:=8B9B<7<=<B4A<<;<\n",
      "chr22\t19132325\tA\t18\t.....G...GGGG.GG.^b.\t8=B@A<;<B8CAC5BCB>\n",
      "chr22\t24585835\tT\t16\t,CCCC,,c,,,,,,cC\t<17<<BA<><AB;B;<\n",
      "chr22\t26727129\tC\t21\t.T.,TT.T....,,t...TTT\tA@=?8364<<<6B1CA@A8<B\n",
      "chr22\t30787190\tt\t14\tCC.CcC.CC...CC\t8B8BBB5AB<A<01\n",
      "chr22\t33396853\tC\t13\tT..Tt.t.TTTT.\t82<5<<<<<=>5<\n",
      "chr22\t33396904\tC\t15\ttt,,.,,,.,t,,,^f,\t<A<<89<9B<<<<14\n",
      "chr22\t33397045\tT\t7\tcc,,c,,\t<BB<<B7\n",
      "chr22\t33414359\tG\t12\t,A.A...A.,,A\t<;<<<<B<<@<<\n",
      "chr22\t33445237\tA\t19\tCCC.CCC..cC..CC...,\t<.@3<=;A1C@;<5CCCC7\n"
     ]
    }
   ],
   "source": [
    "%%bash\n",
    "head /hackathon/Hackathon_Project_4/MPILEUP/ENCFF000ARG.benchmarked.mpileup\n",
    "echo\n",
    "head /hackathon/Hackathon_Project_4/MPILEUP/ENCFF000ARI.benchmarked.mpileup\n"
   ]
  },
  {
   "cell_type": "code",
   "execution_count": null,
   "metadata": {
    "collapsed": true
   },
   "outputs": [],
   "source": []
  },
  {
   "cell_type": "code",
   "execution_count": null,
   "metadata": {
    "collapsed": true
   },
   "outputs": [],
   "source": []
  },
  {
   "cell_type": "code",
   "execution_count": null,
   "metadata": {
    "collapsed": true
   },
   "outputs": [],
   "source": []
  },
  {
   "cell_type": "code",
   "execution_count": null,
   "metadata": {
    "collapsed": true
   },
   "outputs": [],
   "source": []
  },
  {
   "cell_type": "code",
   "execution_count": null,
   "metadata": {
    "collapsed": true
   },
   "outputs": [],
   "source": []
  },
  {
   "cell_type": "code",
   "execution_count": null,
   "metadata": {
    "collapsed": true
   },
   "outputs": [],
   "source": []
  },
  {
   "cell_type": "code",
   "execution_count": null,
   "metadata": {
    "collapsed": true
   },
   "outputs": [],
   "source": [
    "wc -"
   ]
  },
  {
   "cell_type": "code",
   "execution_count": 68,
   "metadata": {
    "collapsed": true
   },
   "outputs": [],
   "source": [
    "mkdir /hackathon/Hackathon_Project_4/MPILEUP"
   ]
  },
  {
   "cell_type": "code",
   "execution_count": null,
   "metadata": {
    "collapsed": true
   },
   "outputs": [],
   "source": []
  },
  {
   "cell_type": "code",
   "execution_count": null,
   "metadata": {
    "collapsed": true
   },
   "outputs": [],
   "source": []
  },
  {
   "cell_type": "code",
   "execution_count": null,
   "metadata": {
    "collapsed": true
   },
   "outputs": [],
   "source": []
  },
  {
   "cell_type": "code",
   "execution_count": null,
   "metadata": {
    "collapsed": true
   },
   "outputs": [],
   "source": []
  },
  {
   "cell_type": "code",
   "execution_count": null,
   "metadata": {
    "collapsed": true
   },
   "outputs": [],
   "source": []
  },
  {
   "cell_type": "code",
   "execution_count": null,
   "metadata": {
    "collapsed": true
   },
   "outputs": [],
   "source": []
  }
 ],
 "metadata": {
  "kernelspec": {
   "display_name": "Python [conda root]",
   "language": "python",
   "name": "conda-root-py"
  },
  "language_info": {
   "codemirror_mode": {
    "name": "ipython",
    "version": 2
   },
   "file_extension": ".py",
   "mimetype": "text/x-python",
   "name": "python",
   "nbconvert_exporter": "python",
   "pygments_lexer": "ipython2",
   "version": "2.7.12"
  }
 },
 "nbformat": 4,
 "nbformat_minor": 1
}
